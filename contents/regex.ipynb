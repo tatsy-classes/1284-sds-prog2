{
 "cells": [
  {
   "cell_type": "markdown",
   "metadata": {},
   "source": [
    "(sec:regex)=\n",
    "# 正規表現の基礎"
   ]
  },
  {
   "cell_type": "markdown",
   "metadata": {},
   "source": [
    "本節では、正規表現の基本について学ぶ。"
   ]
  },
  {
   "cell_type": "markdown",
   "metadata": {},
   "source": [
    "## 正規表現とは？"
   ]
  },
  {
   "cell_type": "markdown",
   "metadata": {},
   "source": [
    "正規表現 (regular expression)とは、特定の文字パターンに合致する文字列を見つける仕組みを指す。"
   ]
  },
  {
   "cell_type": "code",
   "execution_count": 1,
   "metadata": {},
   "outputs": [],
   "source": [
    "import re"
   ]
  },
  {
   "cell_type": "code",
   "execution_count": 3,
   "metadata": {},
   "outputs": [
    {
     "name": "stdout",
     "output_type": "stream",
     "text": [
      "Matched text is \"Hello\"\n"
     ]
    }
   ],
   "source": [
    "text = \"Hello, world!\"\n",
    "pat = re.compile(\"Hello\")\n",
    "match = pat.search(text)\n",
    "if match is not None:\n",
    "    print(f'Matched text is \"{match.group(0):s}\"')\n",
    "else:\n",
    "    print(\"Pattern not matched.\")"
   ]
  },
  {
   "cell_type": "markdown",
   "metadata": {},
   "source": [
    "正規表現は大文字と小文字を区別するので、`re.compile(\"hello\")`のように`pat`を定義すると、マッチしなくなる。大文字小文字を区別せずに文字列のマッチを検索する方法もあるので後述する。"
   ]
  },
  {
   "cell_type": "markdown",
   "metadata": {},
   "source": [
    "正規表現のパターン文字列である`pat`には指定した文字列の中に正規表現とマッチする文字列が存在するかを調べる`search`の他にも\n",
    "\n",
    "- 文字列の先頭から見て正規表現とマッチするかを調べる `match`\n",
    "- 文字列が正規表現と完全にマッチするかを調べる `fullmatch`\n",
    "- マッチした文字列を別の文字列で置き換える `sub`\n",
    "\n",
    "などのメソッドが用意されている。"
   ]
  },
  {
   "cell_type": "markdown",
   "metadata": {},
   "source": [
    "**matchの使用例**"
   ]
  },
  {
   "cell_type": "code",
   "execution_count": 4,
   "metadata": {},
   "outputs": [
    {
     "name": "stdout",
     "output_type": "stream",
     "text": [
      "Pattern not found!\n"
     ]
    }
   ],
   "source": [
    "text = \"Hello, world!\"\n",
    "pat = re.compile(\"ello\")\n",
    "if pat.match(text) is not None:\n",
    "    print(\"Pattern found!\")\n",
    "else:\n",
    "    print(\"Pattern not found!\")"
   ]
  },
  {
   "cell_type": "code",
   "execution_count": 5,
   "metadata": {},
   "outputs": [
    {
     "name": "stdout",
     "output_type": "stream",
     "text": [
      "Pattern found!\n"
     ]
    }
   ],
   "source": [
    "text = \"Hello, world!\"\n",
    "pat = re.compile(\"Hello\")\n",
    "if pat.match(text) is not None:\n",
    "    print(\"Pattern found!\")\n",
    "else:\n",
    "    print(\"Pattern not found!\")"
   ]
  },
  {
   "cell_type": "markdown",
   "metadata": {},
   "source": [
    "**fullmatch**の使用例"
   ]
  },
  {
   "cell_type": "code",
   "execution_count": 6,
   "metadata": {},
   "outputs": [
    {
     "name": "stdout",
     "output_type": "stream",
     "text": [
      "Pattern does not match!\n"
     ]
    }
   ],
   "source": [
    "text = \"Hello, world!\"\n",
    "pat = re.compile(\"Hello, world\")\n",
    "if pat.fullmatch(text) is not None:\n",
    "    print(\"Pattern matches perfectly!\")\n",
    "else:\n",
    "    print(\"Pattern does not match!\")"
   ]
  },
  {
   "cell_type": "code",
   "execution_count": 7,
   "metadata": {},
   "outputs": [
    {
     "name": "stdout",
     "output_type": "stream",
     "text": [
      "Pattern matches perfectly!\n"
     ]
    }
   ],
   "source": [
    "text = \"Hello, world!\"\n",
    "pat = re.compile(\"Hello, world!\")\n",
    "if pat.fullmatch(text) is not None:\n",
    "    print(\"Pattern matches perfectly!\")\n",
    "else:\n",
    "    print(\"Pattern does not match!\")"
   ]
  },
  {
   "cell_type": "markdown",
   "metadata": {},
   "source": [
    "**subの使用例**"
   ]
  },
  {
   "cell_type": "code",
   "execution_count": 8,
   "metadata": {},
   "outputs": [
    {
     "name": "stdout",
     "output_type": "stream",
     "text": [
      "Hello, Japan!\n"
     ]
    }
   ],
   "source": [
    "text = \"Hello, world!\"\n",
    "pat = re.compile(\"world\")\n",
    "text2 = pat.sub(\"Japan\", text)\n",
    "print(text2)"
   ]
  },
  {
   "cell_type": "markdown",
   "metadata": {},
   "source": [
    "```{admonition} 正規表現の基本\n",
    ":class: note\n",
    "\n",
    "- 正規表現は特定の文字パターンに合致する文字列を探すのに用いる\n",
    "- Pythonにおいては標準ライブラリの`re`を用いる\n",
    "- `re.compile`で文字パターンを定義した後、`search`や`fullmatch`を使って文字列を解析する\n",
    "```"
   ]
  },
  {
   "cell_type": "markdown",
   "metadata": {},
   "source": [
    "## 正規表現と決定性有限オートマトン"
   ]
  },
  {
   "cell_type": "markdown",
   "metadata": {},
   "source": [
    "## 正規表現のシンタックス 初級編"
   ]
  },
  {
   "cell_type": "markdown",
   "metadata": {},
   "source": [
    "正規表現は特定の文字列を探すだけでなく、より複雑なパターンを持った文字列を探すことができる。"
   ]
  },
  {
   "cell_type": "markdown",
   "metadata": {},
   "source": [
    "### 何らかの1文字"
   ]
  },
  {
   "cell_type": "markdown",
   "metadata": {},
   "source": [
    "どこかに1文字、何でも良いので文字が存在することを表したい場合には、`a.c`のように`.`を用いる。この正規表現は例えば`adc`や`aBc`など、`.`の部分に何らか1文字がはいるような文字列とマッチするが、`a.c`のように`.`に対応する場所に2文字以上ある場合にはマッチしない。"
   ]
  },
  {
   "cell_type": "code",
   "execution_count": 3,
   "metadata": {
    "tags": []
   },
   "outputs": [
    {
     "name": "stdout",
     "output_type": "stream",
     "text": [
      "re.compile('a.c')\n",
      "adc : True\n",
      "aBc : True\n",
      "adBc : False\n"
     ]
    }
   ],
   "source": [
    "pat = re.compile(\"a.c\")\n",
    "print(pat)\n",
    "print(\"adc :\", pat.fullmatch(\"adc\") is not None)\n",
    "print(\"aBc :\", pat.fullmatch(\"aBc\") is not None)\n",
    "print(\"adBc :\", pat.fullmatch(\"adBc\") is not None)"
   ]
  },
  {
   "cell_type": "markdown",
   "metadata": {},
   "source": [
    "### 文字の繰り返し"
   ]
  },
  {
   "cell_type": "markdown",
   "metadata": {},
   "source": [
    "a, b, cの3文字だけからなる単語が存在するかどうかを調べたい場合には、文字の繰り返しを表す`*`あるいは`+`を用いる。例えば、`aaabcccc`のような文字列とマッチさせたい場合`a+bc+`のように繰り返したい文字の後に`+`あるいは`*`をつける。"
   ]
  },
  {
   "cell_type": "code",
   "execution_count": 4,
   "metadata": {},
   "outputs": [
    {
     "name": "stdout",
     "output_type": "stream",
     "text": [
      "re.compile('a+bc+')\n",
      "aaabcccc : True\n"
     ]
    }
   ],
   "source": [
    "text = \"aaabcccc\"\n",
    "pat = re.compile(\"a+bc+\")\n",
    "print(pat)\n",
    "print(text, \":\", pat.fullmatch(text) is not None)"
   ]
  },
  {
   "cell_type": "markdown",
   "metadata": {},
   "source": [
    "同じ文字の繰り返しを表す`+`と`*`は、その繰り返し回数の見方に違いがある。`+`は直前の文字が**1回以上繰り返す**場合にのみマッチするのに対し、`*`は**0回以上の繰り返し**にもマッチする。従って、`ab+`というパターンは`a`にはマッチせず、`ab`にはマッチする一方で、`ab*`というパターンは`a`にマッチし、なおかつ`ab`にもマッチする。"
   ]
  },
  {
   "cell_type": "code",
   "execution_count": 5,
   "metadata": {},
   "outputs": [],
   "source": [
    "text1 = \"a\"\n",
    "text2 = \"ab\""
   ]
  },
  {
   "cell_type": "code",
   "execution_count": 6,
   "metadata": {},
   "outputs": [
    {
     "name": "stdout",
     "output_type": "stream",
     "text": [
      "re.compile('ab+')\n",
      "a : False\n",
      "ab : True\n"
     ]
    }
   ],
   "source": [
    "pat = re.compile(\"ab+\")\n",
    "print(pat)\n",
    "print(text1, \":\", pat.fullmatch(text1) is not None)\n",
    "print(text2, \":\", pat.fullmatch(text2) is not None)"
   ]
  },
  {
   "cell_type": "code",
   "execution_count": 7,
   "metadata": {},
   "outputs": [
    {
     "name": "stdout",
     "output_type": "stream",
     "text": [
      "re.compile('ab*')\n",
      "a : True\n",
      "ab : True\n"
     ]
    }
   ],
   "source": [
    "pat = re.compile(\"ab*\")\n",
    "print(pat)\n",
    "print(text1, \":\", pat.fullmatch(text1) is not None)\n",
    "print(text2, \":\", pat.fullmatch(text2) is not None)"
   ]
  },
  {
   "cell_type": "markdown",
   "metadata": {
    "tags": []
   },
   "source": [
    "加えて、回数を制限した文字の繰り返しを定義することもできる。例えば、`abbccc`は検出したいが、`c`が4回以上繰り返す場合や`c`が含まれない場合は除外したいという場合には、繰り返し回数は1-3回に指定して、`abc{1,3}`のような文字パターンを定義することができる。"
   ]
  },
  {
   "cell_type": "code",
   "execution_count": 8,
   "metadata": {
    "tags": []
   },
   "outputs": [
    {
     "name": "stdout",
     "output_type": "stream",
     "text": [
      "abcc : True\n",
      "abcccc : False\n"
     ]
    }
   ],
   "source": [
    "pat = re.compile(\"abc{1,3}\")\n",
    "print(\"abcc :\", pat.fullmatch(\"abcc\") is not None)\n",
    "print(\"abcccc :\", pat.fullmatch(\"abcccc\") is not None)"
   ]
  },
  {
   "cell_type": "markdown",
   "metadata": {},
   "source": [
    "### 文字セット"
   ]
  },
  {
   "cell_type": "markdown",
   "metadata": {},
   "source": [
    "ここまでの例では、`+`や`*`といった文字の繰り返しは、特定の1文字にしか適用していなかった。しかし、Pythonに限らず、正規表現には特定の範囲の文字を扱う**文字セット**が用意されている。\n",
    "\n",
    "例えば、`[a-z]`のように書くと、小文字のアルファベット全てにマッチする文字パターンを表すことができる。これに`+`や`*`を組み合わせると小文字アルファベットだけで構成されている単語かどうかをチェックすることができる。"
   ]
  },
  {
   "cell_type": "code",
   "execution_count": 9,
   "metadata": {
    "tags": []
   },
   "outputs": [
    {
     "name": "stdout",
     "output_type": "stream",
     "text": [
      "Hello :  False\n",
      "hello :  True\n"
     ]
    }
   ],
   "source": [
    "pat = re.compile(\"[a-z]+\")\n",
    "print(\"Hello : \", pat.fullmatch(\"Hello\") is not None)\n",
    "print(\"hello : \", pat.fullmatch(\"hello\") is not None)"
   ]
  },
  {
   "cell_type": "markdown",
   "metadata": {},
   "source": [
    "また、Pythonの正規表現ではASCIIコード表で連続する文字種を文字セットの始点と終点に指定することができるため、`[x-z]`のように書くと、小文字でx, y, zのいずれかにマッチするような文字パターンを作ることもできる。"
   ]
  },
  {
   "cell_type": "markdown",
   "metadata": {},
   "source": [
    "文字セットを表す`[...]`の内側には複数の文字や文字の範囲を含めることができ、例えば、大文字、小文字の全てのアルファベットと、0-9の数字を含めたい場合、`[a-zA-Z0-9]`のような文字パターンを作ることができる。これに加えて、さらに、ハイフン (`-`)やスペース (` `)を含めたい場合には `[a-zA-Z0-9- ]`のように書けばよい。"
   ]
  },
  {
   "cell_type": "code",
   "execution_count": 10,
   "metadata": {
    "tags": []
   },
   "outputs": [
    {
     "name": "stdout",
     "output_type": "stream",
     "text": [
      "2-1 Naka Kunitachi-shi : True\n"
     ]
    }
   ],
   "source": [
    "text = \"2-1 Naka Kunitachi-shi\"\n",
    "pat = re.compile(\"[a-zA-Z0-9- ]+\")\n",
    "print(text, \":\", pat.fullmatch(text) is not None)"
   ]
  },
  {
   "cell_type": "markdown",
   "metadata": {},
   "source": [
    "### 最短マッチ、最長マッチ"
   ]
  },
  {
   "cell_type": "code",
   "execution_count": null,
   "metadata": {},
   "outputs": [],
   "source": []
  },
  {
   "cell_type": "markdown",
   "metadata": {},
   "source": [
    "### 接頭辞、接尾辞"
   ]
  },
  {
   "cell_type": "code",
   "execution_count": null,
   "metadata": {},
   "outputs": [],
   "source": []
  },
  {
   "cell_type": "markdown",
   "metadata": {},
   "source": [
    "### エスケープ文字"
   ]
  },
  {
   "cell_type": "markdown",
   "metadata": {},
   "source": [
    "## 正規表現のシンタックス 中級編"
   ]
  },
  {
   "cell_type": "markdown",
   "metadata": {},
   "source": [
    "### 検索方法の詳細設定"
   ]
  },
  {
   "cell_type": "markdown",
   "metadata": {
    "editable": true,
    "slideshow": {
     "slide_type": ""
    },
    "tags": []
   },
   "source": [
    "### サブグループ"
   ]
  },
  {
   "cell_type": "markdown",
   "metadata": {},
   "source": [
    "上記の例では、マッチした文字列を取り出すために `match.group(0)`のように`group`メソッドに`0`を指定した。この`group`はマッチした文字列内にあるサブグループのことで、`0`はマッチした文章全体を示す。また`match.group(0)`は`match[0]`とも書くことができる。"
   ]
  },
  {
   "cell_type": "markdown",
   "metadata": {},
   "source": [
    "### 名前付きサブグループ"
   ]
  },
  {
   "cell_type": "markdown",
   "metadata": {},
   "source": [
    "### 日本語の取り扱い"
   ]
  },
  {
   "cell_type": "code",
   "execution_count": null,
   "metadata": {},
   "outputs": [],
   "source": []
  }
 ],
 "metadata": {
  "kernelspec": {
   "display_name": "Python 3 (ipykernel)",
   "language": "python",
   "name": "python3"
  },
  "language_info": {
   "codemirror_mode": {
    "name": "ipython",
    "version": 3
   },
   "file_extension": ".py",
   "mimetype": "text/x-python",
   "name": "python",
   "nbconvert_exporter": "python",
   "pygments_lexer": "ipython3",
   "version": "3.11.6"
  }
 },
 "nbformat": 4,
 "nbformat_minor": 4
}
