{
 "cells": [
  {
   "cell_type": "markdown",
   "metadata": {},
   "source": [
    "(sec:scraping)=\n",
    "# 正規表現とスクレイピング"
   ]
  },
  {
   "cell_type": "markdown",
   "metadata": {},
   "source": [
    "本節では、正規表現と、それを用いたHTMLのスクレイピングについて学ぶ。"
   ]
  },
  {
   "cell_type": "markdown",
   "metadata": {},
   "source": [
    "## 正規表現の基本"
   ]
  },
  {
   "cell_type": "code",
   "execution_count": 1,
   "metadata": {},
   "outputs": [],
   "source": [
    "import re"
   ]
  },
  {
   "cell_type": "code",
   "execution_count": 2,
   "metadata": {},
   "outputs": [
    {
     "name": "stdout",
     "output_type": "stream",
     "text": [
      "Matched text is \"Hello\"\n"
     ]
    }
   ],
   "source": [
    "text = \"Hello, world!\"\n",
    "pat = re.compile(\"Hello\")\n",
    "match = pat.search(text)\n",
    "if match is not None:\n",
    "    print(f\"Matched text is \\\"{match.group(0):s}\\\"\")\n",
    "else:\n",
    "    print(\"Pattern not matched.\")"
   ]
  },
  {
   "cell_type": "markdown",
   "metadata": {},
   "source": [
    "正規表現は大文字と小文字を区別するので、`re.compile(\"hello\")`のように`pat`を定義すると、マッチしなくなる。大文字小文字を区別せずに文字列のマッチを検索する方法もあるので後述する。"
   ]
  },
  {
   "cell_type": "markdown",
   "metadata": {},
   "source": [
    "正規表現のパターン文字列である`pat`には指定した文字列の中に正規表現とマッチする文字列が存在するかを調べる`search`の他にも\n",
    "\n",
    "- 文字列の先頭から見て正規表現とマッチするかを調べる `match`\n",
    "- 文字列が正規表現と完全にマッチするかを調べる `fullmatch`\n",
    "- マッチした文字列を別の文字列で置き換える `sub`\n",
    "\n",
    "などのメソッドが用意されている。"
   ]
  },
  {
   "cell_type": "markdown",
   "metadata": {},
   "source": [
    "**matchの使用例**"
   ]
  },
  {
   "cell_type": "code",
   "execution_count": 3,
   "metadata": {},
   "outputs": [
    {
     "name": "stdout",
     "output_type": "stream",
     "text": [
      "Pattern not found!\n"
     ]
    }
   ],
   "source": [
    "text = \"Hello, world!\"\n",
    "pat = re.compile(\"ello\")\n",
    "if pat.match(text) is not None:\n",
    "    print(\"Pattern found!\")\n",
    "else:\n",
    "    print(\"Pattern not found!\")"
   ]
  },
  {
   "cell_type": "code",
   "execution_count": 4,
   "metadata": {},
   "outputs": [
    {
     "name": "stdout",
     "output_type": "stream",
     "text": [
      "Pattern found!\n"
     ]
    }
   ],
   "source": [
    "text = \"Hello, world!\"\n",
    "pat = re.compile(\"Hello\")\n",
    "if pat.match(text) is not None:\n",
    "    print(\"Pattern found!\")\n",
    "else:\n",
    "    print(\"Pattern not found!\")"
   ]
  },
  {
   "cell_type": "markdown",
   "metadata": {},
   "source": [
    "**fullmatch**の使用例"
   ]
  },
  {
   "cell_type": "code",
   "execution_count": 15,
   "metadata": {},
   "outputs": [
    {
     "name": "stdout",
     "output_type": "stream",
     "text": [
      "Pattern does not match!\n"
     ]
    }
   ],
   "source": [
    "text = \"Hello, world!\"\n",
    "pat = re.compile(\"Hello, world\")\n",
    "if pat.fullmatch(text) is not None:\n",
    "    print(\"Pattern matches perfectly!\")\n",
    "else:\n",
    "    print(\"Pattern does not match!\")"
   ]
  },
  {
   "cell_type": "code",
   "execution_count": 16,
   "metadata": {},
   "outputs": [
    {
     "name": "stdout",
     "output_type": "stream",
     "text": [
      "Pattern matches perfectly!\n"
     ]
    }
   ],
   "source": [
    "text = \"Hello, world!\"\n",
    "pat = re.compile(\"Hello, world!\")\n",
    "if pat.fullmatch(text) is not None:\n",
    "    print(\"Pattern matches perfectly!\")\n",
    "else:\n",
    "    print(\"Pattern does not match!\")"
   ]
  },
  {
   "cell_type": "markdown",
   "metadata": {},
   "source": [
    "**subの使用例**"
   ]
  },
  {
   "cell_type": "code",
   "execution_count": 10,
   "metadata": {},
   "outputs": [
    {
     "name": "stdout",
     "output_type": "stream",
     "text": [
      "Hello, Japan!\n"
     ]
    }
   ],
   "source": [
    "text = \"Hello, world!\"\n",
    "pat = re.compile(\"world\")\n",
    "text2 = pat.sub(\"Japan\", text)\n",
    "print(text2)"
   ]
  },
  {
   "cell_type": "markdown",
   "metadata": {},
   "source": [
    "### 正規表現のシンタックス"
   ]
  },
  {
   "cell_type": "markdown",
   "metadata": {},
   "source": [
    "正規表現は特定の文字列を探すだけでなく、より複雑なパターンを持った文字列を探すことができる。"
   ]
  },
  {
   "cell_type": "markdown",
   "metadata": {},
   "source": [
    "#### 何らかの1文字"
   ]
  },
  {
   "cell_type": "code",
   "execution_count": null,
   "metadata": {},
   "outputs": [],
   "source": []
  },
  {
   "cell_type": "markdown",
   "metadata": {},
   "source": [
    "#### 文字の繰り返し"
   ]
  },
  {
   "cell_type": "markdown",
   "metadata": {},
   "source": [
    "a, b, cの3文字だけからなる単語が存在するかどうかを調べたい場合には、文字の繰り返しを表す`*`あるいは`+`を用いて、以下のようにパターン文字列を記述する。"
   ]
  },
  {
   "cell_type": "code",
   "execution_count": 29,
   "metadata": {},
   "outputs": [
    {
     "name": "stdout",
     "output_type": "stream",
     "text": [
      "\"bake\" contains characters other than a, b, and c\n"
     ]
    }
   ],
   "source": [
    "text = \"bake\"\n",
    "pat = re.compile(\"[abc]+\")\n",
    "if pat.fullmatch(text) is not None:\n",
    "    print(f\"\\\"{text:s}\\\" consists of a, b, and c\")\n",
    "else:\n",
    "    print(f\"\\\"{text:s}\\\" contains characters other than a, b, and c\")"
   ]
  },
  {
   "cell_type": "code",
   "execution_count": 30,
   "metadata": {},
   "outputs": [
    {
     "name": "stdout",
     "output_type": "stream",
     "text": [
      "\"cab\" consists of a, b, and c\n"
     ]
    }
   ],
   "source": [
    "text = \"cab\"\n",
    "pat = re.compile(\"[abc]+\")\n",
    "if pat.fullmatch(text) is not None:\n",
    "    print(f\"\\\"{text:s}\\\" consists of a, b, and c\")\n",
    "else:\n",
    "    print(f\"\\\"{text:s}\\\" contains characters other than a, b, and c\")"
   ]
  },
  {
   "cell_type": "markdown",
   "metadata": {},
   "source": [
    "同じ文字の繰り返しを表す`+`と`*`は、その繰り返し回数の見方に違いがある。`+`は直前の文字が**1回以上繰り返す**場合にのみマッチするのに対し、`*`は**0回以上の繰り返し**にもマッチする。従って、`ab+`というパターンは`a`にはマッチせず、`ab`にはマッチする一方で、`ab*`というパターンは`a`にマッチし、なおかつ`ab`にもマッチする。"
   ]
  },
  {
   "cell_type": "code",
   "execution_count": 31,
   "metadata": {},
   "outputs": [],
   "source": [
    "text1 = \"a\"\n",
    "text2 = \"ab\""
   ]
  },
  {
   "cell_type": "code",
   "execution_count": 32,
   "metadata": {},
   "outputs": [
    {
     "name": "stdout",
     "output_type": "stream",
     "text": [
      "re.compile('ab+')\n",
      "a : False\n",
      "ab : True\n"
     ]
    }
   ],
   "source": [
    "pat = re.compile(\"ab+\")\n",
    "print(pat)\n",
    "print(text1, \":\", pat.fullmatch(text1) is not None)\n",
    "print(text2, \":\", pat.fullmatch(text2) is not None)"
   ]
  },
  {
   "cell_type": "code",
   "execution_count": 33,
   "metadata": {},
   "outputs": [
    {
     "name": "stdout",
     "output_type": "stream",
     "text": [
      "re.compile('ab*')\n",
      "a : True\n",
      "ab : True\n"
     ]
    }
   ],
   "source": [
    "pat = re.compile(\"ab*\")\n",
    "print(pat)\n",
    "print(text1, \":\", pat.fullmatch(text1) is not None)\n",
    "print(text2, \":\", pat.fullmatch(text2) is not None)"
   ]
  },
  {
   "cell_type": "markdown",
   "metadata": {},
   "source": [
    "#### 文字セット"
   ]
  },
  {
   "cell_type": "code",
   "execution_count": null,
   "metadata": {},
   "outputs": [],
   "source": []
  },
  {
   "cell_type": "markdown",
   "metadata": {},
   "source": [
    "#### 接頭辞、接尾辞"
   ]
  },
  {
   "cell_type": "code",
   "execution_count": null,
   "metadata": {},
   "outputs": [],
   "source": []
  },
  {
   "cell_type": "markdown",
   "metadata": {},
   "source": [
    "#### 最短マッチ、最長マッチ"
   ]
  },
  {
   "cell_type": "code",
   "execution_count": null,
   "metadata": {},
   "outputs": [],
   "source": []
  },
  {
   "cell_type": "markdown",
   "metadata": {},
   "source": [
    "#### 日本語の取り扱い"
   ]
  },
  {
   "cell_type": "markdown",
   "metadata": {
    "editable": true,
    "slideshow": {
     "slide_type": ""
    },
    "tags": []
   },
   "source": [
    "### サブグループ"
   ]
  },
  {
   "cell_type": "markdown",
   "metadata": {},
   "source": [
    "上記の例では、マッチした文字列を取り出すために `match.group(0)`のように`group`メソッドに`0`を指定した。この`group`はマッチした文字列内にあるサブグループのことで、`0`はマッチした文章全体を示す。また`match.group(0)`は`match[0]`とも書くことができる。"
   ]
  },
  {
   "cell_type": "markdown",
   "metadata": {},
   "source": [
    "## urllib"
   ]
  },
  {
   "cell_type": "markdown",
   "metadata": {},
   "source": [
    "Pythonでウェブページのデータをサーバーから取得するための標準ライブラリに`urllib`がある。"
   ]
  },
  {
   "cell_type": "code",
   "execution_count": 7,
   "metadata": {},
   "outputs": [
    {
     "name": "stdout",
     "output_type": "stream",
     "text": [
      "19468 bytes received!\n"
     ]
    }
   ],
   "source": [
    "import urllib\n",
    "\n",
    "try:\n",
    "    req = urllib.request.urlopen(\"https://google.co.jp/\")\n",
    "except urllib.error.HTTPError as e:\n",
    "    print(e)\n",
    "\n",
    "if req is not None:\n",
    "    body = req.read()\n",
    "    print(f\"{len(body):d} bytes received!\")\n",
    "else:\n",
    "    print(\"HTTP request failed!\")"
   ]
  },
  {
   "cell_type": "code",
   "execution_count": 8,
   "metadata": {},
   "outputs": [],
   "source": [
    "body = body.decode(\"shift-jis\")"
   ]
  },
  {
   "cell_type": "code",
   "execution_count": 9,
   "metadata": {},
   "outputs": [
    {
     "name": "stdout",
     "output_type": "stream",
     "text": [
      "https://www.google.co.jp/imghp?hl=ja&tab=wi\n"
     ]
    }
   ],
   "source": [
    "pat = re.compile(\"href=\\\"(.*?)\\\"\")\n",
    "match = pat.search(body)\n",
    "if match is not None:\n",
    "    print(match.group(1))"
   ]
  },
  {
   "cell_type": "markdown",
   "metadata": {},
   "source": [
    "#### 練習問題\n",
    "- Googleのトップページ (https://www.google.co.jp/) から、Googleのロゴ画像のURLを取り出しなさい。"
   ]
  },
  {
   "cell_type": "code",
   "execution_count": null,
   "metadata": {},
   "outputs": [],
   "source": []
  }
 ],
 "metadata": {
  "kernelspec": {
   "display_name": "Python 3 (ipykernel)",
   "language": "python",
   "name": "python3"
  },
  "language_info": {
   "codemirror_mode": {
    "name": "ipython",
    "version": 3
   },
   "file_extension": ".py",
   "mimetype": "text/x-python",
   "name": "python",
   "nbconvert_exporter": "python",
   "pygments_lexer": "ipython3",
   "version": "3.11.4"
  }
 },
 "nbformat": 4,
 "nbformat_minor": 4
}
