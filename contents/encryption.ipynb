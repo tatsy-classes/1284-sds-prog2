{
 "cells": [
  {
   "cell_type": "markdown",
   "metadata": {},
   "source": [
    "(sec:encryption)=\n",
    "# 暗号化とSSL通信\n"
   ]
  },
  {
   "cell_type": "markdown",
   "metadata": {},
   "source": [
    "## RSA暗号\n"
   ]
  },
  {
   "cell_type": "markdown",
   "metadata": {},
   "source": [
    "暗号文 = 平文$^E\\quad\\mathrm{mod}~N$\n",
    "\n",
    "平文 = 暗号文$^D\\quad\\mathrm{mod}~N$\n"
   ]
  },
  {
   "cell_type": "code",
   "execution_count": 1,
   "metadata": {},
   "outputs": [
    {
     "name": "stdout",
     "output_type": "stream",
     "text": [
      "1\n"
     ]
    }
   ],
   "source": [
    "import math\n",
    "import random\n",
    "\n",
    "p = 107\n",
    "q = 113\n",
    "N = p * q\n",
    "L = math.lcm(p - 1, q - 1)\n",
    "\n",
    "while True:\n",
    "    E = random.randint(2, L - 1)\n",
    "    if math.gcd(E, L) == 1:\n",
    "        break\n",
    "\n",
    "print(math.gcd(E, L))"
   ]
  },
  {
   "cell_type": "markdown",
   "metadata": {},
   "source": [
    "### フェルマーの小定理\n"
   ]
  },
  {
   "cell_type": "markdown",
   "metadata": {},
   "source": [
    "$\n",
    "a^{p-1} \\equiv 1 \\quad \\mathrm{mod}~p\n",
    "$\n"
   ]
  },
  {
   "cell_type": "code",
   "execution_count": 2,
   "metadata": {},
   "outputs": [],
   "source": [
    "def modpow(a, n, mod):\n",
    "    res = 1\n",
    "    while n > 0:\n",
    "        if n % 2 != 0:\n",
    "            res = (res * a) % mod\n",
    "        a = (a * a) % mod\n",
    "        n = n >> 1\n",
    "\n",
    "    return res\n",
    "\n",
    "\n",
    "def modinv(a, mod):\n",
    "    return modpow(a, mod - 2, mod)"
   ]
  },
  {
   "cell_type": "markdown",
   "metadata": {},
   "source": [
    "Euclid の互除法\n"
   ]
  },
  {
   "cell_type": "code",
   "execution_count": 3,
   "metadata": {},
   "outputs": [],
   "source": [
    "def modinv(a, mod):\n",
    "    b = mod\n",
    "    u = 1\n",
    "    v = 0\n",
    "    while b != 0:\n",
    "        t = a // b\n",
    "        a -= t * b\n",
    "        a, b = b, a\n",
    "        u -= t * v\n",
    "        u, v = v, u\n",
    "\n",
    "    u %= mod\n",
    "    if u < 0:\n",
    "        u += mod\n",
    "\n",
    "    return u"
   ]
  },
  {
   "cell_type": "code",
   "execution_count": 4,
   "metadata": {},
   "outputs": [
    {
     "name": "stdout",
     "output_type": "stream",
     "text": [
      "1\n"
     ]
    }
   ],
   "source": [
    "D = modinv(E, L)\n",
    "print(D * E % L)"
   ]
  },
  {
   "cell_type": "code",
   "execution_count": 5,
   "metadata": {},
   "outputs": [
    {
     "data": {
      "text/plain": [
       "(12091, 5936, 237, 1077)"
      ]
     },
     "execution_count": 5,
     "metadata": {},
     "output_type": "execute_result"
    }
   ],
   "source": [
    "N, L, D, E"
   ]
  },
  {
   "cell_type": "code",
   "execution_count": 8,
   "metadata": {},
   "outputs": [
    {
     "name": "stdout",
     "output_type": "stream",
     "text": [
      "11950\n"
     ]
    }
   ],
   "source": [
    "msg = 1021\n",
    "enc = modpow(msg, D, N)\n",
    "print(enc)"
   ]
  },
  {
   "cell_type": "code",
   "execution_count": 7,
   "metadata": {},
   "outputs": [
    {
     "name": "stdout",
     "output_type": "stream",
     "text": [
      "1021\n"
     ]
    }
   ],
   "source": [
    "dec = modpow(enc, E, N)\n",
    "print(dec)"
   ]
  },
  {
   "cell_type": "markdown",
   "metadata": {},
   "source": [
    "## RSA暗号の解読\n"
   ]
  },
  {
   "cell_type": "markdown",
   "metadata": {},
   "source": [
    "- 公開鍵は E と N\n",
    "- E, N のペアから D を求めるには L を知る必要がある\n",
    "- L を求めるには p-1, q-1 が必要\n",
    "- p, q を知るには N を素因数分解すれば良い\n"
   ]
  },
  {
   "cell_type": "markdown",
   "metadata": {},
   "source": [
    "## SSLとTLS\n"
   ]
  },
  {
   "cell_type": "markdown",
   "metadata": {},
   "source": [
    "- SSL = Secure Socket Layer\n",
    "- TLS = Transport Layer Security\n",
    "- 機密性の担保には対称暗号を使う\n",
    "- 対称暗号の送信には公開鍵を使う\n",
    "- 改ざんを防ぐには一方向ハッシュ関数を用いたメッセージ認証を用いる\n"
   ]
  },
  {
   "cell_type": "markdown",
   "metadata": {},
   "source": [
    "## 参考文献\n",
    "\n",
    "1. 結城 浩 『暗号技術入門』 第3版 秘密の国のアリス\n"
   ]
  },
  {
   "cell_type": "markdown",
   "metadata": {},
   "source": []
  }
 ],
 "metadata": {
  "kernelspec": {
   "display_name": "sdsprog2-csSomh0A-py3.11",
   "language": "python",
   "name": "python3"
  },
  "language_info": {
   "codemirror_mode": {
    "name": "ipython",
    "version": 3
   },
   "file_extension": ".py",
   "mimetype": "text/x-python",
   "name": "python",
   "nbconvert_exporter": "python",
   "pygments_lexer": "ipython3",
   "version": "3.11.4"
  }
 },
 "nbformat": 4,
 "nbformat_minor": 2
}
