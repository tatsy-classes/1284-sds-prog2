{
 "cells": [
  {
   "cell_type": "markdown",
   "metadata": {},
   "source": [
    "(sec:web-server)=\n",
    "# 簡易ウェブサーバの実装"
   ]
  },
  {
   "cell_type": "markdown",
   "metadata": {},
   "source": [
    "実はPythonにはデフォルトで簡易ウェブサーバを立ち上げる機能が備わっている。\n",
    "\n",
    "```shell\n",
    "python -m http.server 8080\n",
    "```"
   ]
  },
  {
   "cell_type": "code",
   "execution_count": null,
   "metadata": {},
   "outputs": [],
   "source": []
  },
  {
   "cell_type": "markdown",
   "metadata": {},
   "source": [
    "## URLの待ち受け"
   ]
  },
  {
   "cell_type": "markdown",
   "metadata": {},
   "source": [
    "まずは、ソケットを用いて`localhost`の`8080`ポートで接続を待ち受けるプログラムを作成しよう。そのプログラムをターミナル環境から実行した上で、ブラウザで`localhost:8080`にアクセスしてみる。"
   ]
  },
  {
   "cell_type": "markdown",
   "metadata": {},
   "source": [
    "```text\n",
    "GET / HTTP/1.1\n",
    "Host: localhost:8080\n",
    "Connection: keep-alive\n",
    "Cache-Control: max-age=0\n",
    "sec-ch-ua: \"Brave\";v=\"125\", \"Chromium\";v=\"125\", \"Not.A/Brand\";v=\"24\"\n",
    "sec-ch-ua-mobile: ?0\n",
    "sec-ch-ua-platform: \"Windows\"\n",
    "Upgrade-Insecure-Requests: 1\n",
    "User-Agent: Mozilla/5.0 (Windows NT 10.0; Win64; x64) AppleWebKit/537.36 (KHTML, like Gecko) Chrome/125.0.0.0 Safari/537.36\n",
    "Accept: text/html,application/xhtml+xml,application/xml;q=0.9,image/avif,image/webp,image/apng,*/*;q=0.8\n",
    "Sec-GPC: 1\n",
    "Sec-Fetch-Site: none\n",
    "Sec-Fetch-Mode: navigate\n",
    "Sec-Fetch-User: ?1\n",
    "Sec-Fetch-Dest: document\n",
    "Accept-Encoding: gzip, deflate, br, zstd\n",
    "Accept-Language: ja,en;q=0.9,en-US;q=0.8\n",
    "```"
   ]
  },
  {
   "cell_type": "markdown",
   "metadata": {},
   "source": [
    "## レスポンスを返す"
   ]
  },
  {
   "cell_type": "markdown",
   "metadata": {},
   "source": [
    "そもそも、一般的に使われているサーバはどのようなレスポンスを返すのかを`example.com`で調べてみる。"
   ]
  },
  {
   "cell_type": "markdown",
   "metadata": {},
   "source": [
    "```{image} ./imgs/response_header.png\n",
    "```"
   ]
  },
  {
   "cell_type": "markdown",
   "metadata": {},
   "source": [
    "レスポンスは、ステータス・コード、レスポンス・ヘッダ、レスポンス・ボディの情報から成る。"
   ]
  },
  {
   "cell_type": "markdown",
   "metadata": {},
   "source": [
    "## レスポンス・ヘッダの生成"
   ]
  },
  {
   "cell_type": "markdown",
   "metadata": {},
   "source": [
    "先ほどは`example.com`から戻ってくるレスポンスの情報をそのまま用いた。\n",
    "\n",
    "もう少しまともなコードを書こう。"
   ]
  },
  {
   "cell_type": "markdown",
   "metadata": {},
   "source": []
  },
  {
   "cell_type": "markdown",
   "metadata": {},
   "source": [
    "## エラー・コードの表示"
   ]
  },
  {
   "cell_type": "markdown",
   "metadata": {},
   "source": [
    "## リンクされたファイルへの対応"
   ]
  },
  {
   "cell_type": "markdown",
   "metadata": {},
   "source": []
  }
 ],
 "metadata": {
  "kernelspec": {
   "display_name": "sdsprog2-csSomh0A-py3.11",
   "language": "python",
   "name": "python3"
  },
  "language_info": {
   "name": "python",
   "version": "3.11.4"
  }
 },
 "nbformat": 4,
 "nbformat_minor": 2
}
