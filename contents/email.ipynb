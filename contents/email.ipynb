{
 "cells": [
  {
   "cell_type": "markdown",
   "metadata": {},
   "source": [
    "(sec:email)=\n",
    "# Eメールの送受信"
   ]
  },
  {
   "cell_type": "code",
   "execution_count": 1,
   "metadata": {},
   "outputs": [],
   "source": [
    "from smtplib import SMTP\n",
    "\n",
    "from email.mime.text import MIMEText\n",
    "from email.mime.multipart import MIMEMultipart\n",
    "\n",
    "from email.utils import formatdate"
   ]
  },
  {
   "cell_type": "code",
   "execution_count": 4,
   "metadata": {},
   "outputs": [
    {
     "name": "stdout",
     "output_type": "stream",
     "text": [
      "mime Content-Type: text/html; charset=\"utf-8\"\n",
      "MIME-Version: 1.0\n",
      "Content-Transfer-Encoding: base64\n",
      "Subject: =?utf-8?b?44Oh44O844Or5Lu25ZCN?=\n",
      "From: source@fuga.com\n",
      "To: tatsy.mail@gmail.com\n",
      "Date: Tue, 20 Feb 2024 07:11:21 -0000\n",
      "\n",
      "44Oh44O844Or5pys5paH\n",
      "\n"
     ]
    }
   ],
   "source": [
    "def createMIMEText(from_addr, to_addr, message, subject):\n",
    "    # MIMETextを作成\n",
    "    msg = MIMEText(message, \"html\")\n",
    "    # msg = MIMEText(message)\n",
    "    # msg = MIMEText(message, \"plain\", 'utf-8')\n",
    "\n",
    "    msg[\"Subject\"] = subject\n",
    "    msg[\"From\"] = from_addr\n",
    "    msg[\"To\"] = to_addr\n",
    "    msg[\"Date\"] = formatdate()\n",
    "\n",
    "    return msg\n",
    "\n",
    "\n",
    "# メールの送り主\n",
    "from_email = \"source@fuga.com\"\n",
    "\n",
    "# メール送信先\n",
    "to_email = \"tatsy.mail@gmail.com\"\n",
    "\n",
    "# メール件名とメール本文\n",
    "subject = \"メール件名\"\n",
    "message = \"メール本文\"\n",
    "\n",
    "mime = createMIMEText(from_email, to_email, message, subject)\n",
    "print(\"mime\", mime)"
   ]
  },
  {
   "cell_type": "code",
   "execution_count": null,
   "metadata": {},
   "outputs": [],
   "source": []
  }
 ],
 "metadata": {
  "kernelspec": {
   "display_name": "sdsprog2-csSomh0A-py3.11",
   "language": "python",
   "name": "python3"
  },
  "language_info": {
   "codemirror_mode": {
    "name": "ipython",
    "version": 3
   },
   "file_extension": ".py",
   "mimetype": "text/x-python",
   "name": "python",
   "nbconvert_exporter": "python",
   "pygments_lexer": "ipython3",
   "version": "3.11.4"
  }
 },
 "nbformat": 4,
 "nbformat_minor": 2
}
