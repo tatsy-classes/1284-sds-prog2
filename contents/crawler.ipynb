{
 "cells": [
  {
   "cell_type": "code",
   "execution_count": 1,
   "metadata": {
    "tags": [
     "remove-cell"
    ]
   },
   "outputs": [],
   "source": [
    "import re\n",
    "import urllib\n",
    "import urllib.parse\n",
    "import urllib.request\n",
    "\n",
    "from IPython.display import Markdown\n",
    "from bs4 import BeautifulSoup"
   ]
  },
  {
   "cell_type": "markdown",
   "metadata": {},
   "source": [
    "(sec:crawler)=\n",
    "# 簡易クローラの作成"
   ]
  },
  {
   "cell_type": "markdown",
   "metadata": {},
   "source": [
    "**クローラ** (crawler)とは、複数のウェブページを巡回しながら情報を収集するプログラムを指す。本節では、日本語版のWikipediaを対象に、記事のリンク関係を調べるクローラを作成してみよう。"
   ]
  },
  {
   "cell_type": "markdown",
   "metadata": {},
   "source": [
    "## 本クローラの目的"
   ]
  },
  {
   "cell_type": "markdown",
   "metadata": {},
   "source": [
    "読者の皆さんは、人と人との関係を表すとき、知り合いを6人たどると、おおよそ世界中のどんな人にもたどり着ける、という話を聞いたことがあるだろうか。この話は「六次の隔たり」と呼ばれ、Wikipediaの記事としてもまとめられている。\n",
    "\n",
    "- [六次の隔たり - Wikipedia](https://ja.wikipedia.org/wiki/%E5%85%AD%E6%AC%A1%E3%81%AE%E9%9A%94%E3%81%9F%E3%82%8A)\n",
    "\n",
    "この話と同様のことを、ウィキペディアの英語ページに対して行えるウェブサイトに以下のようなものがある。いくつかの記事名を入力して試してみると、すぐに思いつくような記事名であれば、おおむね3回くらいリンクを辿ると一方の記事からもう一方の記事までたどり着けるだろう。\n",
    "\n",
    "- <https://www.sixdegreesofwikipedia.com/>\n",
    "\n",
    "なお、このウェブサイトのソースコードはGitHub上に[公開](https://github.com/jwngr/sdow)されており、クローリング済みのデータを使用して経路を計算しているため、動作が非常に速い。実際にHTTP通信を行ないながら経路を探す場合には、どのくらいの時間がかかるのか。ぜひ以下の課題を通して体験してみてほしい。"
   ]
  },
  {
   "cell_type": "markdown",
   "metadata": {},
   "source": [
    "本項では、日本語版のWikipediaを対象に「2つの記事が何次の隔たりにあるか」を調べるプログラムを作成する。実装するクローラのプログラムは**目安として100行前後**になる。"
   ]
  },
  {
   "cell_type": "markdown",
   "metadata": {},
   "source": [
    "## ステップ0: スクリプトの作成"
   ]
  },
  {
   "cell_type": "markdown",
   "metadata": {},
   "source": [
    "今回は独立したスクリプトファイルとしてクローラを作成するので、まずは`crawler.py`のような名前でPythonスクリプトを作成しよう。\n",
    "\n",
    "スクリプトファイルが作成できたら、まずは、以下のように記述して、コマンドラインから実行した際にプログラム中から`main`関数が呼び出されるようにしておく。\n",
    "\n",
    "```python\n",
    "def main():\n",
    "    # 空のメイン関数\n",
    "    pass\n",
    "\n",
    "if __name__ == \"__main__\":\n",
    "    main()\n",
    "```"
   ]
  },
  {
   "cell_type": "markdown",
   "metadata": {},
   "source": [
    "次に、コマンドライン引数から、スタートの記事名とゴールの記事名を指定できるようにしておく。これには`sys`モジュールの`argv`を用いる。\n",
    "\n",
    "```python\n",
    "# 追加\n",
    "import sys\n",
    "\n",
    "def main():\n",
    "    # 追加\n",
    "    argc = len(sys.argv)\n"
   ]
  },
  {
   "cell_type": "markdown",
   "metadata": {},
   "source": [
    "`sys.argv`は最低で長さが1となっており、`sys.argv[0]`には実行したスクリプトファイル名が入る。以降、`sys.argv[1]`、`sys.argv[2]`、...には、コマンドライン引数が順に格納される。\n",
    "\n",
    "例えば、シェル環境から\n",
    "\n",
    "```shell\n",
    "python crawler.py arg1 arg2\n",
    "```\n",
    "\n",
    "のようにプログラムを実行すると、`sys.argv[0]`が`crawler.py`、`sys.argv[1]`が`arg1`、`sys.argv[2]`が`arg2`というようになる。"
   ]
  },
  {
   "cell_type": "markdown",
   "metadata": {},
   "source": [
    "今回のクローラはスタートとゴールの記事名を必ず引数に取るので、`argc = len(sys.argv)`は必ず3でなければならない。従って、コマンドライン引数の数が異なる場合には、エラーメッセージを出力しておく。\n",
    "\n",
    "```python\n",
    "def main():\n",
    "    argc = len(sys.argv)\n",
    "    # 追加\n",
    "    if argc != 3:\n",
    "        print(f\"[USAGE] python {sys.argv[0]} START GOAL\")\n",
    "        sys.exit(0)\n",
    "\n",
    "    start = sys.argv[1]\n",
    "    goal = sys.argv[2]"
   ]
  },
  {
   "cell_type": "markdown",
   "metadata": {},
   "source": [
    "## ステップ1: 記事内容の取得"
   ]
  },
  {
   "cell_type": "markdown",
   "metadata": {},
   "source": [
    "日本語のWikipediaの記事は `https://ja.wikipedia.org/wiki/[記事名]` というURLを持っている。記事名のところにはURLエンコードされた記事名が入る。\n",
    "\n",
    "例えば、「日本」というWikipediaの記事は、以下のように取得できる。"
   ]
  },
  {
   "cell_type": "code",
   "execution_count": 2,
   "metadata": {},
   "outputs": [
    {
     "name": "stdout",
     "output_type": "stream",
     "text": [
      "URL: https://ja.wikipedia.org/wiki/%E6%97%A5%E6%9C%AC\n"
     ]
    }
   ],
   "source": [
    "# Wikipedia - 日本\n",
    "base_url = \"https://ja.wikipedia.org/wiki/\"\n",
    "title = \"日本\"\n",
    "url = base_url + urllib.parse.quote(title)\n",
    "print(f\"URL: {url:s}\")"
   ]
  },
  {
   "cell_type": "markdown",
   "metadata": {},
   "source": [
    "HTMLページの取得方法については、前節、[HTTP通信](sec:request)で説明したとおりである。"
   ]
  },
  {
   "cell_type": "code",
   "execution_count": 3,
   "metadata": {},
   "outputs": [],
   "source": [
    "headers = {\n",
    "    \"User-Agent\": \"Mozilla/5.0\",\n",
    "    \"Accept-Language\": \"ja\",\n",
    "    \"Accept-Charset\": \"utf-8\",\n",
    "}\n",
    "\n",
    "req = urllib.request.Request(url, headers=headers, method=\"GET\")\n",
    "with urllib.request.urlopen(req) as resp:\n",
    "    body = resp.read().decode(\"utf-8\")"
   ]
  },
  {
   "cell_type": "code",
   "execution_count": 4,
   "metadata": {
    "tags": [
     "remove-input"
    ]
   },
   "outputs": [
    {
     "data": {
      "text/markdown": [
       "```html\n",
       "<!DOCTYPE html>\n",
       "<html class=\"client-nojs vector-feature-language-in-header-enabled vector-feature-language-in-main-page-header-disabled vector-feature-sticky-header-disabled vector-feature-page-tools-pinned-disabled vector-feature-toc-pinned-clientpref-1 vector-feature-main-menu-pinned-disabled vector-feature-limited-width-clientpref-1 vector-feature-limited-width-content-enabled vector-feature-custom-font-size-clientpref-0 vector-feature-appearance-disabled vector-feature-appearance-pinned-clientpref-0 vector-feature-night-mode-disabled skin-theme-clientpref-day vector-toc-available\" dir=\"ltr\" lang=\"ja\">\n",
       " <head>\n",
       "  <meta charset=\"utf-8\"/>\n",
       "  <title>\n",
       "   日本 - Wikipedia\n",
       "  </title>\n",
       "  <script>\n",
       "```"
      ],
      "text/plain": [
       "<IPython.core.display.Markdown object>"
      ]
     },
     "execution_count": 4,
     "metadata": {},
     "output_type": "execute_result"
    }
   ],
   "source": [
    "tree = BeautifulSoup(body)\n",
    "lines = re.split(\"[\\n\\r]{1,2}\", tree.prettify())\n",
    "Markdown(\"```html\\n\" + \"\\n\".join(lines[:8]) + \"\\n```\")"
   ]
  },
  {
   "cell_type": "markdown",
   "metadata": {},
   "source": [
    "ページの内容が取得できたら、[正規表現](sec:regex)を使用して、リンクされている**Wikipedia日本語版の記事**を取得する (プログラムは自分で考えること)。"
   ]
  },
  {
   "cell_type": "code",
   "execution_count": 5,
   "metadata": {
    "tags": [
     "remove-input"
    ]
   },
   "outputs": [
    {
     "name": "stdout",
     "output_type": "stream",
     "text": [
      "1947%E5%B9%B4\n",
      "%E5%B9%B9%E7%B4%B0%E8%83%9E\n",
      "%E5%8C%97%E6%97%A5%E6%9C%AC\n",
      "%E6%AD%BB%E5%9B%A0\n",
      "%E7%94%9F%E9%BA%A6%E4%BA%8B%E4%BB%B6\n",
      "%E3%83%9D%E3%83%84%E3%83%80%E3%83%A0%E5%AE%A3%E8%A8%80\n",
      "2016%E5%B9%B4\n",
      "%E6%AD%A6%E8%A1%93\n",
      "%E3%83%AF%E3%82%B7%E3%83%B3%E3%83%88%E3%83%B3%E4%BC%9A%E8%AD%B0_(1922%E5%B9%B4)\n",
      "%E5%A5%B4%E9%9A%B7\n"
     ]
    }
   ],
   "source": [
    "p_link = re.compile(r\"href=\\\"/wiki/([^:\\#\\\"]*?)\\\"\")\n",
    "links = p_link.findall(body)\n",
    "links = list(set(links))\n",
    "print(\"\\n\".join(links[:10]))"
   ]
  },
  {
   "cell_type": "markdown",
   "metadata": {},
   "source": [
    "ここで得られる記事名はURLエンコードされているので、`urllib.parse.unquote`関数を用いて、元の日本語の記事名を復元しておく。"
   ]
  },
  {
   "cell_type": "code",
   "execution_count": 6,
   "metadata": {
    "tags": [
     "remove-input"
    ]
   },
   "outputs": [
    {
     "name": "stdout",
     "output_type": "stream",
     "text": [
      "1947年\n",
      "幹細胞\n",
      "北日本\n",
      "死因\n",
      "生麦事件\n",
      "ポツダム宣言\n",
      "2016年\n",
      "武術\n",
      "ワシントン会議_(1922年)\n",
      "奴隷\n"
     ]
    }
   ],
   "source": [
    "titles = [urllib.parse.unquote(link) for link in links]\n",
    "print(\"\\n\".join(titles[:10]))"
   ]
  },
  {
   "cell_type": "markdown",
   "metadata": {},
   "source": [
    ":::{admonition} 記事内容の取得\n",
    ":class: note\n",
    "\n",
    "ここまでの内容を元に、1つの記事名`title`を引数に取り、その記事にリンクされている、全ての記事名をリストとして返す関数`get_pages`を作成しよう。\n",
    "\n",
    "```python\n",
    "def get_pages(title):\n",
    "    \"\"\"\n",
    "    指定されたタイトルのページからリンクされているページのタイトルを取得\n",
    "    \"\"\"\n",
    "    # 以下にコードを実装\n",
    "    ...\n",
    "```\n",
    ":::"
   ]
  },
  {
   "cell_type": "markdown",
   "metadata": {},
   "source": [
    "## ステップ2: 記事を幅優先探索"
   ]
  },
  {
   "cell_type": "markdown",
   "metadata": {},
   "source": [
    "幅優先探索それ自体についてはWikipedia等、ウェブ上の記事を参考にしてほしい。Wikipediaの該当記事にはPython実装のソースコードも示されている。\n",
    "\n",
    "[幅優先探索 - Wikipedia](https://ja.wikipedia.org/wiki/%E5%B9%85%E5%84%AA%E5%85%88%E6%8E%A2%E7%B4%A2)\n",
    "\n",
    "以下では、標準的なFIFO (first-in-first-out)型のキューを用いた実装を用いる。Pythonでは`queue`モジュールの`SimpleQueue`が使用できる。"
   ]
  },
  {
   "cell_type": "code",
   "execution_count": 7,
   "metadata": {},
   "outputs": [],
   "source": [
    "from queue import SimpleQueue"
   ]
  },
  {
   "cell_type": "markdown",
   "metadata": {},
   "source": [
    "幅優先探索による記事探索のアルゴリズムの概要は以下のようになる。\n",
    "\n",
    "```python\n",
    "# キューは現在の記事とリンク元の記事を管理\n",
    "que = SimpleQueue()\n",
    "que.put((start, None))\n",
    "checked = {}  # チェック済みなら、記事名をキー、リンク元の記事を値とする要素を持つ\n",
    "\n",
    "# キューが空になるまで処理を継続\n",
    "while not que.empty():\n",
    "    # スロットリング\n",
    "    time.sleep(0.1)\n",
    "\n",
    "    # ノードの取り出し\n",
    "    node = que.get()\n",
    "    page, prev = node.title\n",
    "\n",
    "    # 既にチェック済みの記事かどうかを調べる\n",
    "    # !!! 実装する !!!\n",
    "\n",
    "    # 未チェックの記事なら、リンクされた記事を取得\n",
    "    next_pages = get_pages(title)\n",
    "\n",
    "    # 新しい記事の中にゴールが見つかったら終了\n",
    "    # !!! 実装する !!!\n",
    "\n",
    "    # 取得した記事名をキューに追加\n",
    "    # !!! もう少し早くできる !!!\n",
    "    for next_page in next_pages:\n",
    "        que.put((next_page, page))"
   ]
  },
  {
   "cell_type": "markdown",
   "metadata": {},
   "source": [
    "上記のように、幅優先探索では、まずキューに開始点となるノードを追加する。その後、順次、キューの先頭からノードを取り出して、そのノードと隣接するノードを調べ、キューに追加していく。\n",
    "\n",
    "今回のクローラの例では、最後に、スタートからゴールの記事へと遷移するリンクを復元したいので、キューには記事名と、リンク元の記事を追加しておくと良い。その上で、辞書型の`checked`にチェック済みの記事を記録しておく。`checked`は記事名をキーに取り、その記事がチェック済みなら、リンク元の記事名を値として持つようにしておけば良いだろう。\n",
    "\n",
    "なお、上記の疑似コードでは、新しく見つかった記事について、単純に全ての記事をキューに追加しているが、この部分はもう少し高速化できるので、各自考えてみてほしい。"
   ]
  },
  {
   "cell_type": "markdown",
   "metadata": {},
   "source": [
    ":::{admonition} 記事の幅優先探索\n",
    ":class: note\n",
    "\n",
    "上記の内容を元に`main`関数内に幅優先探索のプログラムを実装しよう。実装の内容については、前述の疑似コードの`!!! ... !!!`の部分に適切なコードを与えていけば良い。\n",
    ":::"
   ]
  },
  {
   "cell_type": "markdown",
   "metadata": {},
   "source": [
    ":::{admonition} スロットリング (throttling)\n",
    ":class: warning\n",
    "\n",
    "クローラのプログラムを作成する際、一つのウェブサーバに何度もリクエストを送ると、ウェブサーバの処理が低下するなどの問題が発生する。従って、クローリングのマナーとして、リクエストを頻繁に送りすぎないよう、待ち時間を設定しなければならない。\n",
    "\n",
    "このように意図的にネットワークの速度を下げる処理を**スロットリング**と呼び、上記の疑似コードにおいては、リクエストが0.1秒に1回以上送られないように制御している。\n",
    ":::"
   ]
  },
  {
   "cell_type": "markdown",
   "metadata": {},
   "source": [
    "## ステップ3: リンクを復元"
   ]
  },
  {
   "cell_type": "markdown",
   "metadata": {},
   "source": [
    "スタート (`start`)から、幅優先探索でゴール (`goal`)にたどり着いたら、`checked`に保存された、リンク元の記事の情報を使って、スタートからゴールに至る記事の遷移を復元しよう。\n",
    "\n",
    "`checked`は「現在の記事」をキーとして、「リンク元の記事」を値に持つ辞書型であったので、`goal`の記事から逆順にリンク元の記事を辿っていき、`start`のリンク元である`None`にたどり着いたら、経路が復元できたことになる。\n",
    "\n",
    "ただし、この処理を単純に実行すると、経路が逆順になるので、スタートからゴールに至る経路を得るには、最後に配列を`reversed`等で逆順にする必要があることに注意すること。"
   ]
  },
  {
   "cell_type": "markdown",
   "metadata": {},
   "source": [
    "```python\n",
    "# 経路の取り出し\n",
    "path = [goal]\n",
    "# !!! 実装する !!!\n",
    "\n",
    "# 結果の表示\n",
    "print(\"\")\n",
    "print(\"Answer:\")\n",
    "print(\" -> \".join(path))\n",
    "````\n"
   ]
  },
  {
   "cell_type": "markdown",
   "metadata": {},
   "source": [
    "## ステップ4: HTTP通信の高速化"
   ]
  },
  {
   "cell_type": "markdown",
   "metadata": {},
   "source": [
    "ここまでプログラムを書き進めると、一応のクローラが完成する。しかし、実際に実行してみると、スロットリングの時間を考慮しても、HTTP通信に少々時間がかかっていることに気がつくかもしれない。\n",
    "\n",
    "これは、`urllib`を用いて送信されるリクエストが、接続と切断を繰り返すためであり、今回のクローラがおおよそ同一と考えられるWikipediaのサーバーに接続・切断を繰り返すのは効率が良いとは言えない (実際には、負荷分散されているため物理的に同じサーバーに接続するわけではない)。\n",
    "\n",
    "この問題を防ぐには、`urllib`の代わりに、より低レベルな`http.client`モジュールを用いる必要がある。`http.client`モジュールには`HTTPConnection`と`HTTPSConnection`というクラスが用意されており、これらのクラスは指定されたURLに接続後、明示的に`close`関数が呼ばれるか、通信のエラーが発生しない限りは接続が切られることがない。\n",
    "\n",
    "以下に`http.client`モジュールを用いたHTTPリクエストの送信とレスポンスの処理の一例を示すので、これを参考にHTTP通信の高速化を試みてほしい。"
   ]
  },
  {
   "cell_type": "code",
   "execution_count": 8,
   "metadata": {
    "tags": [
     "remove-output"
    ]
   },
   "outputs": [
    {
     "name": "stdout",
     "output_type": "stream",
     "text": [
      "200 OK\n",
      "200 OK\n"
     ]
    }
   ],
   "source": [
    "import http.client\n",
    "\n",
    "headers = {\n",
    "    \"User-Agent\": \"Mozilla/5.0\",\n",
    "    \"Accept-Language\": \"ja\",\n",
    "    \"Accept-Charset\": \"utf-8\",\n",
    "}\n",
    "\n",
    "# サーバに接続\n",
    "conn = http.client.HTTPSConnection(\"ja.wikipedia.org\")\n",
    "\n",
    "# 一つ目の記事の読み込み\n",
    "title1 = \"日本\"\n",
    "conn.request(\"GET\", \"/wiki/\" + urllib.parse.quote(title1), headers=headers)\n",
    "resp1 = conn.getresponse()\n",
    "print(resp1.status, resp1.reason)\n",
    "data1 = resp1.read().decode(\"utf-8\")\n",
    "resp1.close()\n",
    "\n",
    "# 二つ目の記事の読み込み\n",
    "title2 = \"Python\"\n",
    "conn.request(\"GET\", \"/wiki/\" + urllib.parse.quote(title2), headers=headers)\n",
    "resp2 = conn.getresponse()\n",
    "print(resp2.status, resp1.reason)\n",
    "data2 = resp2.read().decode(\"utf-8\")\n",
    "resp2.close()\n",
    "\n",
    "# 切断\n",
    "conn.close()"
   ]
  },
  {
   "cell_type": "markdown",
   "metadata": {},
   "source": [
    "## 課題\n",
    "\n"
   ]
  },
  {
   "cell_type": "markdown",
   "metadata": {},
   "source": [
    ":::{card}\n",
    "**問1**\n",
    "^^^\n",
    "本節の内容に従い、Wikipedia日本語版のクローラを作成せよ。クローラが作成できたら、いくつかの記事のペア(3例程度)について、各記事ペアを結ぶ記事の遷移を調べよ。\n",
    "\n",
    "例1:\n",
    "```shell\n",
    "python crawler.py \"伊藤博文\" \"紫式部\"\n",
    "Answer: 伊藤博文 -> 日本銀行券 -> 紫式部\n",
    "```\n",
    "\n",
    "例2:\n",
    "```shell\n",
    "python crawler.py \"ドラえもん\" \"東京スカイツリー\"\n",
    "Answer: ドラえもん -> 月刊コロコロコミック -> 東京スカイツリー\n",
    "```\n",
    ":::"
   ]
  },
  {
   "cell_type": "markdown",
   "metadata": {},
   "source": [
    ":::{card}\n",
    "**問2**\n",
    "^^^\n",
    "作成したクローラを改良し、適当な単語から3次以上の隔たりを持つ記事を探しなさい。実装にあたっては、スタートの記事からの距離もキューに追加するようにし、ゴールに存在しない記事名 (例えば ```__DUMMY_PAGE__```など)を与えるようにすると、実装が容易になるだろう。\n",
    "\n",
    "ただし、リンクがつながった記事の数が指数関数的に増えていくため、3次以上の隔たりを持つ記事を探すには相当時間がかかるので注意すること。\n",
    "\n",
    "なお、ここでの「3次の隔たり」とは、仮にスタートの単語を「日本」とすると、\n",
    "\n",
    "```text\n",
    "日本 -> 記事A -> 記事B -> 記事C\n",
    "```\n",
    "\n",
    "の「記事C」に相当するものとする。\n",
    "\n",
    "例1: 「渋沢栄一」からスタート\n",
    "```text\n",
    "渋沢栄一 -> 火星 -> 火星探査 -> 地球 \n",
    "```\n",
    "\n",
    "例2: 「清少納言」からスタート\n",
    "```text\n",
    "清少納言 -> 百人一首 -> 手事物 -> 千鳥の曲\n",
    "```\n",
    ":::"
   ]
  }
 ],
 "metadata": {
  "kernelspec": {
   "display_name": "Python 3 (ipykernel)",
   "language": "python",
   "name": "python3"
  },
  "language_info": {
   "codemirror_mode": {
    "name": "ipython",
    "version": 3
   },
   "file_extension": ".py",
   "mimetype": "text/x-python",
   "name": "python",
   "nbconvert_exporter": "python",
   "pygments_lexer": "ipython3",
   "version": "3.11.9"
  }
 },
 "nbformat": 4,
 "nbformat_minor": 4
}
