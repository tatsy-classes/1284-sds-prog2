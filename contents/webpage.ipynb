{
 "cells": [
  {
   "cell_type": "markdown",
   "metadata": {},
   "source": [
    "(sec:webpage)=\n",
    "# ウェブページの作成"
   ]
  },
  {
   "cell_type": "markdown",
   "metadata": {},
   "source": [
    "ウェブページとは、ウェブ、即ちWorld Wide Web上のサーバに存在する電子ファイルである。現在、サーバからウェブページを配信する方法は多岐にわたるが、大きくは**静的ページ**と**動的ページ**に大別される。\n",
    "\n",
    "**静的ページ**とは、予め、ページに表示する内容が電子ファイルに書かれており、その電子ファイルをコンピュータにダウンロードして、ブラウザがその電子ファイルを表示する。静的ページはブラウザが直接閲覧できるHTML形式(`*.html`)で書かれている。\n",
    "\n",
    "一方で、**動的ページ**は、サーバ上でページに表示する内容をプログラムによって動的に生成しており、コンピュータはプログラムの生成したページ内容をブラウザを通して表示する。動的ページはCommon Gateway Interface (CGI)のようなサーバ上のプログラムを実行する仕組みによって生成される。\n",
    "\n",
    "本節では、これらのウェブページの作成方法のうち、**HTMLとCSSを用いた静的ページの作成方法**ついて学ぶ。"
   ]
  },
  {
   "cell_type": "markdown",
   "metadata": {},
   "source": [
    "## HTMLの基本"
   ]
  },
  {
   "cell_type": "markdown",
   "metadata": {},
   "source": [
    "HTMLは**Hyper Text Markup Languag**eの略で、ウェブページの各種要素 (元々はハイパーリンク)を含んだ文書であるHyper Textを記述するための**マークアップ言語**の一種である。\n",
    "\n",
    "マークアップ言語は、文書の構造に従って構造化されたコードを記述するための仕組みで、HTML以外にも**XML** (Extended Markup Language)や**YAML** (Yet Another Markup Language, 呼称には諸説あり)などが知られている。\n",
    "\n",
    "HTMLにおいては、`<div>...</div>` のような**タグ**によって文書の構造や要素を定義する。"
   ]
  },
  {
   "cell_type": "markdown",
   "metadata": {},
   "source": [
    "### HTMLタグ"
   ]
  },
  {
   "cell_type": "markdown",
   "metadata": {},
   "source": [
    "HTMLの文書は**タグ**と呼ばれる構造の記述子を階層状に記述することで作られる。例えば、段落を表すタグであるpタグ (`<p>...</p>`)は以下のように使う。"
   ]
  },
  {
   "cell_type": "markdown",
   "metadata": {},
   "source": [
    "```html\n",
    "<!-- pタグの使用例 -->\n",
    "<p>\n",
    "Hello world!\n",
    "</p>\n",
    "```"
   ]
  },
  {
   "cell_type": "markdown",
   "metadata": {},
   "source": [
    "このように記述することで、ブラウザ上では`Hello, world!`の文章が1つの段落であると認識され、ブラウザの初期設定に従って上下にマージン等が挿入される。実際に、上記の内容を記述したHTML文書をブラウザで表示してみると、以下のように表示される (Google Chromeの場合)。\n",
    "\n",
    "```{image} ./imgs/hello_html.jpg\n",
    ":align: center\n",
    ":width: 80%\n",
    ":class: with-border\n",
    "```"
   ]
  },
  {
   "cell_type": "markdown",
   "metadata": {},
   "source": [
    "上記の`<p>...</p>`は開始と終了を表す要素の組からなっているが、imgタグ (`<img />`)のように、単一の要素で記述される要素もある。\n",
    "\n",
    "```html\n",
    "<!-- imgタグの使用例 -->\n",
    "<img src=\"./image/sample.jpg\" />\n",
    "```"
   ]
  },
  {
   "cell_type": "markdown",
   "metadata": {},
   "source": [
    "また、各タグは**属性**によって、各要素の挙動を調整することができる。例えば上記のimgタグの例では`src=\"...\"`が属性であり、画像ファイルのある場所を相対パスで指定している。"
   ]
  },
  {
   "cell_type": "markdown",
   "metadata": {},
   "source": [
    "HTMLは要素を階層的に記述するのが一般的であり、例えばpタグとimgタグを組み合わせて、段落内にある画像を以下のように記述することができる。\n",
    "\n",
    "```html\n",
    "<p>\n",
    "  <img src=\"./image/sample.jpg\" />\n",
    "</p>\n",
    "```\n",
    "\n",
    "タグの階層構造は親子関係のように呼ばれ、上記の例ではimgタグはpタグの**子要素**であり、反対にpタグはimgタグの**親要素**である。\n",
    "\n",
    "HTMLにはpタグやimgタグ以外にも、非常に多くのタグが存在するので、[「HTML タグ 一覧」](https://www.google.com/search?q=HTML+%E3%82%BF%E3%82%B0+%E4%B8%80%E8%A6%A7)などのキーワードで検索して、どのようなものがあるかを確認してほしい。"
   ]
  },
  {
   "cell_type": "markdown",
   "metadata": {},
   "source": [
    "```{admonition} HTMLタグ\n",
    ":class: note\n",
    "\n",
    "- HTMLタグは`<p>...</p>`のように開始・終端を表す要素のペアからなるものと`<img />`のように単一の要素からなるものがある\n",
    "- 各タグは属性によって付加情報を指定し、その挙動を調整することができる\n",
    "```"
   ]
  },
  {
   "cell_type": "markdown",
   "metadata": {},
   "source": [
    "### HTML文書の構造"
   ]
  },
  {
   "cell_type": "markdown",
   "metadata": {},
   "source": [
    "ひとつのHTML文書は、`.html`という拡張子を持つファイル内に記述される。文書中には、親要素としてhtmlタグが最初に記述され、その子要素としてheadタグとbodyタグが記述される。\n",
    "\n",
    "**headタグ** (`<head>...</head>`)は、HTML文書のプロパティを指定する役割を持ち、その子要素として、メタ情報を付加するmetaタグや文書のタイトルを指定するtitleタグを持たせることができる。\n",
    "\n",
    "**bodyタグ** (`<body>...</body>`)は、HTML文書の本体であり、実際にブラウザに表示される内容を指定する。例えば、前述の例で示したpタグやimgタグを用いて、ページの表示内容を指定する。\n",
    "\n",
    "```html\n",
    "<!-- HTML文書の構造 -->\n",
    "<html>\n",
    "  <head>\n",
    "    <!-- HTML文書のプロパティを指定 -->\n",
    "  </head>\n",
    "  <body>\n",
    "    <!-- HTML文書の本体を記述 -->\n",
    "  </body>\n",
    "</html>\n",
    "```"
   ]
  },
  {
   "cell_type": "markdown",
   "metadata": {},
   "source": [
    "### HMTL文書のプロパティ"
   ]
  },
  {
   "cell_type": "markdown",
   "metadata": {},
   "source": [
    "HTML文書のプロパティの代表的なものにタイトルとテキスト・エンコーディングがある。\n",
    "\n",
    "タイトルはtitleタグ (`<title>...</title>`)を用いて指定され、多くのブラウザではページ上部に指定した文字列が表示される。\n",
    "\n",
    "```html\n",
    "<!-- headタグの子要素として指定 -->\n",
    "<title>最初のHTML</title>\n",
    "```\n",
    "\n",
    "一例としてGoogle Chromeでは、以下のようにタブの部分にタイトルが表示される。\n",
    "\n",
    "```{image} ./imgs/html_with_title.jpg\n",
    ":align: center\n",
    ":width: 80%\n",
    ":class: with-border\n",
    "```\n",
    "\n",
    "\n",
    "**テキスト・エンコーディング**は、そのHTML文書がどのようなバイト形式で書かれているのかを示す。英語の文書は基本的に`a`や`1`などの文字の表現に1バイト(=8ビット)の情報を使用するが、日本語(&その他の言語)の場合には、「あ」や「大」などの文字に1バイトより多くの情報を使用する。このような文字のことを特に**マルチバイト文字**と呼ぶ。\n",
    "\n",
    "マルチバイト文字には、各言語ごとに複数のバイト表現形式があり、日本語なら、**Shift-JIS**や**EUC-JP**, **UTF-8**などがある。ネットサーフィン中にページが文字化けしているのを見たことがある人も多いと思うが、これは**HTML文書のエンコーディング**と**HTMLプロパティに指定されたエンコーディング**が不一致のために起こることが多い。そのため、日本語等の英語以外の言語でウェブページを作る際には、常に、HTML文書のエンコーディングとHTMLプロパティに指定するエンコーディングが揃っていることを確認することが大切である。\n",
    "\n",
    "HTML文書のエンコーディングは、Visual Studio Codeなら、画面右下の情報バーから確認できる (下図参照)。\n",
    "\n",
    "```{image} ./imgs/text_encoding.jpg\n",
    ":align: center\n",
    ":width: 80%\n",
    ":class: mb-1\n",
    "```\n",
    "\n",
    "この画像では文書がUTF-8形式で作成されているので、HTML文書のプロパティにも同様にUTF-8を指定する。指定にはmetaタグを用いて以下のように記述する。\n",
    "\n",
    "```html\n",
    "<!-- headタグの子要素として指定 -->\n",
    "<meta charset=\"utf-8\" />\n",
    "```\n",
    "\n",
    "なお、余談にはなるが、上記の`charset`属性はHTML5から導入されたものなので、古いブラウザもサポートしたい場合には、以下のように記述する必要がある。\n",
    "\n",
    "```html\n",
    "<meta http-equiv=\"content-type\" content=\"text/html; charset=utf-8\" /> \n",
    "```"
   ]
  },
  {
   "cell_type": "markdown",
   "metadata": {},
   "source": [
    "```{admonition} HTML文書\n",
    ":class: note\n",
    "\n",
    "- 各文書は`.html`の拡張子を持つテキストファイルに保存する\n",
    "- HTML文書はhtmlタグと、その子要素としてのheadタグ、bodyタグからなる\n",
    "- headタグにはタイトルやテキスト・エンコーディングなどの文書プロパティを指定する\n",
    "- bodyタグにはブラウザに表示されるページ内容を記述する\n",
    "```"
   ]
  },
  {
   "cell_type": "markdown",
   "metadata": {},
   "source": [
    "### 練習問題"
   ]
  },
  {
   "cell_type": "markdown",
   "metadata": {},
   "source": [
    "- これまでの内容を基に、単一の段落内に画像が1つだけあるようなHTML文書を作成せよ。この際、テキストのエンコーディングはUTF-8であるとし、文書のタイトルを「最初のHTML」とせよ。\n",
    "- 文書をUTF-8で作成した上で、HTML文書のエンコーディングをShift JISに指定するとどうなるか確認せよ (ブラウザによって挙動が異なる)。"
   ]
  },
  {
   "cell_type": "markdown",
   "metadata": {},
   "source": [
    "## エンコーディング"
   ]
  },
  {
   "cell_type": "markdown",
   "metadata": {},
   "source": [
    "文字のエンコーディングは、コンピュータで多言語の情報を扱う上で非常に大切な概念である。**コンピュータは、情報を0/1のビットの集まりで表現している**。もう一つの情報量の単位であるバイトは8ビット、すなわち、10進数で0から255までの数字を表すことができる。1バイトの情報を書きあわらす時には、8ビットを1単位として、2桁の16進数で表すことが多い。\n",
    "\n",
    "例えば、77という数字を1バイトの情報として表わす時には、二進数で`01001101`、16進数で`4D`と書くことができる。Pythonでこれらの数字を扱う場合には、二進数であることを表す接頭辞である`0b`、16進数であることを表す接頭辞である`0x`をつけて、`0b01001101`や`0x4D`のように書く。\n"
   ]
  },
  {
   "cell_type": "code",
   "execution_count": 1,
   "metadata": {
    "tags": [
     "remove-output"
    ]
   },
   "outputs": [
    {
     "name": "stdout",
     "output_type": "stream",
     "text": [
      "77\n"
     ]
    }
   ],
   "source": [
    "# 2進数による数字の記述\n",
    "print(0b01001101)"
   ]
  },
  {
   "cell_type": "code",
   "execution_count": 2,
   "metadata": {
    "tags": [
     "remove-output"
    ]
   },
   "outputs": [
    {
     "name": "stdout",
     "output_type": "stream",
     "text": [
      "77\n"
     ]
    }
   ],
   "source": [
    "# 16進数による数字の記述\n",
    "print(0x4D)"
   ]
  },
  {
   "cell_type": "markdown",
   "metadata": {},
   "source": [
    "### ASCIIコード"
   ]
  },
  {
   "cell_type": "markdown",
   "metadata": {},
   "source": [
    "コンピュータで文字を扱う場合、英数字の`A`や`1`のように1バイトで表わられる文字を**シングルバイト文字**、`あ`や`橋`のような2バイト以上を用いて定義される文字を**マルチバイト文字**と呼ぶ。\n",
    "\n",
    "シングルバイト文字は、1バイトしか情報を使うことができないので、最大でも256文字しか表せないが、バイト数を2バイト、3バイトと増やすことで、より多くの文字種を表すことができる。"
   ]
  },
  {
   "cell_type": "markdown",
   "metadata": {},
   "source": [
    "シングルバイト文字は、実際には128文字であり、8ビットの符号付き整数のうち非負の数に対応している。これらの128文字はASCII (Americal Standard Character for Information Interchange)という規格で決められており、例えば`A`という文字は整数の`65`に対応しており、`0`という文字は整数の`48`に対応している。"
   ]
  },
  {
   "cell_type": "markdown",
   "metadata": {},
   "source": [
    "Pythonには正の整数を対応する文字に変換する関数`chr`、ならびにASCII文字を整数に変換する関数`ord`が用意されている。"
   ]
  },
  {
   "cell_type": "code",
   "execution_count": 3,
   "metadata": {},
   "outputs": [
    {
     "name": "stdout",
     "output_type": "stream",
     "text": [
      "ASCII code of 'A' is 65\n"
     ]
    }
   ],
   "source": [
    "print(\"ASCII code of 'A' is\", ord(\"A\"))"
   ]
  },
  {
   "cell_type": "code",
   "execution_count": 4,
   "metadata": {},
   "outputs": [
    {
     "name": "stdout",
     "output_type": "stream",
     "text": [
      "Integer 48 is ASCII code of '0'\n"
     ]
    }
   ],
   "source": [
    "print(\"Integer 48 is ASCII code of '{}'\".format(chr(48)))"
   ]
  },
  {
   "cell_type": "markdown",
   "metadata": {},
   "source": [
    "ASCIIコードにどのような128文字が含まれるかを確認するにはWikipedia等の情報を確認してみてほしい。\n",
    "\n",
    "- [ASCII - Wikipedia](https://ja.wikipedia.org/wiki/ASCII)"
   ]
  },
  {
   "cell_type": "markdown",
   "metadata": {},
   "source": [
    "### マルチバイト文字"
   ]
  },
  {
   "cell_type": "markdown",
   "metadata": {},
   "source": [
    "マルチバイト文字は、日本語などの英数字以外の文字を表すために広く用いられており、言語ごとに定められたエンコーディングの他に、Unicodeと呼ばれる多言語を広くカバーするエンコーディング方式も存在する。\n",
    "\n",
    "日本語の場合に最も代表的なエンコーディングは**Shift-JIS**と呼ばれる方式で、Shift-JISはその後、いくつかの拡張を経て**CP932** (Code Page 932)という方式に発展する。実際に、Shift-JISでどのように符号化されているかを`encode`関数を使って確認してみる。"
   ]
  },
  {
   "cell_type": "code",
   "execution_count": 5,
   "metadata": {},
   "outputs": [
    {
     "data": {
      "text/plain": [
       "b'\\x82\\xa0'"
      ]
     },
     "execution_count": 5,
     "metadata": {},
     "output_type": "execute_result"
    }
   ],
   "source": [
    "\"あ\".encode(\"shift-jis\")"
   ]
  },
  {
   "cell_type": "code",
   "execution_count": 6,
   "metadata": {},
   "outputs": [
    {
     "data": {
      "text/plain": [
       "b'\\x82\\xa0'"
      ]
     },
     "execution_count": 6,
     "metadata": {},
     "output_type": "execute_result"
    }
   ],
   "source": [
    "\"あ\".encode(\"cp932\")"
   ]
  },
  {
   "cell_type": "markdown",
   "metadata": {},
   "source": [
    "このようにShift-JISはCP932のサブセットなので、`あ`のような普遍的な日本語の文字には同じバイトが割り当てられていることが分かる。上記の結果を確認すると、`あ`という文字を扱うために`0x82`, `0xa0`という2バイトが用いられていることが分かる。\n",
    "\n",
    "では、どこに違いがあるかというと、一例として、はしごだか(髙)は、CP932には含まれているが、Shift-JISには含まれていない文字であるため、符号化の際に例外が発生する。"
   ]
  },
  {
   "cell_type": "code",
   "execution_count": 7,
   "metadata": {},
   "outputs": [
    {
     "name": "stdout",
     "output_type": "stream",
     "text": [
      "'shift_jis' codec can't encode character '\\u9ad9' in position 0: illegal multibyte sequence\n"
     ]
    }
   ],
   "source": [
    "try:\n",
    "    \"髙\".encode(\"shift-jis\")\n",
    "except UnicodeEncodeError as e:\n",
    "    print(e)"
   ]
  },
  {
   "cell_type": "code",
   "execution_count": 8,
   "metadata": {},
   "outputs": [
    {
     "data": {
      "text/plain": [
       "b'\\xee\\xe0'"
      ]
     },
     "execution_count": 8,
     "metadata": {},
     "output_type": "execute_result"
    }
   ],
   "source": [
    "\"髙\".encode(\"cp932\")"
   ]
  },
  {
   "cell_type": "markdown",
   "metadata": {},
   "source": [
    "従って、Shift-JISやCP932で書かれていると思われる文書を扱う場合には、CP932でデコードしておけば概ね問題ないだろう。"
   ]
  },
  {
   "cell_type": "markdown",
   "metadata": {},
   "source": [
    "日本語に限らず、コンピュータ上で英語以外の言語を扱う場合、現在は上記のShift-JISなどの特定の言語に特化したエンコーディングを用いる代わりにUnicodeという方式を用いることが一般的になっている。\n",
    "\n",
    "`あ`がUnicodeでどんな16進数の数字に対応するかはASCIIの時と同じように`ord`を用いて調べることができる。戻り値は10進数の数字なので、`hex`関数を用いて16進数を表す文字列に変換する。"
   ]
  },
  {
   "cell_type": "code",
   "execution_count": 9,
   "metadata": {},
   "outputs": [
    {
     "name": "stdout",
     "output_type": "stream",
     "text": [
      "10進数: 12354\n",
      "16進数: 0x3042\n"
     ]
    }
   ],
   "source": [
    "print(\"10進数:\", ord(\"あ\"))\n",
    "print(\"16進数:\", hex(ord(\"あ\")))"
   ]
  },
  {
   "cell_type": "markdown",
   "metadata": {},
   "source": [
    "このUnicodeをベースにした文字エンコーディングの方式のひとつに**UTF-8**があり、現在は、Shift-JISなどよりも、こちらが使われることが一般的である。UTF-8の仕組みを理解するために、Unicodeの16進数をUTF-8を表すバイトに変換してみよう。"
   ]
  },
  {
   "cell_type": "code",
   "execution_count": 10,
   "metadata": {},
   "outputs": [],
   "source": [
    "code = ord(\"あ\")  # Unicode"
   ]
  },
  {
   "cell_type": "markdown",
   "metadata": {},
   "source": [
    "まずは、Unicodeで定義された二桁の16進数 (16ビット)を4ビット、6ビット、6ビットに分割する。"
   ]
  },
  {
   "cell_type": "code",
   "execution_count": 11,
   "metadata": {},
   "outputs": [
    {
     "name": "stdout",
     "output_type": "stream",
     "text": [
      "3 1 2\n"
     ]
    }
   ],
   "source": [
    "bit1 = (code >> (6 + 6)) & 0x0F  # 上位4ビット\n",
    "bit2 = (code >> 6) & 0x3F  # 中間6ビット\n",
    "bit3 = code & 0x3F  # 下位6ビット\n",
    "print(bit1, bit2, bit3)"
   ]
  },
  {
   "cell_type": "markdown",
   "metadata": {},
   "source": [
    "続いて、これらの3つの数字をそれぞれ16進数に変換して、3バイトのデータに変換する。"
   ]
  },
  {
   "cell_type": "code",
   "execution_count": 12,
   "metadata": {},
   "outputs": [
    {
     "name": "stdout",
     "output_type": "stream",
     "text": [
      "10進数: 196866\n",
      "16進数: 0x30102\n"
     ]
    }
   ],
   "source": [
    "bits = (bit1 << 16) | (bit2 << 8) | bit3\n",
    "print(\"10進数:\", bits)\n",
    "print(\"16進数:\", hex(bits))"
   ]
  },
  {
   "cell_type": "markdown",
   "metadata": {},
   "source": [
    "最後に、得られた数字にUTF-8固有のオフセット値である`0xE08080`を加算すると、UTF-8で用いられるバイトに対応する数字が得られる。"
   ]
  },
  {
   "cell_type": "code",
   "execution_count": 13,
   "metadata": {},
   "outputs": [
    {
     "name": "stdout",
     "output_type": "stream",
     "text": [
      "0xe38182\n"
     ]
    }
   ],
   "source": [
    "bits += 0xE08080\n",
    "print(hex(bits))"
   ]
  },
  {
   "cell_type": "markdown",
   "metadata": {},
   "source": [
    "この数字が実際にUTF-8のバイト列で`あ`に対応しているかを`encode`と対になる関数である`decode`を用いて調べてみる。"
   ]
  },
  {
   "cell_type": "code",
   "execution_count": 14,
   "metadata": {},
   "outputs": [
    {
     "name": "stdout",
     "output_type": "stream",
     "text": [
      "あ\n"
     ]
    }
   ],
   "source": [
    "byt = bits.to_bytes(3)  # 3バイトのバイト列に変換\n",
    "c = byt.decode(\"utf-8\")  # バイト列をUTF-8で文字列に変換\n",
    "print(c)"
   ]
  },
  {
   "cell_type": "markdown",
   "metadata": {},
   "source": [
    "このように、正しくUTF-8の文字として`あ`が表現できていることが確認できた。"
   ]
  },
  {
   "cell_type": "markdown",
   "metadata": {},
   "source": [
    "```{admonition} エンコーディング\n",
    ":class: note\n",
    "\n",
    "- コンピュータで言語を扱うためには、エンコーディングにより、文字をバイト列に変換する必要がある\n",
    "- 代表的には、英数字などを扱うシングルバイト文字のASCIIと、その他の多くの言語をマルチバイト文字として扱う方式がある\n",
    "- マルチバイト文字のエンコーディングには言語固有(Shift-JISなど)のものと、多言語対応のUnicodeベースのもの(UTF-8)などがある\n",
    "```"
   ]
  },
  {
   "cell_type": "markdown",
   "metadata": {},
   "source": [
    "## CSSの基本"
   ]
  },
  {
   "cell_type": "markdown",
   "metadata": {},
   "source": [
    "CSSはCascade Style Sheetの略で、HTMLのタグや特定のID、クラスを持つ要素に対して、スタイル(= デザイン要素)を指定する役割を持つ。スタイルの指定方法には大きく分けて以下の3つの方法がある。\n",
    "\n",
    "1. HTMLタグに属性`style=...`を指定する方法\n",
    "2. headタグの子要素としてstyleタグを配置して指定する方法\n",
    "3. 拡張子が`.css`のファイルを別に作成する方法\n",
    "\n",
    "なお、同じ要素に対して複数の異なる指定がなされた場合には、上記のリストの中で**より若い番号のものが優先**される。"
   ]
  },
  {
   "cell_type": "markdown",
   "metadata": {},
   "source": [
    "### CSSの文法"
   ]
  },
  {
   "cell_type": "markdown",
   "metadata": {},
   "source": [
    "CSSによるスタイルは、**デザイン要素の名前**と、その要素に対する**パラメータ**の組により指定される。一例として、要素の幅を指定したい場合には、\n",
    "\n",
    "```css\n",
    "width: 100px;\n",
    "```\n",
    "\n",
    "のように書く。この際、パラメータの後に**セミコロンをつける**のを忘れないようにすること。\n",
    "\n",
    "また、色の指定には、`red`や`black`などの色の名前 ([使える名前の一覧](https://developer.mozilla.org/en-US/docs/Web/CSS/named-color))の他、16進数の組による指定の方法がある。16進数で色を指定する場合には、赤、緑、青の各色要素に対して、0-255の値を16進数で記述する。一例として、黄色 (= 赤: 255, 緑: 255, 青: 0)を指定したい場合には\n",
    "\n",
    "```css\n",
    "color: #ffff00;\n",
    "```\n",
    "\n",
    "のように書く。これは、\n",
    "\n",
    "```css\n",
    "color: yellow;\n",
    "```\n",
    "\n",
    "と書くことと同義である。\n",
    "\n",
    "また、デザイン要素の中には`border`のように複数のパラメータを指定できるものもある。例えば、1px幅の線、実線、青色、の属性を持つ線を引きたければ、\n",
    "\n",
    "```css\n",
    "border: 1px solid #0000ff;\n",
    "```\n",
    "\n",
    "のようにパラメータを指定すれば良い。"
   ]
  },
  {
   "cell_type": "markdown",
   "metadata": {},
   "source": [
    "### style属性"
   ]
  },
  {
   "cell_type": "markdown",
   "metadata": {},
   "source": [
    "では、実際にタグにstyle属性を指定して、その挙動を確認してみよう。pタグにstyle属性を指定して、文字を赤色に変更してみる。\n",
    "\n",
    "```html\n",
    "<p style=\"color: #ff0000;\">\n",
    "Hello, world!\n",
    "</p>\n",
    "```\n",
    "\n",
    "すると、ブラウザ上では、以下の画像のように文字の色が変更される。\n",
    "\n",
    "```{image} ./imgs/text_color_red.jpg\n",
    ":align: center\n",
    ":width: 80%\n",
    ":class: with-border\n",
    "```\n",
    "\n",
    "同様にして、フォントサイズを変更したり、フォントを太字にしたりすることもできる。この場合には、style属性にセミコロンで区切って、複数のスタイルを指定する。\n",
    "\n",
    "```html\n",
    "<p style=\"color: #ff0000; font-size: 20pt; font-weight: bold;\">\n",
    "Hello, world!\n",
    "</p>\n",
    "```\n",
    "\n",
    "```{image} ./imgs/text_styles.jpg\n",
    ":align: center\n",
    ":width: 80%\n",
    ":class: with-border\n",
    "```"
   ]
  },
  {
   "cell_type": "markdown",
   "metadata": {},
   "source": [
    "### styleタグ"
   ]
  },
  {
   "cell_type": "markdown",
   "metadata": {},
   "source": [
    "headタグの子要素としてstyleタグを用いる場合には、上記の**デザイン要素**＋**パラメータ**のペアに加えて、それらを**どの要素に適用するか**を指定する必要がある。\n",
    "\n",
    "例えば、全てのpタグに対して、文字を赤色、フォントサイズ20pt、文字を太字、というスタイルを指定するには、\n",
    "\n",
    "```html\n",
    "<style>\n",
    "    p {\n",
    "        color: #ff0000;\n",
    "        font-size: 20pt;\n",
    "        font-weight: bold;\n",
    "    }\n",
    "</style>\n",
    "```\n",
    "\n",
    "のようにstyleタグを使用する。\n",
    "\n",
    "全体ではなく、個別の要素に対してスタイルを指定したい場合には、IDもしくはクラスを用いる。これらはタグの属性としてIDなら`id=\"...\"`、クラスなら`class=\"...\"`のような形で指定する。これらの指定を持つタグにのみスタイルを適用する場合、CSSの内容は次のようになる。\n",
    "\n",
    "---\n",
    "\n",
    "**styleタグの記述**\n",
    "\n",
    "```html\n",
    "<style>\n",
    "    /* IDとしてredを持つpタグにスタイルを指定 */\n",
    "    p#red {\n",
    "        color: #ff0000;\n",
    "    }\n",
    "\n",
    "    /* クラスとしてblueを持つpタグにスタイルを指定 */\n",
    "    p.blue {\n",
    "        color: #0000ff;\n",
    "    }\n",
    "</style>\n",
    "```\n",
    "\n",
    "**スタイルが適用される要素**\n",
    "\n",
    "```html\n",
    "<p id=\"red\">\n",
    "赤色のテキスト\n",
    "</p>\n",
    "<p class=\"blue\">\n",
    "青色のテキスト\n",
    "</p>\n",
    "```\n",
    "\n",
    "---\n",
    "\n",
    "なお、同じデザイン要素に異なるパラメータがIDとクラスの両方で指定された場合にはIDの方の指定が優先される。従って、\n",
    "\n",
    "```html\n",
    "<p id=\"red\" class=\"blue\">\n",
    "何色のテキスト？\n",
    "</p>\n",
    "```\n",
    "\n",
    "のように書くと、pタグ内部の文字列は赤色になる。これはIDが個別のタグ(= identity)を、クラスが一定の要素の集まり(= class of tags)を指定する目的で使われるものであることと関係する。"
   ]
  },
  {
   "cell_type": "markdown",
   "metadata": {},
   "source": [
    "また、HTMLのタグが階層構造を持つことと関係して、CSSでは、特定のタグの子要素に対してのみスタイルを適用することができる。例えばpタグの子要素になっているimgタグにのみ囲み線をつけたければ、次のように記述する。\n",
    "\n",
    "```html\n",
    "<style>\n",
    "    p img {\n",
    "        /* 1px幅で黒色の実線 */\n",
    "        border: 1px solid #000000;\n",
    "    }\n",
    "</style>\n",
    "```\n",
    "\n",
    "この例のようにタグやID等をスペースで区切ると、要素の親子関係に基づいてスタイルが指定できる。一方で、気をつけなければならないのは、次のような例である。\n",
    "\n",
    "```html\n",
    "<style>\n",
    "    /* スペースなし */\n",
    "    p.red {\n",
    "        color: #ff0000;\n",
    "    }\n",
    "\n",
    "    /* スペースあり */\n",
    "    p .red {\n",
    "        color: #ff0000;\n",
    "    }\n",
    "</style>\n",
    "```\n",
    "\n",
    "この例では**スペースなし**の方は、「クラスがredであるpタグ」を表すのに対して、**スペースあり**の方は、「pタグの子要素のうち、クラスがredであるもの」を表す。このような些細な違いが、結果に影響するので注意したい。"
   ]
  },
  {
   "cell_type": "markdown",
   "metadata": {},
   "source": [
    "### CSSファイル"
   ]
  },
  {
   "cell_type": "markdown",
   "metadata": {},
   "source": [
    "CSSファイルを使用するには、拡張子が`.css`のファイルを別途用意 (`style.css`とする)し、このファイルをHTML文書のheadタグ内にlinkタグを用いて指定する。\n",
    "\n",
    "```html\n",
    "<!-- headタグ内に記述する -->\n",
    "<link href=\"./style.css\" rel=\"stylesheet\" />\n",
    "```\n",
    "\n",
    "この際、href属性に指定するCSSファイルのパスが(絶対パスでも相対パスでも)間違っていないかをよく確認すること。その上で、CSSファイルには、styleタグの内部に記述したものと同様の内容を記述すれば良い。"
   ]
  },
  {
   "cell_type": "markdown",
   "metadata": {},
   "source": [
    "以下、CSSファイルの内容の例\n",
    "\n",
    "```css\n",
    "/* IDとしてredを持つpタグにスタイルを指定 */\n",
    "p#red {\n",
    "    color: #ff0000;\n",
    "}\n",
    "\n",
    "/* クラスとしてblueを持つpタグにスタイルを指定 */\n",
    "p.blue {\n",
    "    color: #0000ff;\n",
    "}\n",
    "```"
   ]
  },
  {
   "cell_type": "markdown",
   "metadata": {},
   "source": [
    "```{admonition} CSSの基本事項\n",
    ":class: note\n",
    "\n",
    "- CSSによるスタイルの指定方法には、style属性、styleタグ、CSSファイルの3つの方法がある\n",
    "- 各スタイルは、デザイン要素の名前と、その要素に対するパラメータの組により定義される\n",
    "- 個別の要素にスタイルを指定するためにIDやクラスなどの属性が用いられる\n",
    "```"
   ]
  },
  {
   "cell_type": "markdown",
   "metadata": {},
   "source": [
    "### 練習問題"
   ]
  },
  {
   "cell_type": "markdown",
   "metadata": {},
   "source": [
    "- styleタグ、もしくはCSSファイルを用いて、pタグに次のスタイルを指定せよ (以下の実行例を参照)。\n",
    "    - テキストの色が青色\n",
    "    - テキストが中央揃え\n",
    "    - 赤色の点線で囲まれている\n",
    "    - 背景の色が灰色\n",
    "\n",
    "```{figure} ./imgs/css_practice_01.jpg\n",
    ":align: center\n",
    ":width: 80%\n",
    "実行例\n",
    "```"
   ]
  },
  {
   "cell_type": "markdown",
   "metadata": {},
   "source": [
    "## 演習"
   ]
  },
  {
   "cell_type": "markdown",
   "metadata": {},
   "source": [
    "HTMLとCSSを0から書いて、自分のプロフィールページを作成しよう。その際、以下の要件を満たすように作成すること。\n",
    "\n",
    "1. HTMLファイル1つ (`index.html`)とCSSファイル1つ (`style.css`)からなるページにする\n",
    "1. スタイルは全てCSSファイル内に記述する \n",
    "1. 画像と外部サイトへのリンクを1つ以上入れる\n",
    "\n",
    "作成したページはクラス内で限定公開するので、他の人を傷つける内容や公序良俗に反する内容は書かないこと。その代わり、限定公開なので、インターネット上の画像等は常識の範囲内で自由に使って良い。"
   ]
  },
  {
   "cell_type": "code",
   "execution_count": null,
   "metadata": {},
   "outputs": [],
   "source": []
  }
 ],
 "metadata": {
  "kernelspec": {
   "display_name": "Python 3 (ipykernel)",
   "language": "python",
   "name": "python3"
  },
  "language_info": {
   "codemirror_mode": {
    "name": "ipython",
    "version": 3
   },
   "file_extension": ".py",
   "mimetype": "text/x-python",
   "name": "python",
   "nbconvert_exporter": "python",
   "pygments_lexer": "ipython3",
   "version": "3.11.4"
  }
 },
 "nbformat": 4,
 "nbformat_minor": 4
}
