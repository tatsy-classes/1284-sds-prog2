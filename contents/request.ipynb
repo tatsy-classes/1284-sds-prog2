{
 "cells": [
  {
   "cell_type": "markdown",
   "metadata": {
    "editable": true,
    "slideshow": {
     "slide_type": ""
    },
    "tags": []
   },
   "source": [
    "(sec:request)=\n",
    "\n",
    "# HTTP リクエスト\n"
   ]
  },
  {
   "cell_type": "markdown",
   "metadata": {
    "editable": true,
    "slideshow": {
     "slide_type": ""
    },
    "tags": []
   },
   "source": [
    "ウェブ上でデータのやりとりをするためにはプロトコルと呼ばれるデータのやりとりの仕方を定めた規約に従う必要がある。HTTP は Hyper Text Transfer Protocol の略で、HTML で記述された文書をウェブ上でやりとりするためのプロトコルである。\n",
    "\n",
    "皆さんが、Google Chrome や Firefox 等のウェブブラウザを使ってウェブページを閲覧しているときには、裏で、この HTTP に従ったデータのやりとりがなされている。\n",
    "\n",
    "このやりとりは基本的にクライアント (ウェブページを閲覧する側のコンピュータ)から送信された HTTP リクエストを基に、サーバ (ウェブページを配信する側のコンピュータ)が HTTP レスポンスと呼ばれる応答を返す、という処理が行われている。\n"
   ]
  },
  {
   "cell_type": "markdown",
   "metadata": {
    "editable": true,
    "slideshow": {
     "slide_type": ""
    },
    "tags": []
   },
   "source": [
    "## リクエストとレスポンスの内容\n"
   ]
  },
  {
   "cell_type": "markdown",
   "metadata": {
    "editable": true,
    "slideshow": {
     "slide_type": ""
    },
    "tags": []
   },
   "source": [
    "リクエストとレスポンスの内容はプログラムを書かずとも、ウェブブラウザで確認することができる。以下では Google Chrome を使った場合の確認方法を紹介する。\n",
    "\n",
    "まずはウェブブラウザを開き、[Google のトップページ](https://www.google.co.jp)にアクセスしてみよう。\n",
    "\n",
    "ウェブページが開いたら、画面左上の「︙」ボタンをクリックして、設定メニューを開く。この設定メニューの中から「その他のツール」にある「ディベロッパーツール」を開こう。\n"
   ]
  },
  {
   "cell_type": "markdown",
   "metadata": {
    "editable": true,
    "slideshow": {
     "slide_type": ""
    },
    "tags": []
   },
   "source": [
    "```{image} ./imgs/check_http.jpg\n",
    ":align: center\n",
    ":width: 60%\n",
    ":class: with-border\n",
    "```\n"
   ]
  },
  {
   "cell_type": "markdown",
   "metadata": {
    "editable": true,
    "slideshow": {
     "slide_type": ""
    },
    "tags": []
   },
   "source": [
    "ディベロッパーツールが開いたら、いくつかある項目の七から「Network」を選び、ページをリロードしよう。すると、ディベロッパーツールに以下のような情報が表示されるはずだ。\n"
   ]
  },
  {
   "cell_type": "markdown",
   "metadata": {
    "editable": true,
    "slideshow": {
     "slide_type": ""
    },
    "tags": []
   },
   "source": [
    "```{image} ./imgs/check_http_2.jpg\n",
    ":align: center\n",
    ":width: 60%\n",
    ":class: with-border\n",
    "```\n"
   ]
  },
  {
   "cell_type": "markdown",
   "metadata": {
    "editable": true,
    "slideshow": {
     "slide_type": ""
    },
    "tags": []
   },
   "source": [
    "この情報をよく見てみると、「Name」のリストの先頭に「`www.google.co.jp`」という項目があるので、これをクリックする。すると、その右側にどのようなリクエストが送られて、どのようなレスポンスが返ってきているのかが表示される。これらはそれぞれ、ディベロッパーツールの中で「Request Headers」という項目と「Response Headers」という項目から確認できる。\n",
    "\n",
    "これらのヘッダ情報には、非常に多くの情報が含まれているが、リクエストヘッダであれば、ウェブページの URL やページを取得する方法 (GET と POST があるが、詳細は後述する)などが含まれており、レスポンスヘッダであれば、\n"
   ]
  },
  {
   "cell_type": "markdown",
   "metadata": {
    "editable": true,
    "slideshow": {
     "slide_type": ""
    },
    "tags": []
   },
   "source": [
    "## Python によるウェブページの取得\n"
   ]
  },
  {
   "cell_type": "markdown",
   "metadata": {
    "editable": true,
    "slideshow": {
     "slide_type": ""
    },
    "tags": []
   },
   "source": [
    "Python でウェブページのデータをサーバーからウェブページを取得するための標準ライブラリに`urllib`がある。まずは、`urllib`の基本関数である`urlopen`を用いて、ウェブページの内容を取得してみよう。\n",
    "\n",
    "`urlopen`は URL を指定するだけで、その URL に HTTP リクエストを送付し、それに対応するレスポンスを取得することができる。\n"
   ]
  },
  {
   "cell_type": "code",
   "execution_count": 9,
   "metadata": {
    "editable": true,
    "slideshow": {
     "slide_type": ""
    },
    "tags": []
   },
   "outputs": [],
   "source": [
    "import re\n",
    "import urllib\n",
    "\n",
    "# ウェブページのURL\n",
    "url = \"https://www.hit-u.ac.jp/\"\n",
    "\n",
    "# URLにリクエストを送付し、レスポンスを受け取る。\n",
    "resp = urllib.request.urlopen(url)"
   ]
  },
  {
   "cell_type": "markdown",
   "metadata": {
    "editable": true,
    "slideshow": {
     "slide_type": ""
    },
    "tags": []
   },
   "source": [
    "`urlopen`の戻り値は[`HTTPResponse`](https://docs.python.org/ja/3/library/http.client.html#httpresponse-objects)という型を取り、アクセスの可否を表すステータスコード等を取得できる。\n",
    "\n",
    "[ステータスコード](https://developer.mozilla.org/ja/docs/Web/HTTP/Status)には非常に多くの種類があるが、アクセスに成功すれば 200、アクセスが拒否されれば 403、ページが見つからなければ 404、サーバ側でエラーが生じている場合には 500、くらいのコードを覚えておけば十分だろう。\n"
   ]
  },
  {
   "cell_type": "code",
   "execution_count": 10,
   "metadata": {
    "editable": true,
    "slideshow": {
     "slide_type": ""
    },
    "tags": []
   },
   "outputs": [
    {
     "name": "stdout",
     "output_type": "stream",
     "text": [
      "Status Code: 200\n"
     ]
    }
   ],
   "source": [
    "# ステータスコードの確認\n",
    "print(f\"Status Code: {resp.status:d}\")"
   ]
  },
  {
   "cell_type": "markdown",
   "metadata": {
    "editable": true,
    "slideshow": {
     "slide_type": ""
    },
    "tags": []
   },
   "source": [
    "実際、上記の例で間違った URL を用いると、ページが見つからないことを表す 404 がステータスコードとして返ってくる。\n",
    "\n",
    "ただし、`urlopen`はステータスコードが 404 などの場合に`HTTPError`を例外として返してくるので、以下のソースコードでは、例外の内容からステータスコードを確認している。\n"
   ]
  },
  {
   "cell_type": "code",
   "execution_count": 11,
   "metadata": {
    "editable": true,
    "slideshow": {
     "slide_type": ""
    },
    "tags": []
   },
   "outputs": [
    {
     "name": "stdout",
     "output_type": "stream",
     "text": [
      "HTTP Error 404: Not Found\n"
     ]
    }
   ],
   "source": [
    "# 存在しないページへのアクセス\n",
    "url_dummy = \"https://www.hit-u.ac.jp/dummy-no-page.html\"\n",
    "try:\n",
    "    urllib.request.urlopen(url_dummy)\n",
    "except urllib.error.HTTPError as e:\n",
    "    print(e)"
   ]
  },
  {
   "cell_type": "markdown",
   "metadata": {
    "editable": true,
    "slideshow": {
     "slide_type": ""
    },
    "tags": []
   },
   "source": [
    "ステータスコードが 200 で正しくウェブページの内容を受信できたら、まずは受信したレスポンスヘッダの内容を確認しよう。レスポンスヘッダの内容は`resp.headers`で確認できる。`resp.headers`は dict 型のような形で`.items()`を用いて内容が確認できる。\n"
   ]
  },
  {
   "cell_type": "code",
   "execution_count": 12,
   "metadata": {
    "editable": true,
    "slideshow": {
     "slide_type": ""
    },
    "tags": []
   },
   "outputs": [
    {
     "name": "stdout",
     "output_type": "stream",
     "text": [
      "              Server: nginx\n",
      "                Date: Tue, 20 Feb 2024 05:58:04 GMT\n",
      "        Content-Type: text/html\n",
      "   Transfer-Encoding: chunked\n",
      "          Connection: close\n",
      "       Accept-Ranges: bytes\n"
     ]
    }
   ],
   "source": [
    "for k, v in resp.headers.items():\n",
    "    print(f\"{k:>20s}: {v:s}\")"
   ]
  },
  {
   "cell_type": "markdown",
   "metadata": {
    "editable": true,
    "slideshow": {
     "slide_type": ""
    },
    "tags": []
   },
   "source": [
    "レスポンスヘッダの内容から取得したファイルが`text/html`、すなわち HTML ファイルであることが確認できた。\n"
   ]
  },
  {
   "cell_type": "markdown",
   "metadata": {
    "editable": true,
    "slideshow": {
     "slide_type": ""
    },
    "tags": []
   },
   "source": [
    "ファイルの種類が分かったら、次に取得したファイルの内容を見てみよう。ファイル内容は`resp.read()`により取得できる。\n",
    "\n",
    "ただし、ファイルの内容はバイト文字として受け取られるため、そのままでは内容を理解することは難しい。今回はファイルのエンコーディングが UTF-8 であるとして、バイト文字列をデコードする。\n"
   ]
  },
  {
   "cell_type": "code",
   "execution_count": 13,
   "metadata": {
    "editable": true,
    "slideshow": {
     "slide_type": ""
    },
    "tags": []
   },
   "outputs": [
    {
     "name": "stdout",
     "output_type": "stream",
     "text": [
      "<!DOCTYPE html>\n",
      "<html lang=\"ja\">\n",
      "\n",
      "<head>\n",
      "<meta charset=\"UTF-8\">\n",
      "<meta http-equiv=\"X-UA-Compatible\" content=\"IE=edge\">\n",
      "<title>一橋大学</title>\n",
      "<meta name=\"author\" content=\"Hitotsubashi University\">\n",
      "<meta name=\"viewport\" content=\"width=1440, shrink-to-fit=yes\">\n",
      "<meta name=\"format-detection\" content=\"telephone=no\">\n"
     ]
    }
   ],
   "source": [
    "body = resp.read().decode(\"utf-8\")\n",
    "lines = body.split(\"\\n\")\n",
    "\n",
    "# 最初の10行だけ表示\n",
    "for line in lines[:10]:\n",
    "    print(line.strip())"
   ]
  },
  {
   "cell_type": "markdown",
   "metadata": {
    "editable": true,
    "slideshow": {
     "slide_type": ""
    },
    "tags": []
   },
   "source": [
    "一通り、取得した情報に対する処理が終了したら、`resp.close()`を呼び出して HTTP 接続を切断しておく。\n"
   ]
  },
  {
   "cell_type": "code",
   "execution_count": 14,
   "metadata": {
    "editable": true,
    "slideshow": {
     "slide_type": ""
    },
    "tags": []
   },
   "outputs": [],
   "source": [
    "resp.close()"
   ]
  },
  {
   "cell_type": "markdown",
   "metadata": {
    "editable": true,
    "slideshow": {
     "slide_type": ""
    },
    "tags": []
   },
   "source": [
    "なお、上記のコードはファイル入出力を扱う`open`関数などと同様に`with`文を用いて HTTP 接続の開閉を自動化することができる。\n"
   ]
  },
  {
   "cell_type": "code",
   "execution_count": 15,
   "metadata": {
    "editable": true,
    "slideshow": {
     "slide_type": ""
    },
    "tags": []
   },
   "outputs": [
    {
     "name": "stdout",
     "output_type": "stream",
     "text": [
      "<!DOCTYPE html>\n",
      "<html lang=\"ja\">\n",
      "<head>\n",
      "<meta charset=\"UTF-8\">\n",
      "<meta http-equiv=\"X-UA-Compatible\" content=\"IE=edge\">\n",
      "<title>一橋大学</title>\n",
      "<meta name=\"author\" content=\"Hitotsubashi University\">\n",
      "<meta name=\"viewport\" content=\"width=1440, shrink-to-fit=yes\">\n",
      "<meta name=\"format-detection\" content=\"telephone=no\">\n",
      "<meta name=\"description\" content=\"一橋大学, 一橋\">\n"
     ]
    }
   ],
   "source": [
    "with urllib.request.urlopen(url) as resp:\n",
    "    body = resp.read().decode(\"utf-8\")\n",
    "    lines = re.split(\"[\\n\\r]{1,2}\", body)\n",
    "    for line in lines[:10]:\n",
    "        print(line.strip())"
   ]
  },
  {
   "cell_type": "markdown",
   "metadata": {
    "editable": true,
    "raw_mimetype": "",
    "slideshow": {
     "slide_type": ""
    },
    "tags": []
   },
   "source": [
    "## GET メソッドと POST メソッド\n"
   ]
  },
  {
   "cell_type": "code",
   "execution_count": 16,
   "metadata": {
    "editable": true,
    "slideshow": {
     "slide_type": ""
    },
    "tags": []
   },
   "outputs": [
    {
     "name": "stdout",
     "output_type": "stream",
     "text": [
      "URL : https://httpbin.org/post\n",
      "Code : 200\n",
      "Content-Type : application/json\n"
     ]
    }
   ],
   "source": [
    "url = \"https://httpbin.org/post\"\n",
    "headers = {\n",
    "    \"Accept-Charset\": \"UTF-8\",\n",
    "    \"User-Agent\": \"Mozilla/5.0\",\n",
    "}\n",
    "\n",
    "data = {\n",
    "    \"q\": \"桃太郎\",\n",
    "}\n",
    "data = urllib.parse.urlencode(data).encode(\"ascii\")\n",
    "request = urllib.request.Request(url, data, headers=headers, method=\"POST\")\n",
    "with urllib.request.urlopen(request) as response:\n",
    "    print(\"URL :\", response.geturl())\n",
    "    print(\"Code :\", response.getcode())\n",
    "    print(\"Content-Type :\", response.info()[\"content-type\"])\n",
    "    body = response.read()"
   ]
  },
  {
   "cell_type": "code",
   "execution_count": 17,
   "metadata": {
    "editable": true,
    "slideshow": {
     "slide_type": ""
    },
    "tags": []
   },
   "outputs": [
    {
     "name": "stdout",
     "output_type": "stream",
     "text": [
      "URL : https://ndlsearch.ndl.go.jp/api/opensearch?title=%E6%A1%83%E5%A4%AA%E9%83%8E&cnt=10\n",
      "Code : 200\n",
      "Content-Type : text/xml;charset=UTF-8\n"
     ]
    }
   ],
   "source": [
    "url = \"https://iss.ndl.go.jp/api/opensearch\"\n",
    "headers = {\n",
    "    \"Accept-Charset\": \"UTF-8\",\n",
    "    \"User-Agent\": \"Mozilla/5.0\",\n",
    "}\n",
    "\n",
    "data = {\n",
    "    \"title\": \"桃太郎\",\n",
    "    \"cnt\": \"10\",\n",
    "}\n",
    "data = urllib.parse.urlencode(data)\n",
    "request = urllib.request.Request(url + \"?\" + data, headers=headers, method=\"GET\")\n",
    "with urllib.request.urlopen(request) as response:\n",
    "    print(\"URL :\", response.geturl())\n",
    "    print(\"Code :\", response.getcode())\n",
    "    print(\"Content-Type :\", response.info()[\"content-type\"])\n",
    "    body = response.read()"
   ]
  },
  {
   "cell_type": "code",
   "execution_count": 18,
   "metadata": {
    "editable": true,
    "slideshow": {
     "slide_type": ""
    },
    "tags": []
   },
   "outputs": [],
   "source": [
    "# print(body.decode(\"utf-8\"))"
   ]
  },
  {
   "cell_type": "code",
   "execution_count": null,
   "metadata": {
    "editable": true,
    "slideshow": {
     "slide_type": ""
    },
    "tags": []
   },
   "outputs": [],
   "source": []
  }
 ],
 "metadata": {
  "kernelspec": {
   "display_name": "Python 3 (ipykernel)",
   "language": "python",
   "name": "python3"
  },
  "language_info": {
   "codemirror_mode": {
    "name": "ipython",
    "version": 3
   },
   "file_extension": ".py",
   "mimetype": "text/x-python",
   "name": "python",
   "nbconvert_exporter": "python",
   "pygments_lexer": "ipython3",
   "version": "3.11.4"
  }
 },
 "nbformat": 4,
 "nbformat_minor": 4
}
