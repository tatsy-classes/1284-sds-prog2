{
 "cells": [
  {
   "cell_type": "markdown",
   "metadata": {},
   "source": [
    "(sec:webpage)=\n",
    "# ウェブページの作成"
   ]
  },
  {
   "cell_type": "markdown",
   "metadata": {},
   "source": [
    "本節では、HTMLとCSSを用いたウェブページ作成の基礎について学ぶ。"
   ]
  },
  {
   "cell_type": "markdown",
   "metadata": {},
   "source": [
    "## HTMLの基本"
   ]
  },
  {
   "cell_type": "markdown",
   "metadata": {},
   "source": [
    "HTMLは**Hyper Text Markup Languag**eの略で、ウェブページの各種要素 (元々はハイパーリンク)を含んだ文書であるHyper Textを記述するための**マークアップ言語**を指す。\n",
    "\n",
    "なお、マークアップ言語は、文書の構造に従って構造化されたコードを記述するための仕組みで、HTML以外にも**XML** (Extended Markup Language)や**YAML** (Yet Another Markup Language, 呼称には諸説あり)などが知られている。"
   ]
  },
  {
   "cell_type": "markdown",
   "metadata": {},
   "source": [
    "### HTMLタグ"
   ]
  },
  {
   "cell_type": "markdown",
   "metadata": {},
   "source": [
    "HTMLの文書は**タグ**と呼ばれる構造を記述するための要素を階層状に記述することで作られる。例えば、段落を表すタグであるpタグ (`<p>...</p>`)は以下のように使う。"
   ]
  },
  {
   "cell_type": "markdown",
   "metadata": {},
   "source": [
    "```html\n",
    "<!-- pタグの使用例 -->\n",
    "<p>\n",
    "Hello world!\n",
    "</p>\n",
    "```"
   ]
  },
  {
   "cell_type": "markdown",
   "metadata": {},
   "source": [
    "このように記述することで、ブラウザ上では`Hello, world!`の文章が1つの段落であると認識され、ブラウザの初期設定に従って上下にマージン等が挿入される。実際に、上記の内容を記述したHTML文書をブラウザで表示してみると、以下のように表示される (Google Chromeの場合)。\n",
    "\n",
    "```{image} ./imgs/hello_html.jpg\n",
    ":align: center\n",
    ":width: 80%\n",
    ":class: with-border\n",
    "```"
   ]
  },
  {
   "cell_type": "markdown",
   "metadata": {},
   "source": [
    "上記の`<p>...</p>`は開始と終了を表す要素の組からなっているが、imgタグ (`<img />`)のように、単一の要素で記述される要素もある。\n",
    "\n",
    "```html\n",
    "<!-- imgタグの使用例 -->\n",
    "<img src=\"./image/sample.jpg\" />\n",
    "```"
   ]
  },
  {
   "cell_type": "markdown",
   "metadata": {},
   "source": [
    "また、各タグは**属性**によって、各要素の挙動を調整することができる。例えば上記のimgタグの例では`src=\"...\"`が属性であり、画像ファイルのある場所を相対パスで指定している。"
   ]
  },
  {
   "cell_type": "markdown",
   "metadata": {},
   "source": [
    "HTMLは要素を階層的に記述するのが一般的であり、例えばpタグとimgタグを組み合わせて、段落内にある画像を以下のように記述することができる。\n",
    "\n",
    "```html\n",
    "<p>\n",
    "  <img src=\"./image/sample.jpg\" />\n",
    "</p>\n",
    "```\n",
    "\n",
    "タグの階層構造は親子関係のように呼ばれ、上記の例ではimgタグはpタグの**子要素**であり、反対にpタグはimgタグの**親要素**である。\n",
    "\n",
    "HTMLにはpタグやimgタグ以外にも、非常に多くのタグが存在するので、[「HTML タグ 一覧」](https://www.google.com/search?q=HTML+%E3%82%BF%E3%82%B0+%E4%B8%80%E8%A6%A7)などのキーワードで検索して、どのようなものがあるかを確認してほしい。"
   ]
  },
  {
   "cell_type": "markdown",
   "metadata": {},
   "source": [
    "```{admonition} HTMLタグ\n",
    ":class: note\n",
    "\n",
    "- HTMLタグは`<p>...</p>`のように開始・終端を表す要素のペアからなるものと`<img />`のように単一の要素からなるものがある\n",
    "- 各タグは属性によって付加情報を指定し、その挙動を調整することができる\n",
    "```"
   ]
  },
  {
   "cell_type": "markdown",
   "metadata": {},
   "source": [
    "### HTML文書の構造"
   ]
  },
  {
   "cell_type": "markdown",
   "metadata": {},
   "source": [
    "ひとつのHTML文書は、`.html`という拡張子を持つファイル内に記述される。文書中には、親要素としてhtmlタグが最初に記述され、その子要素としてheadタグとbodyタグが記述される。\n",
    "\n",
    "**headタグ** (`<head>...</head>`)は、HTML文書のプロパティを指定する役割を持ち、その子要素として、メタ情報を付加するmetaタグや文書のタイトルを指定するtitleタグを持たせることができる。\n",
    "\n",
    "**bodyタグ** (`<body>...</body>`)は、HTML文書の本体であり、実際にブラウザに表示される内容を指定する。例えば、前述の例で示したpタグやimgタグを用いて、ページの表示内容を指定する。\n",
    "\n",
    "```html\n",
    "<!-- HTML文書の構造 -->\n",
    "<html>\n",
    "  <head>\n",
    "    <!-- HTML文書のプロパティを指定 -->\n",
    "  </head>\n",
    "  <body>\n",
    "    <!-- HTML文書の本体を記述 -->\n",
    "  </body>\n",
    "</html>\n",
    "```"
   ]
  },
  {
   "cell_type": "markdown",
   "metadata": {},
   "source": [
    "### HMTL文書のプロパティ"
   ]
  },
  {
   "cell_type": "markdown",
   "metadata": {},
   "source": [
    "HTML文書のプロパティの代表的なものにタイトルとテキスト・エンコーディングがある。\n",
    "\n",
    "タイトルはtitleタグ (`<title>...</title>`)を用いて指定され、多くのブラウザではページ上部に指定した文字列が表示される。\n",
    "\n",
    "```html\n",
    "<!-- headタグの子要素として指定 -->\n",
    "<title>最初のHTML</title>\n",
    "```\n",
    "\n",
    "一例としてGoogle Chromeでは、以下のようにタブの部分にタイトルが表示される。\n",
    "\n",
    "```{image} ./imgs/html_with_title.jpg\n",
    ":align: center\n",
    ":width: 80%\n",
    ":class: with-border\n",
    "```\n",
    "\n",
    "\n",
    "**テキスト・エンコーディング**は、そのHTML文書がどのようなバイト形式で書かれているのかを示す。英語の文書は基本的に`a`や`1`などの文字の表現に1バイト(=8ビット)の情報を使用するが、日本語(&その他の言語)の場合には、「あ」や「大」などの文字に1バイトより多くの情報を使用する。このような文字のことを特に**マルチバイト文字**と呼ぶ。\n",
    "\n",
    "マルチバイト文字には、各言語ごとに複数のバイト表現形式があり、日本語なら、**Shift-JIS**や**EUC-JP**, **UTF-8**などがある。ネットサーフィン中にページが文字化けしているのを見たことがある人も多いと思うが、これは**HTML文書のエンコーディング**と**HTMLプロパティに指定されたエンコーディング**が不一致のために起こることが多い。そのため、日本語等の英語以外の言語でウェブページを作る際には、常に、HTML文書のエンコーディングとHTMLプロパティに指定するエンコーディングが揃っていることを確認することが大切である。\n",
    "\n",
    "HTML文書のエンコーディングは、Visual Studio Codeなら、画面右下の情報バーから確認できる (下図参照)。\n",
    "\n",
    "```{image} ./imgs/text_encoding.jpg\n",
    ":align: center\n",
    ":width: 80%\n",
    ":class: mb-1\n",
    "```\n",
    "\n",
    "この画像では文書がUTF-8形式で作成されているので、HTML文書のプロパティにも同様にUTF-8を指定する。指定にはmetaタグを用いて以下のように記述する。\n",
    "\n",
    "```html\n",
    "<!-- headタグの子要素として指定 -->\n",
    "<meta charset=\"utf-8\" />\n",
    "```\n",
    "\n",
    "なお、余談にはなるが、上記の`charset`属性はHTML5から導入されたものなので、古いブラウザもサポートしたい場合には、以下のように記述する必要がある。\n",
    "\n",
    "```html\n",
    "<meta http-equiv=\"content-type\" content=\"text/html; charset=utf-8\" /> \n",
    "```"
   ]
  },
  {
   "cell_type": "markdown",
   "metadata": {},
   "source": [
    "```{admonition} HTML文書\n",
    ":class: note\n",
    "\n",
    "- 各文書は`.html`の拡張子を持つテキストファイルに保存する\n",
    "- HTML文書はhtmlタグと、その子要素としてのheadタグ、bodyタグからなる\n",
    "- headタグにはタイトルやテキスト・エンコーディングなどの文書プロパティを指定する\n",
    "- bodyタグにはブラウザに表示されるページ内容を記述する\n",
    "```"
   ]
  },
  {
   "cell_type": "markdown",
   "metadata": {},
   "source": [
    "### 練習問題"
   ]
  },
  {
   "cell_type": "markdown",
   "metadata": {},
   "source": [
    "- これまでの内容を基に、単一の段落内に画像が1つだけあるようなHTML文書を作成せよ。この際、テキストのエンコーディングはUTF-8であるとし、文書のタイトルを「最初のHTML」とせよ。\n",
    "- 文書をUTF-8で作成した上で、HTML文書のエンコーディングをShift JISに指定するとどうなるか確認せよ (ブラウザによって挙動が異なる)。"
   ]
  },
  {
   "cell_type": "markdown",
   "metadata": {},
   "source": [
    "## CSSの基本"
   ]
  },
  {
   "cell_type": "markdown",
   "metadata": {},
   "source": [
    "CSSはCascade Style Sheetの略で、HTMLのタグや特定のID、クラスを持つ要素に対して、スタイル(= デザイン要素)を指定する役割を持つ。スタイルの指定方法には大きく分けて以下の3つの方法がある。\n",
    "\n",
    "1. HTMLタグに属性`style=...`を指定する方法\n",
    "2. headタグの子要素としてstyleタグを配置して指定する方法\n",
    "3. 拡張子が`.css`のファイルを別に作成する方法\n",
    "\n",
    "なお、同じ要素に対して複数の異なる指定がなされた場合には、上記のリストの中で**より若い番号のものが優先**される。"
   ]
  },
  {
   "cell_type": "markdown",
   "metadata": {},
   "source": [
    "### CSSの文法"
   ]
  },
  {
   "cell_type": "markdown",
   "metadata": {},
   "source": [
    "CSSによるスタイルは、**デザイン要素の名前**と、その要素に対する**パラメータ**の組により指定される。一例として、要素の幅を指定したい場合には、\n",
    "\n",
    "```css\n",
    "width: 100px;\n",
    "```\n",
    "\n",
    "のように書く。この際、パラメータの後に**セミコロンをつける**のを忘れないようにすること。\n",
    "\n",
    "また、色の指定には、`red`や`black`などの色の名前 ([使える名前の一覧](https://developer.mozilla.org/en-US/docs/Web/CSS/named-color))の他、16進数の組による指定の方法がある。16進数で色を指定する場合には、赤、緑、青の各色要素に対して、0-255の値を16進数で記述する。一例として、黄色 (= 赤: 255, 緑: 255, 青: 0)を指定したい場合には\n",
    "\n",
    "```css\n",
    "color: #ffff00;\n",
    "```\n",
    "\n",
    "のように書く。これは、\n",
    "\n",
    "```css\n",
    "color: yellow;\n",
    "```\n",
    "\n",
    "と書くことと同義である。\n",
    "\n",
    "また、デザイン要素の中には`border`のように複数のパラメータを指定できるものもある。例えば、1px幅の線、実線、青色、の属性を持つ線を引きたければ、\n",
    "\n",
    "```css\n",
    "border: 1px solid #0000ff;\n",
    "```\n",
    "\n",
    "のようにパラメータを指定すれば良い。"
   ]
  },
  {
   "cell_type": "markdown",
   "metadata": {},
   "source": [
    "### style属性"
   ]
  },
  {
   "cell_type": "markdown",
   "metadata": {},
   "source": [
    "では、実際にタグにstyle属性を指定して、その挙動を確認してみよう。pタグにstyle属性を指定して、文字を赤色に変更してみる。\n",
    "\n",
    "```html\n",
    "<p style=\"color: #ff0000;\">\n",
    "Hello, world!\n",
    "</p>\n",
    "```\n",
    "\n",
    "すると、ブラウザ上では、以下の画像のように文字の色が変更される。\n",
    "\n",
    "```{image} ./imgs/text_color_red.jpg\n",
    ":align: center\n",
    ":width: 80%\n",
    ":class: with-border\n",
    "```\n",
    "\n",
    "同様にして、フォントサイズを変更したり、フォントを太字にしたりすることもできる。この場合には、style属性にセミコロンで区切って、複数のスタイルを指定する。\n",
    "\n",
    "```html\n",
    "<p style=\"color: #ff0000; font-size: 20pt; font-weight: bold;\">\n",
    "Hello, world!\n",
    "</p>\n",
    "```\n",
    "\n",
    "```{image} ./imgs/text_styles.jpg\n",
    ":align: center\n",
    ":width: 80%\n",
    ":class: with-border\n",
    "```"
   ]
  },
  {
   "cell_type": "markdown",
   "metadata": {},
   "source": [
    "### styleタグ"
   ]
  },
  {
   "cell_type": "markdown",
   "metadata": {},
   "source": [
    "headタグの子要素としてstyleタグを用いる場合には、上記の**デザイン要素**＋**パラメータ**のペアに加えて、それらを**どの要素に適用するか**を指定する必要がある。\n",
    "\n",
    "例えば、全てのpタグに対して、文字を赤色、フォントサイズ20pt、文字を太字、というスタイルを指定するには、\n",
    "\n",
    "```html\n",
    "<style>\n",
    "    p {\n",
    "        color: #ff0000;\n",
    "        font-size: 20pt;\n",
    "        font-weight: bold;\n",
    "    }\n",
    "</style>\n",
    "```\n",
    "\n",
    "のようにstyleタグを使用する。\n",
    "\n",
    "全体ではなく、個別の要素に対してスタイルを指定したい場合には、IDもしくはクラスを用いる。これらはタグの属性としてIDなら`id=\"...\"`、クラスなら`class=\"...\"`のような形で指定する。これらの指定を持つタグにのみスタイルを適用する場合、CSSの内容は次のようになる。\n",
    "\n",
    "---\n",
    "\n",
    "**styleタグの記述**\n",
    "\n",
    "```html\n",
    "<style>\n",
    "    /* IDとしてredを持つpタグにスタイルを指定 */\n",
    "    p#red {\n",
    "        color: #ff0000;\n",
    "    }\n",
    "\n",
    "    /* クラスとしてblueを持つpタグにスタイルを指定 */\n",
    "    p.blue {\n",
    "        color: #0000ff;\n",
    "    }\n",
    "</style>\n",
    "```\n",
    "\n",
    "**スタイルが適用される要素**\n",
    "\n",
    "```html\n",
    "<p id=\"red\">\n",
    "赤色のテキスト\n",
    "</p>\n",
    "<p class=\"blue\">\n",
    "青色のテキスト\n",
    "</p>\n",
    "```\n",
    "\n",
    "---\n",
    "\n",
    "なお、同じデザイン要素に異なるパラメータがIDとクラスの両方で指定された場合にはIDの方の指定が優先される。従って、\n",
    "\n",
    "```html\n",
    "<p id=\"red\" class=\"blue\">\n",
    "何色のテキスト？\n",
    "</p>\n",
    "```\n",
    "\n",
    "のように書くと、pタグ内部の文字列は赤色になる。これはIDが個別のタグ(= identity)を、クラスが一定の要素の集まり(= class of tags)を指定する目的で使われるものであることと関係する。"
   ]
  },
  {
   "cell_type": "markdown",
   "metadata": {},
   "source": [
    "また、HTMLのタグが階層構造を持つことと関係して、CSSでは、特定のタグの子要素に対してのみスタイルを適用することができる。例えばpタグの子要素になっているimgタグにのみ囲み線をつけたければ、次のように記述する。\n",
    "\n",
    "```html\n",
    "<style>\n",
    "    p img {\n",
    "        /* 1px幅で黒色の実線 */\n",
    "        border: 1px solid #000000;\n",
    "    }\n",
    "</style>\n",
    "```\n",
    "\n",
    "この例のようにタグやID等をスペースで区切ると、要素の親子関係に基づいてスタイルが指定できる。一方で、気をつけなければならないのは、次のような例である。\n",
    "\n",
    "```html\n",
    "<style>\n",
    "    /* スペースなし */\n",
    "    p.red {\n",
    "        color: #ff0000;\n",
    "    }\n",
    "\n",
    "    /* スペースあり */\n",
    "    p .red {\n",
    "        color: #ff0000;\n",
    "    }\n",
    "</style>\n",
    "```\n",
    "\n",
    "この例では**スペースなし**の方は、「クラスがredであるpタグ」を表すのに対して、**スペースあり**の方は、「pタグの子要素のうち、クラスがredであるもの」を表す。このような些細な違いが、結果に影響するので注意したい。"
   ]
  },
  {
   "cell_type": "markdown",
   "metadata": {},
   "source": [
    "### CSSファイル"
   ]
  },
  {
   "cell_type": "markdown",
   "metadata": {},
   "source": [
    "CSSファイルを使用するには、拡張子が`.css`のファイルを別途用意 (`style.css`とする)し、このファイルをHTML文書のheadタグ内にlinkタグを用いて指定する。\n",
    "\n",
    "```html\n",
    "<!-- headタグ内に記述する -->\n",
    "<link href=\"./style.css\" rel=\"stylesheet\" />\n",
    "```\n",
    "\n",
    "この際、href属性に指定するCSSファイルのパスが(絶対パスでも相対パスでも)間違っていないかをよく確認すること。その上で、CSSファイルには、styleタグの内部に記述したものと同様の内容を記述すれば良い。"
   ]
  },
  {
   "cell_type": "markdown",
   "metadata": {},
   "source": [
    "```{admonition} CSSの基本事項\n",
    ":class: note\n",
    "\n",
    "- CSSによるスタイルの指定方法には、style属性、styleタグ、CSSファイルの3つの方法がある\n",
    "- 各スタイルは、デザイン要素の名前と、その要素に対するパラメータの組により定義される\n",
    "- 個別の要素にスタイルを指定するためにIDやクラスなどの属性が用いられる\n",
    "```"
   ]
  },
  {
   "cell_type": "markdown",
   "metadata": {},
   "source": [
    "### 練習問題"
   ]
  },
  {
   "cell_type": "markdown",
   "metadata": {},
   "source": [
    "- styleタグ、もしくはCSSファイルを用いて、pタグに次のスタイルを指定せよ (以下の実行例を参照)。\n",
    "    - テキストの色が青色\n",
    "    - テキストが中央揃え\n",
    "    - 赤色の点線で囲まれている\n",
    "    - 背景の色が灰色\n",
    "\n",
    "```{figure} ./imgs/css_practice_01.jpg\n",
    ":align: center\n",
    ":width: 80%\n",
    "実行例\n",
    "```"
   ]
  },
  {
   "cell_type": "markdown",
   "metadata": {},
   "source": [
    "## 演習"
   ]
  },
  {
   "cell_type": "markdown",
   "metadata": {},
   "source": [
    "HTMLとCSSを0から書いて、自分のプロフィールページを作成しよう。その際、以下の要件を満たすように作成すること。\n",
    "\n",
    "1. HTMLファイル1つ (`index.html`)とCSSファイル1つ (`style.css`)からなるページにする\n",
    "1. スタイルは全てCSSファイル内に記述する \n",
    "1. 画像と外部サイトへのリンクを1つ以上入れる\n",
    "\n",
    "作成したページはクラス内で限定公開するので、他の人を傷つける内容や公序良俗に反する内容は書かないこと。その代わり、限定公開なので、インターネット上の画像等は常識の範囲内で自由に使って良い。"
   ]
  },
  {
   "cell_type": "code",
   "execution_count": null,
   "metadata": {},
   "outputs": [],
   "source": []
  }
 ],
 "metadata": {
  "kernelspec": {
   "display_name": "Python 3 (ipykernel)",
   "language": "python",
   "name": "python3"
  },
  "language_info": {
   "codemirror_mode": {
    "name": "ipython",
    "version": 3
   },
   "file_extension": ".py",
   "mimetype": "text/x-python",
   "name": "python",
   "nbconvert_exporter": "python",
   "pygments_lexer": "ipython3",
   "version": "3.11.4"
  }
 },
 "nbformat": 4,
 "nbformat_minor": 4
}
