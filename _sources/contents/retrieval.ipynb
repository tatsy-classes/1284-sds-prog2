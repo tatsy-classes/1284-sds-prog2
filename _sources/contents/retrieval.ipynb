{
 "cells": [
  {
   "cell_type": "code",
   "execution_count": 1,
   "metadata": {
    "editable": true,
    "slideshow": {
     "slide_type": ""
    },
    "tags": [
     "remove-cell"
    ]
   },
   "outputs": [],
   "source": [
    "import os\n",
    "import numpy as np\n",
    "import pandas as pd\n",
    "\n",
    "from tqdm.auto import tqdm\n",
    "from IPython.display import display\n",
    "from myst_nb import glue"
   ]
  },
  {
   "cell_type": "code",
   "execution_count": 2,
   "metadata": {
    "editable": true,
    "slideshow": {
     "slide_type": ""
    },
    "tags": [
     "remove-cell"
    ]
   },
   "outputs": [],
   "source": [
    "# 演習データのtar.gz圧縮\n",
    "import tarfile\n",
    "\n",
    "tar_file = \"data/countries.tar.gz\"\n",
    "target = tar_file.replace(\".tar.gz\", \"\")\n",
    "\n",
    "# tarfileの展開\n",
    "if not os.path.exists(\"data/countries\"):\n",
    "    with tarfile.open(tar_file, mode=\"r:gz\") as tar:\n",
    "        tar.extractall(target)"
   ]
  },
  {
   "cell_type": "code",
   "execution_count": 3,
   "metadata": {
    "editable": true,
    "slideshow": {
     "slide_type": ""
    },
    "tags": [
     "remove-cell"
    ]
   },
   "outputs": [
    {
     "data": {
      "application/vnd.jupyter.widget-view+json": {
       "model_id": "053c0604f87641729e69d6feecfec32d",
       "version_major": 2,
       "version_minor": 0
      },
      "text/plain": [
       "  0%|          | 0/193 [00:00<?, ?it/s]"
      ]
     },
     "metadata": {},
     "output_type": "display_data"
    }
   ],
   "source": [
    "from janome.tokenizer import Tokenizer\n",
    "\n",
    "# 国名リスト\n",
    "contries = []\n",
    "with open(\"data/countries/list.txt\", \"r\", encoding=\"utf-8\") as f:\n",
    "    countries = f.readlines()\n",
    "\n",
    "countries = [c.strip() for c in countries]\n",
    "\n",
    "# 分かち書き\n",
    "tkz = Tokenizer()\n",
    "for c in tqdm(countries):\n",
    "    doc = f\"data/countries/{c:s}.txt\"\n",
    "    wakati_file = f\"data/countries/{c:s}_wakati.txt\"\n",
    "\n",
    "    # インデックスが計算済みなら、それを利用\n",
    "    if not os.path.exists(wakati_file):\n",
    "        # 転置インデックスの作成\n",
    "        with open(doc, \"r\", encoding=\"utf-8\") as f:\n",
    "            body = f.read()\n",
    "            tokens = list(tkz.tokenize(body, wakati=True))\n",
    "\n",
    "        # 分かち書きファイルの保存\n",
    "        with open(wakati_file, \"w\", encoding=\"utf-8\") as f:\n",
    "            f.write(\" \".join(tokens))"
   ]
  },
  {
   "cell_type": "markdown",
   "metadata": {
    "editable": true,
    "slideshow": {
     "slide_type": ""
    },
    "tags": []
   },
   "source": [
    "(sec:retrieval)=\n",
    "\n",
    "# 情報検索の基礎"
   ]
  },
  {
   "cell_type": "markdown",
   "metadata": {
    "editable": true,
    "slideshow": {
     "slide_type": ""
    },
    "tags": []
   },
   "source": [
    "本節では、今日、インターネット等を用いる上で避けて通ることのできない**情報検索** (information retrieval)の仕組みについて学ぶ。\n",
    "\n",
    "情報検索を指す英語にはsearchではなく、「失われたものを取り戻す」というニュアンスのretrieveが用いられるので注意してほしい (元々は古い文書から情報を取り戻す、という意味だったらしい)。\n",
    "\n",
    "情報検索には、Google等のサーチエンジンのように、特定の単語を含む文章の計算から、とある文書と類似した文書を探す、はたまた、画像検索のように類似したメディアを探す、という処理まで幅広く含まれる。\n",
    "\n",
    "本項では、特に日本語を対象として、単語ベースの文書検索ならびに類似度に基づく文書検索について紹介する。"
   ]
  },
  {
   "cell_type": "markdown",
   "metadata": {
    "editable": true,
    "slideshow": {
     "slide_type": ""
    },
    "tags": []
   },
   "source": [
    "## 検索の準備"
   ]
  },
  {
   "cell_type": "markdown",
   "metadata": {
    "editable": true,
    "slideshow": {
     "slide_type": ""
    },
    "tags": []
   },
   "source": [
    "以下の資料では、日本語版のWikipediaから収集した国連加盟国193ヶ国 (2024年5月27日現在)の記事情報を用いて演習を実施する。\n",
    "\n",
    "圧縮したデータを以下のURLに用意してあるので、各自、ダウンロードと展開を済ませておくこと。\n",
    "\n",
    "- [情報検索 - 演習用データ](data/countries.tar.gz)"
   ]
  },
  {
   "cell_type": "markdown",
   "metadata": {
    "editable": true,
    "slideshow": {
     "slide_type": ""
    },
    "tags": []
   },
   "source": [
    ":::{admonition} ファイルの展開\n",
    ":class: warning\n",
    "\n",
    "Windowsを使っている場合には、単にファイルをダブルクリックするだけでは展開されない。ファイルを右クリックして「全て展開」のメニューから内容を展開すること。\n",
    ":::"
   ]
  },
  {
   "cell_type": "markdown",
   "metadata": {
    "editable": true,
    "slideshow": {
     "slide_type": ""
    },
    "tags": []
   },
   "source": [
    "### 日本語の取り扱い"
   ]
  },
  {
   "cell_type": "markdown",
   "metadata": {
    "editable": true,
    "slideshow": {
     "slide_type": ""
    },
    "tags": []
   },
   "source": [
    "本項では、日本語を対象にした情報検索について取り扱う。しかし、日本語(や中国語等のいわゆるCJK言語)は、英語等の単語がスペース等で区切られた言語よりも一般に取り扱いが難しい。\n",
    "\n",
    "このような言語を対象に、文章を単語に区切るための仕組みを**形態素解析**と呼ぶ。日本語向けの形態素解析のライブラリで、最も有名なものに[Mecab](https://taku910.github.io/mecab/)がある。\n",
    "\n",
    "しかし、MecabはPythonで取り扱う際には、インストールに少々手間がかかるので、本項ではもう一つの有名ライブラリである[janome](https://mocobeta.github.io/janome/)を用いる。ただし、janomeはMecabに比べると動作が遅いので、より最適化されたプログラムを作成したい場合には、Mecabの方を使うと良い。\n",
    "\n",
    "**janome**はpip等を用いて簡単にインストールできる。\n",
    "\n",
    "```shell\n",
    "pip install janome\n",
    "```\n",
    "\n",
    "使い方の詳細については、[公式のドキュメント](https://mocobeta.github.io/janome/)を参照のこと。以下では、単純な単語分割のやり方について紹介する。"
   ]
  },
  {
   "cell_type": "markdown",
   "metadata": {
    "editable": true,
    "slideshow": {
     "slide_type": ""
    },
    "tags": []
   },
   "source": [
    "### janomeによる形態素解析"
   ]
  },
  {
   "cell_type": "markdown",
   "metadata": {
    "editable": true,
    "slideshow": {
     "slide_type": ""
    },
    "tags": []
   },
   "source": [
    "まずは`countries/日本.txt`を読み込んで、内容を表示してみよう(以下の例では最初の5行だけを表示)。ファイルはUTF-8でエンコードされているので注意すること。"
   ]
  },
  {
   "cell_type": "code",
   "execution_count": 6,
   "metadata": {
    "editable": true,
    "slideshow": {
     "slide_type": ""
    },
    "tags": []
   },
   "outputs": [],
   "source": [
    "# データのディレクトリは各自で読み替えること\n",
    "lines = []\n",
    "with open(\"data/countries/日本.txt\", mode=\"r\", encoding=\"utf-8\") as f:\n",
    "    lines = f.readlines()"
   ]
  },
  {
   "cell_type": "code",
   "execution_count": 7,
   "metadata": {
    "editable": true,
    "slideshow": {
     "slide_type": ""
    },
    "tags": [
     "remove-input"
    ]
   },
   "outputs": [
    {
     "name": "stdout",
     "output_type": "stream",
     "text": [
      "建国諸説あり日本神話による初代神武天皇即位の日辛酉年月日。グレゴリオ暦換算での紀元前年月日紀元節は明治時代に推定された注釈。\n",
      "日本国にほんこく、にっぽんこく、英、または日本にほん、にっぽんは、東アジアに位置する民主制国家。首都は東京都注釈。\n",
      "全長キロメートル以上にわたる国土は、主に日本列島注釈および南西諸島伊豆諸島小笠原諸島などの弧状列島により構成される。大部分が温帯に属するが、北部や島嶼部では亜寒帯や熱帯の地域がある。地形は起伏に富み、火山地丘陵を含む山地の面積は国土の約を占め、人口は沿岸の平野部に集中している。国内には行政区分としての都道府県があり、日本人大和民族琉球民族アイヌ民族注釈外国系諸民族と外国人と数百人程度の無国籍者注釈が居住し、日本語を通用する。漢字文化圏に含まれる国のつでもある。\n",
      "日本国憲法は、天皇を日本国の象徴と規定している。\n",
      "日本の象徴として国樹は桜、国鳥はキジ、山国の象徴となる山は富士山、その他がある。\n",
      "\n"
     ]
    }
   ],
   "source": [
    "print(\"\".join(lines[:5]))"
   ]
  },
  {
   "cell_type": "markdown",
   "metadata": {
    "editable": true,
    "slideshow": {
     "slide_type": ""
    },
    "tags": []
   },
   "source": [
    "言うまでもなく、日本語の文書は単語ごとにスペースなどで区切られておらず、このまま、単語単位の検索をかけようとすると、各文の中に所望の単語が存在するかどうかを逐一チェックしなくてはならない。\n",
    "\n",
    "このような検索には、一般に文の長さを$N$として線形時間、即ち$O(N)$の計算時間がかかってしまう。線形時間の計算は特別時間がかかる計算という訳ではないが、全ての文に同様の処理を行なわねばならないことを考えると、決して効率的な処理とは言えない。"
   ]
  },
  {
   "cell_type": "markdown",
   "metadata": {
    "editable": true,
    "slideshow": {
     "slide_type": ""
    },
    "tags": []
   },
   "source": [
    "形態素解析では、文章を最小の意味単位に区切る。この最小の意味単位のことを**トークン**と呼ぶ。\n",
    "\n",
    "janomeを用いた形態素解析には`Tokenizer`というクラスを用いる。`Tokernizer`クラスには`tokenize`という関数が用意されており、この関数に日本語の文書をテキストとして渡すことで、形態素解析が実行される。\n",
    "\n",
    "戻り値はトークン化された結果で、各トークンには、単語そのものの他に、品詞などの情報が付随している。"
   ]
  },
  {
   "cell_type": "code",
   "execution_count": 8,
   "metadata": {
    "editable": true,
    "slideshow": {
     "slide_type": ""
    },
    "tags": []
   },
   "outputs": [],
   "source": [
    "# janomeのインポート\n",
    "from janome.tokenizer import Tokenizer\n",
    "\n",
    "# Tokenizerの初期化\n",
    "tkz = Tokenizer()\n",
    "\n",
    "# 文書の内容を結合\n",
    "body = \"\".join(lines)\n",
    "\n",
    "# 形態素解析の実行 (少し時間がかかる)\n",
    "tokens = list(tkz.tokenize(body))"
   ]
  },
  {
   "cell_type": "markdown",
   "metadata": {
    "editable": true,
    "slideshow": {
     "slide_type": ""
    },
    "tags": []
   },
   "source": [
    "実際に、単語分割結果を見てみると、元の単語と品詞のほか、読み方などの情報も含まれていることが分かる。"
   ]
  },
  {
   "cell_type": "code",
   "execution_count": 9,
   "metadata": {
    "editable": true,
    "slideshow": {
     "slide_type": ""
    },
    "tags": [
     "remove-input"
    ]
   },
   "outputs": [
    {
     "name": "stdout",
     "output_type": "stream",
     "text": [
      "建国\t名詞,サ変接続,*,*,*,*,建国,ケンコク,ケンコク\n",
      "諸説\t名詞,一般,*,*,*,*,諸説,ショセツ,ショセツ\n",
      "あり\t動詞,自立,*,*,五段・ラ行,連用形,ある,アリ,アリ\n",
      "日本\t名詞,固有名詞,地域,国,*,*,日本,ニッポン,ニッポン\n",
      "神話\t名詞,一般,*,*,*,*,神話,シンワ,シンワ\n",
      "による\t助詞,格助詞,連語,*,*,*,による,ニヨル,ニヨル\n",
      "初代\t名詞,一般,*,*,*,*,初代,ショダイ,ショダイ\n",
      "神武\t名詞,固有名詞,人名,一般,*,*,神武,ジンム,ジンム\n",
      "天皇\t名詞,一般,*,*,*,*,天皇,テンノウ,テンノー\n",
      "即位\t名詞,サ変接続,*,*,*,*,即位,ソクイ,ソクイ\n"
     ]
    }
   ],
   "source": [
    "n = 0\n",
    "for t in tokens:\n",
    "    if len(t.surface.strip()) > 0:\n",
    "        print(t)\n",
    "        n += 1\n",
    "\n",
    "    if n >= 10:\n",
    "        break"
   ]
  },
  {
   "cell_type": "markdown",
   "metadata": {
    "editable": true,
    "slideshow": {
     "slide_type": ""
    },
    "tags": []
   },
   "source": [
    "一見、左列の単語情報だけがあれば十分に見えるが、右列の付属情報は同音異義語などを識別する際に役に立つ。ただし、以下の説明では、特に同音異義語を区別することなく計算を実行することとする。"
   ]
  },
  {
   "cell_type": "markdown",
   "metadata": {
    "editable": true,
    "slideshow": {
     "slide_type": ""
    },
    "tags": []
   },
   "source": [
    ":::{admonition} トークンと単語\n",
    ":class: warning\n",
    "\n",
    "トークンは概ね単語と同義と考えて良いが、あえて異なる用語として使っている本などもあるので、その点は注意してほしい。以下では、トークンと単語は同義であるとして説明を続ける。\n",
    ":::"
   ]
  },
  {
   "cell_type": "markdown",
   "metadata": {},
   "source": [
    "### 分かち書き"
   ]
  },
  {
   "cell_type": "markdown",
   "metadata": {},
   "source": [
    "以後の処理を簡単にするために各文書ファイルの**分かち書き**を行なっておこう。分かち書きとは、日本語のように、本来は単語と単語の境目が明らかでない言語で書かれた文章に対して、単語間にスペースを入れて記したものを指す。\n",
    "\n",
    "janomeの`Tokernizer`には分かち書きモードが用意されていて、`tokernize`関数に`wakati=True`というパラメータを渡すと、品詞などの属性情報を含まない単語分割の結果だけを得ることができる。"
   ]
  },
  {
   "cell_type": "code",
   "execution_count": 10,
   "metadata": {
    "editable": true,
    "slideshow": {
     "slide_type": ""
    },
    "tags": []
   },
   "outputs": [],
   "source": [
    "# 文書の読み込み\n",
    "doc = \"data/countries/日本.txt\"\n",
    "with open(doc, mode=\"r\", encoding=\"utf-8\") as f:\n",
    "    text = f.read()\n",
    "\n",
    "# 分かち書きモードでトークン化する\n",
    "tkz = Tokenizer()\n",
    "wakati = list(tkz.tokenize(text, wakati=True))\n",
    "\n",
    "# 必要に応じてファイルを保存\n",
    "with open(\"data/countries/日本_wakati.txt\", mode=\"w\", encoding=\"utf-8\") as f:\n",
    "    f.write(\" \".join(wakati))"
   ]
  },
  {
   "cell_type": "markdown",
   "metadata": {
    "editable": true,
    "slideshow": {
     "slide_type": ""
    },
    "tags": []
   },
   "source": [
    "分かち書きを行なった結果は、以下のように単語の間にスペースが入ったものになっていはずなので、各自`..._wakati.txt`ファイルを開いて、このような形式になっているかを確認しておくと良い。"
   ]
  },
  {
   "cell_type": "code",
   "execution_count": 16,
   "metadata": {
    "editable": true,
    "slideshow": {
     "slide_type": ""
    },
    "tags": [
     "remove-input"
    ]
   },
   "outputs": [
    {
     "name": "stdout",
     "output_type": "stream",
     "text": [
      "建国 諸説 あり 日本 神話 による 初代 神武 天皇 即位 の 日 辛 酉 年月日 。 グレゴリオ 暦 換算 で の 紀元前 年月日 紀元節 は 明治 時代 に 推定 さ れ た 注釈 。 \n",
      " 日本 国 に ほん こく 、 にっぽん こく 、 英 、 または 日本 に ほん 、 にっぽん は 、 東アジア に 位置 する 民主 制 国家 。 首都 は 東京 都 注釈 。 \n",
      " 全長 キロメートル \n"
     ]
    }
   ],
   "source": [
    "print(\" \".join(wakati)[:200])"
   ]
  },
  {
   "cell_type": "markdown",
   "metadata": {
    "editable": true,
    "slideshow": {
     "slide_type": ""
    },
    "tags": []
   },
   "source": [
    ":::{admonition} 日本語の取り扱い\n",
    ":class: note\n",
    "\n",
    "- 情報検索などの自然言語処理で日本語を扱う場合には、あらかじめ形態素解析を行う\n",
    "- 形態素解析は日本語の文法を解析して、単語あるいはトークンの列に変換する役割を持つ\n",
    "- 日本語の文章の単語と単語の間にスペースを入れたような形式を「分かち書き」と呼ぶ\n",
    ":::"
   ]
  },
  {
   "cell_type": "markdown",
   "metadata": {
    "editable": true,
    "slideshow": {
     "slide_type": ""
    },
    "tags": []
   },
   "source": [
    "## 検索クエリによる文書検索"
   ]
  },
  {
   "cell_type": "markdown",
   "metadata": {
    "editable": true,
    "slideshow": {
     "slide_type": ""
    },
    "tags": []
   },
   "source": [
    "インターネット上のサーチエンジンを用いる場合、いわゆる検索窓に調べたい語句を入力する。このような検索対象となる語句のことを**検索クエリ**と呼ぶ。\n",
    "\n",
    "検索クエリは通常、複数の単語から構成されており、その中で全ての単語を含むような文書や、いずれかの単語を含む文書などを検索することができる。"
   ]
  },
  {
   "cell_type": "markdown",
   "metadata": {
    "editable": true,
    "slideshow": {
     "slide_type": ""
    },
    "tags": []
   },
   "source": [
    "### 転置インデックス"
   ]
  },
  {
   "cell_type": "markdown",
   "metadata": {
    "editable": true,
    "slideshow": {
     "slide_type": ""
    },
    "tags": []
   },
   "source": [
    "検索クエリによる検索には、**転置インデックス**と呼ばれるデータ構造を用いることが一般的である。\n",
    "\n",
    "**転置インデックス** (inverted index)とは、文書内に現れる単語について、その出現位置をインデックス化したものを指す。まずは、短い文章で、その概念を理解しよう。\n",
    "\n",
    "一例として、「すもももももももものうち」という文章が与えられたとする。これを形態素解析すると、\n",
    "\n",
    "すもも、も、もも、も、もも、の、うち\n",
    "\n",
    "のように分割される。各単語が現れる位置は、\n",
    "\n",
    "- すもも: 0\n",
    "- も: 3, 6\n",
    "- もも: 4, 7\n",
    "- の: 9\n",
    "- うち: 10\n",
    "\n",
    "のようになる。このように文書に現れる単語ごとに、出現位置をリスト化したものを転置インデックスと呼ぶ。"
   ]
  },
  {
   "cell_type": "markdown",
   "metadata": {
    "editable": true,
    "slideshow": {
     "slide_type": ""
    },
    "tags": []
   },
   "source": [
    "転置インデックスを各文書に対して計算するため、文書内に現れる各単語の出現位置を調べる。\n",
    "\n",
    "先ほど用意しておいた分かち書きのファイルを読み込んで、半角スペースで区切って単語に分割しておく。"
   ]
  },
  {
   "cell_type": "code",
   "execution_count": 40,
   "metadata": {
    "editable": true,
    "slideshow": {
     "slide_type": ""
    },
    "tags": []
   },
   "outputs": [],
   "source": [
    "# 分かち書きファイルの読み込み\n",
    "tokens = []\n",
    "with open(\"data/countries/日本_wakati.txt\", mode=\"r\", encoding=\"utf-8\") as f:\n",
    "    tokens = f.read().split()"
   ]
  },
  {
   "cell_type": "code",
   "execution_count": null,
   "metadata": {
    "editable": true,
    "slideshow": {
     "slide_type": ""
    },
    "tags": []
   },
   "outputs": [],
   "source": []
  },
  {
   "cell_type": "code",
   "execution_count": 41,
   "metadata": {
    "editable": true,
    "slideshow": {
     "slide_type": ""
    },
    "tags": []
   },
   "outputs": [],
   "source": [
    "# 各単語の出現位置を調べる\n",
    "n = 0\n",
    "indices = []\n",
    "for tk in tokens:\n",
    "    indices.append((n, tk))\n",
    "    n += len(tk)"
   ]
  },
  {
   "cell_type": "markdown",
   "metadata": {
    "editable": true,
    "slideshow": {
     "slide_type": ""
    },
    "tags": []
   },
   "source": [
    "この時点では、単語は出現順に並んでおり、その単語に出現位置が付与されているだけなので、単語をキーとする辞書を作成し、出現位置を表すインデックスを辞書の値として持たせる。"
   ]
  },
  {
   "cell_type": "code",
   "execution_count": 42,
   "metadata": {
    "editable": true,
    "slideshow": {
     "slide_type": ""
    },
    "tags": []
   },
   "outputs": [],
   "source": [
    "# 転置インデックスを作成\n",
    "ii = {s: [] for n, s in indices}\n",
    "for n, s in indices:\n",
    "    ii[s].append(n)"
   ]
  },
  {
   "cell_type": "markdown",
   "metadata": {
    "editable": true,
    "slideshow": {
     "slide_type": ""
    },
    "tags": []
   },
   "source": [
    "作成した辞書を最初の出現位置が早い順にいくつか表示すると、以下のようになる。"
   ]
  },
  {
   "cell_type": "code",
   "execution_count": 43,
   "metadata": {
    "editable": true,
    "slideshow": {
     "slide_type": ""
    },
    "tags": [
     "remove-input"
    ]
   },
   "outputs": [
    {
     "data": {
      "text/html": [
       "<div>\n",
       "<style scoped>\n",
       "    .dataframe tbody tr th:only-of-type {\n",
       "        vertical-align: middle;\n",
       "    }\n",
       "\n",
       "    .dataframe tbody tr th {\n",
       "        vertical-align: top;\n",
       "    }\n",
       "\n",
       "    .dataframe thead th {\n",
       "        text-align: right;\n",
       "    }\n",
       "</style>\n",
       "<table border=\"1\" class=\"dataframe\">\n",
       "  <thead>\n",
       "    <tr style=\"text-align: right;\">\n",
       "      <th></th>\n",
       "      <th>単語</th>\n",
       "      <th>出現位置</th>\n",
       "    </tr>\n",
       "  </thead>\n",
       "  <tbody>\n",
       "    <tr>\n",
       "      <th>0</th>\n",
       "      <td>建国</td>\n",
       "      <td>[0, 14406, 14436, 14459, 14650, 14691, 14820, ...</td>\n",
       "    </tr>\n",
       "    <tr>\n",
       "      <th>1</th>\n",
       "      <td>諸説</td>\n",
       "      <td>[2, 14084, 75602, 91246]</td>\n",
       "    </tr>\n",
       "    <tr>\n",
       "      <th>2</th>\n",
       "      <td>あり</td>\n",
       "      <td>[4, 275, 507, 2003, 2912, 3388, 7627, 10627, 1...</td>\n",
       "    </tr>\n",
       "    <tr>\n",
       "      <th>3</th>\n",
       "      <td>日本</td>\n",
       "      <td>[6, 62, 83, 139, 361, 375, 421, 427, 435, 449,...</td>\n",
       "    </tr>\n",
       "    <tr>\n",
       "      <th>4</th>\n",
       "      <td>神話</td>\n",
       "      <td>[8, 8371, 14630, 14768, 36570]</td>\n",
       "    </tr>\n",
       "    <tr>\n",
       "      <th>5</th>\n",
       "      <td>による</td>\n",
       "      <td>[10, 1286, 2520, 6265, 9891, 14478, 17141, 177...</td>\n",
       "    </tr>\n",
       "    <tr>\n",
       "      <th>6</th>\n",
       "      <td>初代</td>\n",
       "      <td>[13, 11406, 14481, 37229, 55089, 72372, 103990]</td>\n",
       "    </tr>\n",
       "    <tr>\n",
       "      <th>7</th>\n",
       "      <td>神武</td>\n",
       "      <td>[15, 11411, 13245, 14483, 14541, 14550, 14555,...</td>\n",
       "    </tr>\n",
       "    <tr>\n",
       "      <th>8</th>\n",
       "      <td>天皇</td>\n",
       "      <td>[17, 358, 8198, 9050, 9459, 10593, 10669, 1070...</td>\n",
       "    </tr>\n",
       "    <tr>\n",
       "      <th>9</th>\n",
       "      <td>即位</td>\n",
       "      <td>[19, 14487, 14678, 14733, 14917, 14981, 103846...</td>\n",
       "    </tr>\n",
       "  </tbody>\n",
       "</table>\n",
       "</div>"
      ],
      "text/plain": [
       "    単語                                               出現位置\n",
       "0   建国  [0, 14406, 14436, 14459, 14650, 14691, 14820, ...\n",
       "1   諸説                           [2, 14084, 75602, 91246]\n",
       "2   あり  [4, 275, 507, 2003, 2912, 3388, 7627, 10627, 1...\n",
       "3   日本  [6, 62, 83, 139, 361, 375, 421, 427, 435, 449,...\n",
       "4   神話                     [8, 8371, 14630, 14768, 36570]\n",
       "5  による  [10, 1286, 2520, 6265, 9891, 14478, 17141, 177...\n",
       "6   初代    [13, 11406, 14481, 37229, 55089, 72372, 103990]\n",
       "7   神武  [15, 11411, 13245, 14483, 14541, 14550, 14555,...\n",
       "8   天皇  [17, 358, 8198, 9050, 9459, 10593, 10669, 1070...\n",
       "9   即位  [19, 14487, 14678, 14733, 14917, 14981, 103846..."
      ]
     },
     "metadata": {},
     "output_type": "display_data"
    }
   ],
   "source": [
    "temp = [(n, s) for n, s in ii.items()]\n",
    "temp = temp[:10]\n",
    "df = pd.DataFrame(temp, columns=[\"単語\", \"出現位置\"])\n",
    "display(df)"
   ]
  },
  {
   "cell_type": "markdown",
   "metadata": {
    "editable": true,
    "slideshow": {
     "slide_type": ""
    },
    "tags": []
   },
   "source": [
    "転置インデックスにおいて、単語の集合のことを特に**辞書**と呼び、出現位置を表すインデックスのリストのことを**ポスティング・リスト**と呼ぶ。\n",
    "\n",
    "ここまで、「日本」というWikipediaの記事について転置インデックスの計算を行なったが、以下の演習では、データベースにある193ヶ国分の文書について、転置インデックスが計算済みであるとする。"
   ]
  },
  {
   "cell_type": "markdown",
   "metadata": {
    "editable": true,
    "slideshow": {
     "slide_type": ""
    },
    "tags": []
   },
   "source": [
    "### 単語による文書検索"
   ]
  },
  {
   "cell_type": "markdown",
   "metadata": {
    "editable": true,
    "slideshow": {
     "slide_type": ""
    },
    "tags": []
   },
   "source": [
    "転置インデックスが取得できたら、とある検索語が文書に存在するかを調べることは非常に容易である。即ち、とある単語をキーとして転置インデックスを評価したときに、出現位置のリストが空でなければ、その文書内に検索語が存在することになる。"
   ]
  },
  {
   "cell_type": "code",
   "execution_count": 51,
   "metadata": {
    "editable": true,
    "slideshow": {
     "slide_type": ""
    },
    "tags": []
   },
   "outputs": [
    {
     "name": "stdout",
     "output_type": "stream",
     "text": [
      "\"東京\" is in the document.\n"
     ]
    }
   ],
   "source": [
    "query = \"東京\"\n",
    "\n",
    "if query in ii:\n",
    "    print(f'\"{query}\" is in the document.')\n",
    "else:\n",
    "    print(f'\"{query}\" is NOT in the document.')"
   ]
  },
  {
   "cell_type": "markdown",
   "metadata": {
    "editable": true,
    "slideshow": {
     "slide_type": ""
    },
    "tags": []
   },
   "source": [
    "同様にして、複数の単語のいずれかが含まれるか(OR検索)、あるいは複数の単語の全てが含まれるか(AND検索)についても、同様の方法で容易に実装できる。"
   ]
  },
  {
   "cell_type": "code",
   "execution_count": 52,
   "metadata": {
    "editable": true,
    "slideshow": {
     "slide_type": ""
    },
    "tags": []
   },
   "outputs": [
    {
     "name": "stdout",
     "output_type": "stream",
     "text": [
      "\"東京\" and \"大阪\" are both contained in the document.\n"
     ]
    }
   ],
   "source": [
    "q1 = \"東京\"\n",
    "q2 = \"大阪\"\n",
    "\n",
    "# 各クエリが文書内に出現するかを調べる\n",
    "q1_ok = q1 in ii\n",
    "q2_ok = q2 in ii\n",
    "\n",
    "# 以下はAND検索の例\n",
    "if q1_ok and q2_ok:\n",
    "    print(f'\"{q1}\" and \"{q2}\" are both contained in the document.')\n",
    "else:\n",
    "    print(f'\"both {q1}\" and \"{q2}\" are not contained in the document.')"
   ]
  },
  {
   "cell_type": "code",
   "execution_count": 53,
   "metadata": {
    "editable": true,
    "slideshow": {
     "slide_type": ""
    },
    "tags": [
     "remove-cell"
    ]
   },
   "outputs": [
    {
     "data": {
      "text/plain": [
       "6915"
      ]
     },
     "metadata": {
      "scrapbook": {
       "mime_prefix": "",
       "name": "dict_size"
      }
     },
     "output_type": "display_data"
    }
   ],
   "source": [
    "glue(\"dict_size\", len(ii))"
   ]
  },
  {
   "cell_type": "markdown",
   "metadata": {
    "editable": true,
    "slideshow": {
     "slide_type": ""
    },
    "tags": []
   },
   "source": [
    "上記の計算では、各単語が文書内に存在するかどうかを、辞書内の検索によって実現している。\n",
    "\n",
    "「日本」という記事において、辞書の大きさは{glue}`dict_size`であり、計算機から見ればそれほど大きな数ではないが、上記の計算にかかる計算量には注意を払っておく必要がある。\n",
    "\n",
    "Pythonの辞書型はハッシュテーブルを使って実装されているので、辞書型のキーに指定した単語が含まれているかどうかは定数時間で計算できる。\n",
    "\n",
    "以上のことから、文書内の各文について、単語が含まれるかを見ていくのに比べ、転置インデックスを利用する方が圧倒的に効率的な探索が可能であることが分かる。"
   ]
  },
  {
   "cell_type": "markdown",
   "metadata": {
    "editable": true,
    "slideshow": {
     "slide_type": ""
    },
    "tags": []
   },
   "source": [
    "### 連語検索"
   ]
  },
  {
   "cell_type": "markdown",
   "metadata": {
    "editable": true,
    "slideshow": {
     "slide_type": ""
    },
    "tags": []
   },
   "source": [
    "では「東京オリンピック」のような連語を検索したい場合にはどうすれば良いだろうか？\n",
    "\n",
    "「東京オリンピック」という単語は、形態素解析によって「東京」「オリンピック」という2語に分割されるので、転置インデックスの辞書に「東京オリンピック」は存在しない。"
   ]
  },
  {
   "cell_type": "code",
   "execution_count": 54,
   "metadata": {
    "editable": true,
    "slideshow": {
     "slide_type": ""
    },
    "tags": []
   },
   "outputs": [
    {
     "name": "stdout",
     "output_type": "stream",
     "text": [
      "\"東京オリンピック\" is NOT contained in the document.\n"
     ]
    }
   ],
   "source": [
    "query = \"東京オリンピック\"\n",
    "\n",
    "if query in ii:\n",
    "    print(f'\"{query}\" is in the document.')\n",
    "else:\n",
    "    print(f'\"{query}\" is NOT contained in the document.')"
   ]
  },
  {
   "cell_type": "markdown",
   "metadata": {
    "editable": true,
    "slideshow": {
     "slide_type": ""
    },
    "tags": []
   },
   "source": [
    "そこで、「東京オリンピック」という単語が含まれるための必要条件として、「東京」と「オリンピック」の各語が文書に含まれるかどうかを最初に確認する。"
   ]
  },
  {
   "cell_type": "code",
   "execution_count": 55,
   "metadata": {
    "editable": true,
    "slideshow": {
     "slide_type": ""
    },
    "tags": []
   },
   "outputs": [
    {
     "name": "stdout",
     "output_type": "stream",
     "text": [
      "\"東京\" and \"オリンピック\" are both contained in the document.\n"
     ]
    }
   ],
   "source": [
    "q1 = \"東京\"\n",
    "q2 = \"オリンピック\"\n",
    "\n",
    "# 各クエリが文書内に出現するかを調べる\n",
    "q1_ok = q1 in ii\n",
    "q2_ok = q2 in ii\n",
    "\n",
    "# 以下はAND検索の例\n",
    "if q1_ok and q2_ok:\n",
    "    print(f'\"{q1}\" and \"{q2}\" are both contained in the document.')\n",
    "else:\n",
    "    print(f'\"both {q1}\" and \"{q2}\" are not contained in the document.')"
   ]
  },
  {
   "cell_type": "markdown",
   "metadata": {
    "editable": true,
    "slideshow": {
     "slide_type": ""
    },
    "tags": []
   },
   "source": [
    "ここまでで、「東京」、「オリンピック」の2語が文書に含まれていることは分かった。しかし、これらの単語が連続しているかどうかはまだ分からない。転置インデックスのポスティングリストに単語の出現位置を記録しておいたことがここで役に立つ。\n",
    "\n",
    "「東京」という単語は長さが2の単語なので、「東京」が現れる位置から2文字進んだところに「オリンピック」という単語が現れていれば、「東京オリンピック」という連語が文書内に存在しているかが分かる。"
   ]
  },
  {
   "cell_type": "code",
   "execution_count": 57,
   "metadata": {
    "editable": true,
    "slideshow": {
     "slide_type": ""
    },
    "tags": []
   },
   "outputs": [
    {
     "name": "stdout",
     "output_type": "stream",
     "text": [
      "\"東京オリンピック\" appears at position 4454.\n",
      "\"東京オリンピック\" appears at position 8072.\n",
      "\"東京オリンピック\" appears at position 23152.\n",
      "\"東京オリンピック\" appears at position 89928.\n",
      "\"東京オリンピック\" appears at position 105036.\n"
     ]
    }
   ],
   "source": [
    "list1 = ii[q1]\n",
    "list2 = ii[q2]\n",
    "\n",
    "for i in list1:\n",
    "    if i + len(q1) in list2:\n",
    "        print(f'\"{q1 + q2:s}\" appears at position {i:d}.')"
   ]
  },
  {
   "cell_type": "markdown",
   "metadata": {
    "editable": true,
    "slideshow": {
     "slide_type": ""
    },
    "tags": []
   },
   "source": [
    "このように、同文書内に「東京オリンピック」という連語が5回出現することが確認できた。\n",
    "\n",
    "この考え方は、より多くの単語が結合された連語に対しても適用できる。例えば「東京株式取引所」という単語が含まれいるかを知りたければ、「東京」という単語の出現位置から2文字進んだ位置に「株式」という単語が出現し、なおかつ、そこからさらに2文字進んだ位置に「取引所」という単語が存在するかを確認すれば良い。"
   ]
  },
  {
   "cell_type": "markdown",
   "metadata": {
    "editable": true,
    "slideshow": {
     "slide_type": ""
    },
    "tags": []
   },
   "source": [
    "### 検索順位の計算"
   ]
  },
  {
   "cell_type": "markdown",
   "metadata": {
    "editable": true,
    "slideshow": {
     "slide_type": ""
    },
    "tags": []
   },
   "source": [
    "複数の文書が与えられた時、特定の検索クエリに対応する文書も複数存在するとしよう。この場合、文書の総数が少なければ、それら全てを順不同に表示すれば良いだろう。\n",
    "\n",
    "しかし、インターネット上にあふれるデータは非常に多く、全文書を順不同で示すことは現実的ではない。そのため、通常の検索エンジンには検索順位を計算する仕組みが用意されているのが一般的である。\n",
    "\n",
    "以下の例では、辞書型の変数`inv_ids`に国名をキーとして各文書の転置インデックスが含まれているものとして、検索ランキングの考え方について説明する。"
   ]
  },
  {
   "cell_type": "code",
   "execution_count": 90,
   "metadata": {
    "editable": true,
    "slideshow": {
     "slide_type": ""
    },
    "tags": [
     "remove-cell"
    ]
   },
   "outputs": [],
   "source": [
    "contries = []\n",
    "with open(\"data/countries/list.txt\", \"r\", encoding=\"utf-8\") as f:\n",
    "    countries = f.readlines()\n",
    "\n",
    "countries = [c.strip() for c in countries]"
   ]
  },
  {
   "cell_type": "code",
   "execution_count": 91,
   "metadata": {
    "editable": true,
    "slideshow": {
     "slide_type": ""
    },
    "tags": [
     "remove-cell"
    ]
   },
   "outputs": [
    {
     "data": {
      "application/vnd.jupyter.widget-view+json": {
       "model_id": "29533f850e8545128d27be4581bfa981",
       "version_major": 2,
       "version_minor": 0
      },
      "text/plain": [
       "  0%|          | 0/193 [00:00<?, ?it/s]"
      ]
     },
     "metadata": {},
     "output_type": "display_data"
    }
   ],
   "source": [
    "inv_ids = {c: None for c in countries}\n",
    "for c in tqdm(countries):\n",
    "    doc = f\"data/countries/{c:s}.txt\"\n",
    "    wakati_file = f\"data/countries/{c:s}_wakati.txt\"\n",
    "\n",
    "    # 分かち書きファイルの読み込み\n",
    "    with open(wakati_file, mode=\"r\", encoding=\"utf-8\") as f:\n",
    "        tokens = f.read().split()\n",
    "\n",
    "    n = 0\n",
    "    ii = {tk: [] for tk in list(set(tokens))}\n",
    "    for tk in tokens:\n",
    "        ii[tk].append(n)\n",
    "        n += len(tk)\n",
    "\n",
    "    inv_ids[c] = ii"
   ]
  },
  {
   "cell_type": "markdown",
   "metadata": {
    "editable": true,
    "slideshow": {
     "slide_type": ""
    },
    "tags": []
   },
   "source": [
    "最も単純には、単語の出現回数が多い順にページを表示すれば良いだろう。前述の連語検索の考え方を利用して、「世界遺産」という単語が各文書に何回ずつ出現するかを計算してみる。"
   ]
  },
  {
   "cell_type": "code",
   "execution_count": 92,
   "metadata": {
    "editable": true,
    "slideshow": {
     "slide_type": ""
    },
    "tags": []
   },
   "outputs": [],
   "source": [
    "q1 = \"世界\"\n",
    "q2 = \"遺産\"\n",
    "\n",
    "count = {c: 0 for c in countries}\n",
    "for c in countries:\n",
    "    if not q1 in inv_ids[c] or not q2 in inv_ids[c]:\n",
    "        continue\n",
    "\n",
    "    l1 = inv_ids[c][q1]\n",
    "    l2 = inv_ids[c][q2]\n",
    "    for i in l1:\n",
    "        if i + len(q1) in l2:\n",
    "            count[c] += 1"
   ]
  },
  {
   "cell_type": "code",
   "execution_count": 93,
   "metadata": {
    "editable": true,
    "slideshow": {
     "slide_type": ""
    },
    "tags": [
     "remove-input"
    ]
   },
   "outputs": [
    {
     "data": {
      "text/html": [
       "<div>\n",
       "<style scoped>\n",
       "    .dataframe tbody tr th:only-of-type {\n",
       "        vertical-align: middle;\n",
       "    }\n",
       "\n",
       "    .dataframe tbody tr th {\n",
       "        vertical-align: top;\n",
       "    }\n",
       "\n",
       "    .dataframe thead th {\n",
       "        text-align: right;\n",
       "    }\n",
       "</style>\n",
       "<table border=\"1\" class=\"dataframe\">\n",
       "  <thead>\n",
       "    <tr style=\"text-align: right;\">\n",
       "      <th></th>\n",
       "      <th>国</th>\n",
       "      <th>出現回数</th>\n",
       "    </tr>\n",
       "  </thead>\n",
       "  <tbody>\n",
       "    <tr>\n",
       "      <th>0</th>\n",
       "      <td>スペイン</td>\n",
       "      <td>5</td>\n",
       "    </tr>\n",
       "    <tr>\n",
       "      <th>1</th>\n",
       "      <td>ベトナム</td>\n",
       "      <td>5</td>\n",
       "    </tr>\n",
       "    <tr>\n",
       "      <th>2</th>\n",
       "      <td>トルコ</td>\n",
       "      <td>4</td>\n",
       "    </tr>\n",
       "    <tr>\n",
       "      <th>3</th>\n",
       "      <td>アゼルバイジャン</td>\n",
       "      <td>3</td>\n",
       "    </tr>\n",
       "    <tr>\n",
       "      <th>4</th>\n",
       "      <td>イラン</td>\n",
       "      <td>3</td>\n",
       "    </tr>\n",
       "    <tr>\n",
       "      <th>5</th>\n",
       "      <td>エストニア</td>\n",
       "      <td>3</td>\n",
       "    </tr>\n",
       "    <tr>\n",
       "      <th>6</th>\n",
       "      <td>エチオピア</td>\n",
       "      <td>3</td>\n",
       "    </tr>\n",
       "    <tr>\n",
       "      <th>7</th>\n",
       "      <td>オーストラリア</td>\n",
       "      <td>3</td>\n",
       "    </tr>\n",
       "    <tr>\n",
       "      <th>8</th>\n",
       "      <td>カーボベルデ</td>\n",
       "      <td>3</td>\n",
       "    </tr>\n",
       "    <tr>\n",
       "      <th>9</th>\n",
       "      <td>シエラレオネ</td>\n",
       "      <td>3</td>\n",
       "    </tr>\n",
       "  </tbody>\n",
       "</table>\n",
       "</div>"
      ],
      "text/plain": [
       "          国  出現回数\n",
       "0      スペイン     5\n",
       "1      ベトナム     5\n",
       "2       トルコ     4\n",
       "3  アゼルバイジャン     3\n",
       "4       イラン     3\n",
       "5     エストニア     3\n",
       "6     エチオピア     3\n",
       "7   オーストラリア     3\n",
       "8    カーボベルデ     3\n",
       "9    シエラレオネ     3"
      ]
     },
     "metadata": {},
     "output_type": "display_data"
    }
   ],
   "source": [
    "count = [(c, v) for c, v in count.items() if v > 0]\n",
    "count.sort(key=lambda x: x[1], reverse=True)\n",
    "df = pd.DataFrame(count, columns=[\"国\", \"出現回数\"])\n",
    "display(df.iloc[:10])"
   ]
  },
  {
   "cell_type": "markdown",
   "metadata": {
    "editable": true,
    "slideshow": {
     "slide_type": ""
    },
    "tags": []
   },
   "source": [
    "この結果を見てみると、一見自然には見えるが、中には直感的に「世界遺産」とは結びつきづらい国名が現れていることも事実である。\n",
    "\n",
    "出現回数だと、単純に長い文書の順位が高くなりやすいので、その影響があるのかもしれない。出現回数の代わりに出現確率を指標として用いるとどうなるだろうか。"
   ]
  },
  {
   "cell_type": "code",
   "execution_count": 94,
   "metadata": {
    "editable": true,
    "slideshow": {
     "slide_type": ""
    },
    "tags": []
   },
   "outputs": [],
   "source": [
    "prob = [(c, v / len(inv_ids[c])) for c, v in count]\n",
    "prob.sort(key=lambda x: x[1], reverse=True)"
   ]
  },
  {
   "cell_type": "code",
   "execution_count": 95,
   "metadata": {
    "editable": true,
    "slideshow": {
     "slide_type": ""
    },
    "tags": [
     "remove-input"
    ]
   },
   "outputs": [
    {
     "data": {
      "text/html": [
       "<div>\n",
       "<style scoped>\n",
       "    .dataframe tbody tr th:only-of-type {\n",
       "        vertical-align: middle;\n",
       "    }\n",
       "\n",
       "    .dataframe tbody tr th {\n",
       "        vertical-align: top;\n",
       "    }\n",
       "\n",
       "    .dataframe thead th {\n",
       "        text-align: right;\n",
       "    }\n",
       "</style>\n",
       "<table border=\"1\" class=\"dataframe\">\n",
       "  <thead>\n",
       "    <tr style=\"text-align: right;\">\n",
       "      <th></th>\n",
       "      <th>国</th>\n",
       "      <th>出現確率</th>\n",
       "    </tr>\n",
       "  </thead>\n",
       "  <tbody>\n",
       "    <tr>\n",
       "      <th>0</th>\n",
       "      <td>スリナム</td>\n",
       "      <td>0.003584</td>\n",
       "    </tr>\n",
       "    <tr>\n",
       "      <th>1</th>\n",
       "      <td>セントルシア</td>\n",
       "      <td>0.003160</td>\n",
       "    </tr>\n",
       "    <tr>\n",
       "      <th>2</th>\n",
       "      <td>ドミニカ国</td>\n",
       "      <td>0.002954</td>\n",
       "    </tr>\n",
       "    <tr>\n",
       "      <th>3</th>\n",
       "      <td>バルバドス</td>\n",
       "      <td>0.002688</td>\n",
       "    </tr>\n",
       "    <tr>\n",
       "      <th>4</th>\n",
       "      <td>エストニア</td>\n",
       "      <td>0.002660</td>\n",
       "    </tr>\n",
       "    <tr>\n",
       "      <th>5</th>\n",
       "      <td>カーボベルデ</td>\n",
       "      <td>0.002443</td>\n",
       "    </tr>\n",
       "    <tr>\n",
       "      <th>6</th>\n",
       "      <td>シエラレオネ</td>\n",
       "      <td>0.002360</td>\n",
       "    </tr>\n",
       "    <tr>\n",
       "      <th>7</th>\n",
       "      <td>アゼルバイジャン</td>\n",
       "      <td>0.002229</td>\n",
       "    </tr>\n",
       "    <tr>\n",
       "      <th>8</th>\n",
       "      <td>レソト</td>\n",
       "      <td>0.002010</td>\n",
       "    </tr>\n",
       "    <tr>\n",
       "      <th>9</th>\n",
       "      <td>サンマリノ</td>\n",
       "      <td>0.002006</td>\n",
       "    </tr>\n",
       "  </tbody>\n",
       "</table>\n",
       "</div>"
      ],
      "text/plain": [
       "          国      出現確率\n",
       "0      スリナム  0.003584\n",
       "1    セントルシア  0.003160\n",
       "2     ドミニカ国  0.002954\n",
       "3     バルバドス  0.002688\n",
       "4     エストニア  0.002660\n",
       "5    カーボベルデ  0.002443\n",
       "6    シエラレオネ  0.002360\n",
       "7  アゼルバイジャン  0.002229\n",
       "8       レソト  0.002010\n",
       "9     サンマリノ  0.002006"
      ]
     },
     "metadata": {},
     "output_type": "display_data"
    }
   ],
   "source": [
    "df = pd.DataFrame(prob, columns=[\"国\", \"出現確率\"])\n",
    "display(df.iloc[:10])"
   ]
  },
  {
   "cell_type": "markdown",
   "metadata": {
    "editable": true,
    "slideshow": {
     "slide_type": ""
    },
    "tags": []
   },
   "source": [
    "残念ながら、今度は比較的短い文書に対して有利な結果になってしまい、逆に直感的でない検索ランキングとなってしまった。"
   ]
  },
  {
   "cell_type": "markdown",
   "metadata": {
    "editable": true,
    "slideshow": {
     "slide_type": ""
    },
    "tags": []
   },
   "source": [
    "### TF-IDF"
   ]
  },
  {
   "cell_type": "markdown",
   "metadata": {
    "editable": true,
    "slideshow": {
     "slide_type": ""
    },
    "tags": []
   },
   "source": [
    "**TF-IDF**はterm frequencyとinverse document frequencyを組み合わせた値で、各文書に現れる単語の重要度を表すために用いられる指標の一つである。\n",
    "\n",
    "**TF** (term frequency)は、各文書において、単語が現れる頻度を用いた指標で、文書$d$に単語$t$が現れる頻度を$f_{t,d}$としたとき、以下の式が用いられることが多い {cite}`buttcher2016information`。\n",
    "\n",
    "$$\n",
    "\\mathrm{TF}(t, d) = \\begin{cases}\n",
    "\\log (f_{t, d}) + 1 & (f_{t,d} > 0) \\\\\n",
    "0 & (\\text{Otherwise})\n",
    "\\end{cases}\n",
    "$$\n",
    "\n",
    "一方、**IDF** (inverse document frequency)は、文書の数$N$と、単語$t$が現れる文書の数$0 \\leq N_t \\leq N$と用いて以下のように定義される。\n",
    "\n",
    "$$\n",
    "\\mathrm{IDF}(t) = \\log \\left( \\frac{N}{N_t} \\right)\n",
    "$$\n",
    "\n",
    "TF-IDFはTF値とIDF値の積で計算される。\n",
    "\n",
    "$$\n",
    "\\mathrm{TF}\\text{-}\\mathrm{IDF}(t, d) = \\mathrm{TF}(t, d) \\cdot \\mathrm{IDF}(t)\n",
    "$$ (eq:tf-idf)"
   ]
  },
  {
   "cell_type": "markdown",
   "metadata": {
    "editable": true,
    "slideshow": {
     "slide_type": ""
    },
    "tags": []
   },
   "source": [
    "TF-IDFを計算するために、まずは全文書に現れる全単語のリスト (コーパスと呼ぶ)を取得しよう。コーパスの取得には、重複をなくしたデータ集合を扱う`set`を用いると良い。"
   ]
  },
  {
   "cell_type": "code",
   "execution_count": 109,
   "metadata": {
    "editable": true,
    "slideshow": {
     "slide_type": ""
    },
    "tags": []
   },
   "outputs": [],
   "source": [
    "# コーパスの取得\n",
    "corpus = set()\n",
    "for c, ii in inv_ids.items():\n",
    "    corpus.update(ii.keys())\n",
    "\n",
    "corpus = sorted(list(corpus))"
   ]
  },
  {
   "cell_type": "markdown",
   "metadata": {
    "editable": true,
    "slideshow": {
     "slide_type": ""
    },
    "tags": []
   },
   "source": [
    "コーパスが取得できたら、後の処理のために、記事名(=国名)と単語にインデックスを振っておく。"
   ]
  },
  {
   "cell_type": "code",
   "execution_count": 111,
   "metadata": {
    "editable": true,
    "slideshow": {
     "slide_type": ""
    },
    "tags": []
   },
   "outputs": [],
   "source": [
    "n_countries = len(countries)\n",
    "n_words = len(corpus)\n",
    "i_countries = {c: i for i, c in enumerate(countries)}\n",
    "i_words = {w: i for i, w in enumerate(corpus)}"
   ]
  },
  {
   "cell_type": "markdown",
   "metadata": {
    "editable": true,
    "slideshow": {
     "slide_type": ""
    },
    "tags": []
   },
   "source": [
    "このインデックスを元に、各記事における各単語の出現回数をNumPyによる二次元配列のデータとして計算する。"
   ]
  },
  {
   "cell_type": "code",
   "execution_count": 112,
   "metadata": {
    "editable": true,
    "slideshow": {
     "slide_type": ""
    },
    "tags": []
   },
   "outputs": [],
   "source": [
    "freq = np.zeros((n_countries, n_words), dtype=\"int32\")\n",
    "for c, ii in inv_ids.items():\n",
    "    for t in ii.keys():\n",
    "        i_c = i_countries[c]\n",
    "        i_w = i_words[t]\n",
    "        freq[i_c, i_w] = len(ii[t])"
   ]
  },
  {
   "cell_type": "markdown",
   "metadata": {
    "editable": true,
    "slideshow": {
     "slide_type": ""
    },
    "tags": []
   },
   "source": [
    "各単語の出現回数が得られたら、{eq}`eq:tf-idf`の定義に基づき、TF-IDFを計算する。"
   ]
  },
  {
   "cell_type": "code",
   "execution_count": 116,
   "metadata": {
    "editable": true,
    "slideshow": {
     "slide_type": ""
    },
    "tags": []
   },
   "outputs": [],
   "source": [
    "N = len(freq)  # 記事の総数\n",
    "N_t = np.sum(freq != 0, axis=0, keepdims=True)  # 各単語が出現する文書の数\n",
    "\n",
    "# 以下、定義式に基づきTF-IDFを計算\n",
    "tf = np.log(1.0 + freq)\n",
    "idf = np.log(N / N_t)\n",
    "tfidf = tf * idf"
   ]
  },
  {
   "cell_type": "markdown",
   "metadata": {
    "editable": true,
    "slideshow": {
     "slide_type": ""
    },
    "tags": []
   },
   "source": [
    "TF-IDFが計算できたら、検索クエリに含まれる単語のTF-IDF値の積を指標として検索ランキングを計算してみよう。"
   ]
  },
  {
   "cell_type": "code",
   "execution_count": 118,
   "metadata": {
    "editable": true,
    "slideshow": {
     "slide_type": ""
    },
    "tags": []
   },
   "outputs": [],
   "source": [
    "q1 = \"世界\"\n",
    "q2 = \"遺産\"\n",
    "scores = {c: 0.0 for c in countries}\n",
    "\n",
    "for c in countries:\n",
    "    if not q1 in inv_ids[c] or not q2 in inv_ids[c]:\n",
    "        continue\n",
    "\n",
    "    l1 = inv_ids[c][q1]\n",
    "    l2 = inv_ids[c][q2]\n",
    "    for i in l1:\n",
    "        if i + len(q1) in l2:\n",
    "            i_c = i_countries[c]\n",
    "            i_w1 = i_words[q1]\n",
    "            i_w2 = i_words[q2]\n",
    "            scores[c] += tfidf[i_c, i_w1] * tfidf[i_c, i_w2]"
   ]
  },
  {
   "cell_type": "markdown",
   "metadata": {
    "editable": true,
    "slideshow": {
     "slide_type": ""
    },
    "tags": []
   },
   "source": [
    "ここで計算した`scores`に基づく検索ランキングは以下のようになる。"
   ]
  },
  {
   "cell_type": "code",
   "execution_count": 119,
   "metadata": {
    "editable": true,
    "slideshow": {
     "slide_type": ""
    },
    "tags": [
     "remove-input"
    ]
   },
   "outputs": [
    {
     "data": {
      "text/html": [
       "<div>\n",
       "<style scoped>\n",
       "    .dataframe tbody tr th:only-of-type {\n",
       "        vertical-align: middle;\n",
       "    }\n",
       "\n",
       "    .dataframe tbody tr th {\n",
       "        vertical-align: top;\n",
       "    }\n",
       "\n",
       "    .dataframe thead th {\n",
       "        text-align: right;\n",
       "    }\n",
       "</style>\n",
       "<table border=\"1\" class=\"dataframe\">\n",
       "  <thead>\n",
       "    <tr style=\"text-align: right;\">\n",
       "      <th></th>\n",
       "      <th>国名</th>\n",
       "      <th>TF-IDF</th>\n",
       "    </tr>\n",
       "  </thead>\n",
       "  <tbody>\n",
       "    <tr>\n",
       "      <th>0</th>\n",
       "      <td>スペイン</td>\n",
       "      <td>0.137280</td>\n",
       "    </tr>\n",
       "    <tr>\n",
       "      <th>1</th>\n",
       "      <td>ベトナム</td>\n",
       "      <td>0.132768</td>\n",
       "    </tr>\n",
       "    <tr>\n",
       "      <th>2</th>\n",
       "      <td>ロシア連邦</td>\n",
       "      <td>0.093656</td>\n",
       "    </tr>\n",
       "    <tr>\n",
       "      <th>3</th>\n",
       "      <td>トルコ</td>\n",
       "      <td>0.092913</td>\n",
       "    </tr>\n",
       "    <tr>\n",
       "      <th>4</th>\n",
       "      <td>ドイツ</td>\n",
       "      <td>0.078629</td>\n",
       "    </tr>\n",
       "    <tr>\n",
       "      <th>5</th>\n",
       "      <td>オーストラリア</td>\n",
       "      <td>0.067139</td>\n",
       "    </tr>\n",
       "    <tr>\n",
       "      <th>6</th>\n",
       "      <td>日本</td>\n",
       "      <td>0.062272</td>\n",
       "    </tr>\n",
       "    <tr>\n",
       "      <th>7</th>\n",
       "      <td>イラン</td>\n",
       "      <td>0.060474</td>\n",
       "    </tr>\n",
       "    <tr>\n",
       "      <th>8</th>\n",
       "      <td>フィリピン</td>\n",
       "      <td>0.056141</td>\n",
       "    </tr>\n",
       "    <tr>\n",
       "      <th>9</th>\n",
       "      <td>ラオス</td>\n",
       "      <td>0.052969</td>\n",
       "    </tr>\n",
       "  </tbody>\n",
       "</table>\n",
       "</div>"
      ],
      "text/plain": [
       "        国名    TF-IDF\n",
       "0     スペイン  0.137280\n",
       "1     ベトナム  0.132768\n",
       "2    ロシア連邦  0.093656\n",
       "3      トルコ  0.092913\n",
       "4      ドイツ  0.078629\n",
       "5  オーストラリア  0.067139\n",
       "6       日本  0.062272\n",
       "7      イラン  0.060474\n",
       "8    フィリピン  0.056141\n",
       "9      ラオス  0.052969"
      ]
     },
     "metadata": {},
     "output_type": "display_data"
    }
   ],
   "source": [
    "scores = [(c, v) for c, v in scores.items() if v > 0]\n",
    "scores.sort(key=lambda x: x[1], reverse=True)\n",
    "df = pd.DataFrame(scores, columns=[\"国名\", \"TF-IDF\"])\n",
    "display(df.iloc[:10])"
   ]
  },
  {
   "cell_type": "markdown",
   "metadata": {
    "editable": true,
    "slideshow": {
     "slide_type": ""
    },
    "tags": []
   },
   "source": [
    "結果を確認してみると、若干ではあるが、世界遺産が多そうな国が上位にならび、やや直感的に近づいた結果となったことが確認できる。\n",
    "\n",
    "なお、2024年5月27日現在、世界遺産登録数が多い順に国名を列挙すると、\n",
    "\n",
    "- イタリア\n",
    "- 中華人民共和国\n",
    "- ドイツ\n",
    "- フランス\n",
    "- スペイン\n",
    "\n",
    "のようなになるので、Wikipediaの記事に単語が現れているかどうかを調べただけでは、そこまで正確な結果が得られているとは言えないかもしれない。"
   ]
  },
  {
   "cell_type": "markdown",
   "metadata": {
    "editable": true,
    "slideshow": {
     "slide_type": ""
    },
    "tags": []
   },
   "source": [
    ":::{admonition} 単語を用いた文書検索\n",
    ":class: note\n",
    "\n",
    "- 複数の単語からなる検索クエリを用いた文書検索には転置インデックスが広く用いられる\n",
    "- 転置インデックスは、文書が含む単語のリストである辞書と、各単語の出現位置の集めたポスティング・リストからなる\n",
    "- 検索ランキングを与えるには、TF-IDFなどの単語重要度を考慮したスコアが利用される\n",
    ":::"
   ]
  },
  {
   "cell_type": "markdown",
   "metadata": {
    "editable": true,
    "slideshow": {
     "slide_type": ""
    },
    "tags": []
   },
   "source": [
    "## 類似文書検索"
   ]
  },
  {
   "cell_type": "markdown",
   "metadata": {
    "editable": true,
    "slideshow": {
     "slide_type": ""
    },
    "tags": []
   },
   "source": [
    "### 文書間類似度"
   ]
  },
  {
   "cell_type": "markdown",
   "metadata": {
    "editable": true,
    "slideshow": {
     "slide_type": ""
    },
    "tags": []
   },
   "source": [
    "文書の類似度を調べる場合にも、上記のTF-IDFの値を用いると良い。この値によって、各文書は全出現単語を次元とするベクトルとして表現される。"
   ]
  },
  {
   "cell_type": "markdown",
   "metadata": {
    "editable": true,
    "slideshow": {
     "slide_type": ""
    },
    "tags": []
   },
   "source": [
    "ベクトル同士の距離を計算する指標は様々あるが、文書の類似度を比較する場合には、コサイン類似度が比較的よく用いられる。\n",
    "\n",
    "$$\n",
    "S_{\\mathrm{cosine}}(\\mathbf{x}, \\mathbf{y}) = \\frac{\\mathbf{x}}{| \\mathbf{x} |} \\cdot \\frac{\\mathbf{y}}{| \\mathbf{y} |}\n",
    "$$"
   ]
  },
  {
   "cell_type": "markdown",
   "metadata": {
    "editable": true,
    "slideshow": {
     "slide_type": ""
    },
    "tags": []
   },
   "source": [
    "今、各単語のTF-IDFの値は正であるので、$\\mathbf{x}$や$\\mathbf{y}$などのベクトルは必ず第1象限に含まれている。従って、コサイン類似度は0から1の間の値を取り、1に近ければ近いほど、二つの文書$\\mathbf{x}$と$\\mathbf{y}$は類似していることを意味する。"
   ]
  },
  {
   "cell_type": "markdown",
   "metadata": {
    "editable": true,
    "slideshow": {
     "slide_type": ""
    },
    "tags": []
   },
   "source": [
    ":::{admonition} 距離と類似度\n",
    ":class: warning\n",
    "\n",
    "「距離」という言葉と「類似度」という言葉はしばしば混同して用いられるが、一般に、より近いデータであれば高い値を取る指標が類似度であり、より近い値に対して0に近い非負の値を取る指標を距離と呼ぶ。\n",
    "\n",
    "この意味で、実際、前述のコサイン類似度を「コサイン距離」と呼ぶのは誤りであるので注意してほしい。\n",
    ":::"
   ]
  },
  {
   "cell_type": "markdown",
   "metadata": {
    "editable": true,
    "slideshow": {
     "slide_type": ""
    },
    "tags": []
   },
   "source": [
    "ここで、コサイン類似度を用いて「日本」により近い内容を持つ文書を探してみよう。"
   ]
  },
  {
   "cell_type": "code",
   "execution_count": 155,
   "metadata": {
    "editable": true,
    "slideshow": {
     "slide_type": ""
    },
    "tags": []
   },
   "outputs": [],
   "source": [
    "v_japan = tfidf[i_countries[\"日本\"], :]\n",
    "\n",
    "dists = []\n",
    "for c in countries:\n",
    "    v = tfidf[i_countries[c], :]\n",
    "    d = np.dot(v_japan, v) / (np.linalg.norm(v_japan) * np.linalg.norm(v))\n",
    "    dists.append((c, d))"
   ]
  },
  {
   "cell_type": "markdown",
   "metadata": {
    "editable": true,
    "slideshow": {
     "slide_type": ""
    },
    "tags": []
   },
   "source": [
    "このようにして計算されたコサイン類似度が高い順に国名を列挙すると以下のようになる。"
   ]
  },
  {
   "cell_type": "code",
   "execution_count": 156,
   "metadata": {
    "editable": true,
    "slideshow": {
     "slide_type": ""
    },
    "tags": [
     "remove-input"
    ]
   },
   "outputs": [
    {
     "data": {
      "text/html": [
       "<div>\n",
       "<style scoped>\n",
       "    .dataframe tbody tr th:only-of-type {\n",
       "        vertical-align: middle;\n",
       "    }\n",
       "\n",
       "    .dataframe tbody tr th {\n",
       "        vertical-align: top;\n",
       "    }\n",
       "\n",
       "    .dataframe thead th {\n",
       "        text-align: right;\n",
       "    }\n",
       "</style>\n",
       "<table border=\"1\" class=\"dataframe\">\n",
       "  <thead>\n",
       "    <tr style=\"text-align: right;\">\n",
       "      <th></th>\n",
       "      <th>国名</th>\n",
       "      <th>コサイン類似度</th>\n",
       "    </tr>\n",
       "  </thead>\n",
       "  <tbody>\n",
       "    <tr>\n",
       "      <th>0</th>\n",
       "      <td>日本</td>\n",
       "      <td>1.000000</td>\n",
       "    </tr>\n",
       "    <tr>\n",
       "      <th>1</th>\n",
       "      <td>韓国</td>\n",
       "      <td>0.260421</td>\n",
       "    </tr>\n",
       "    <tr>\n",
       "      <th>2</th>\n",
       "      <td>北朝鮮</td>\n",
       "      <td>0.215774</td>\n",
       "    </tr>\n",
       "    <tr>\n",
       "      <th>3</th>\n",
       "      <td>アメリカ合衆国</td>\n",
       "      <td>0.198374</td>\n",
       "    </tr>\n",
       "    <tr>\n",
       "      <th>4</th>\n",
       "      <td>ロシア連邦</td>\n",
       "      <td>0.190575</td>\n",
       "    </tr>\n",
       "    <tr>\n",
       "      <th>5</th>\n",
       "      <td>中華人民共和国</td>\n",
       "      <td>0.185069</td>\n",
       "    </tr>\n",
       "    <tr>\n",
       "      <th>6</th>\n",
       "      <td>ドイツ</td>\n",
       "      <td>0.167426</td>\n",
       "    </tr>\n",
       "    <tr>\n",
       "      <th>7</th>\n",
       "      <td>ベトナム</td>\n",
       "      <td>0.159030</td>\n",
       "    </tr>\n",
       "    <tr>\n",
       "      <th>8</th>\n",
       "      <td>インド</td>\n",
       "      <td>0.155713</td>\n",
       "    </tr>\n",
       "    <tr>\n",
       "      <th>9</th>\n",
       "      <td>シンガポール</td>\n",
       "      <td>0.154870</td>\n",
       "    </tr>\n",
       "  </tbody>\n",
       "</table>\n",
       "</div>"
      ],
      "text/plain": [
       "        国名   コサイン類似度\n",
       "0       日本  1.000000\n",
       "1       韓国  0.260421\n",
       "2      北朝鮮  0.215774\n",
       "3  アメリカ合衆国  0.198374\n",
       "4    ロシア連邦  0.190575\n",
       "5  中華人民共和国  0.185069\n",
       "6      ドイツ  0.167426\n",
       "7     ベトナム  0.159030\n",
       "8      インド  0.155713\n",
       "9   シンガポール  0.154870"
      ]
     },
     "metadata": {},
     "output_type": "display_data"
    }
   ],
   "source": [
    "dists = sorted(dists, key=lambda x: x[1], reverse=True)\n",
    "df = pd.DataFrame(dists, columns=[\"国名\", \"コサイン類似度\"])\n",
    "display(df.iloc[:10])"
   ]
  },
  {
   "cell_type": "markdown",
   "metadata": {
    "editable": true,
    "slideshow": {
     "slide_type": ""
    },
    "tags": []
   },
   "source": [
    "結果を見てみると、直感的には日本と関係が深そうな各国や北朝鮮が上位に来ており、類似度評価はかなり上手くいっているように見える。\n",
    "\n",
    "一方、コサイン類似度を用いた文書の類似度は、古くは比較する文書の長さがおよそ同等であった時代に考案されたもの{cite}`buttcher2016information`であり、コサイン類似度を求める際に、各文書を表すベクトルを正規化してしまうと、文書の長さの影響を上手く捉えることができないことがある。\n",
    "\n",
    "そこで、ベクトルを正規化しない類似度の計算法として、コサイン類似度と似た指標がいくつも提案されている。以下では、一例として**Okapi BM25**という指標について紹介する。"
   ]
  },
  {
   "cell_type": "markdown",
   "metadata": {
    "editable": true,
    "slideshow": {
     "slide_type": ""
    },
    "tags": []
   },
   "source": [
    "**Okapi BM25** (以下では単にBM25とする)は、ロンドン大学シティ校のRobertsonらが開発した検索システムであるOkapiに用いられていた類似度指標である。なお、BMはBest Matchingの略であり、25は同指標が実装されたOkapiのバージョン番号である {cite}`buttcher2016information`。\n",
    "\n",
    "BM25は、TF-IDFのTFの計算方法を改良しており、以下の式を用いる。\n",
    "\n",
    "$$\n",
    "\\mathrm{TF}_{\\mathrm{BM25}}(t, d) = \\frac{f_{t,d} (k_1 + 1)}{k_1 ((1 - b) + b (l_d / l_{\\mathrm{avg}})) + f_{t,d}}\n",
    "$$\n",
    "\n",
    "この式において、$l_d$は文書$d$に現れる単語数であり、$l_{\\mathrm{avg}}$は各文書に現れる単語数の平均値である。なお、$k_1$と$b$はパラメータであり、$k_1 = 1.2$、$b = 0.75$を規定値として用いる。"
   ]
  },
  {
   "cell_type": "markdown",
   "metadata": {
    "editable": true,
    "slideshow": {
     "slide_type": ""
    },
    "tags": []
   },
   "source": [
    "この式に基づき、BM25では、以下のようにして、クエリ文書$q$に単語$t$が現れる回数を$q_t$でTF-IDF値を重み付けて、以下のように類似度スコアを計算する。\n",
    "\n",
    "$$\n",
    "S_{\\mathrm{BM25}} = \\sum_{t \\in q} q_t \\cdot \\mathrm{TF}\\text{-}\\mathrm{IDF}_{\\mathrm{BM25}}(t, d)\n",
    "$$ (eq:bm25)\n",
    "\n",
    "では、{eq}`eq:bm25`に基づき、「日本」の記事と各文書の類似度を計算してみよう。"
   ]
  },
  {
   "cell_type": "code",
   "execution_count": 157,
   "metadata": {
    "editable": true,
    "slideshow": {
     "slide_type": ""
    },
    "tags": []
   },
   "outputs": [],
   "source": [
    "# 文書長に関する変数\n",
    "l_d = np.sum(freq, axis=1, keepdims=True)\n",
    "l_avg = np.mean(l_d)\n",
    "\n",
    "# BM25版TF-IDFの計算\n",
    "k1 = 1.2\n",
    "b = 0.75\n",
    "tf_bm25 = (freq * (k1 + 1.0)) / (k1 * ((1.0 - b) + b * (l_d / l_avg)) + freq)\n",
    "tfidf_bm25 = tf_bm25 * idf"
   ]
  },
  {
   "cell_type": "code",
   "execution_count": 158,
   "metadata": {
    "editable": true,
    "slideshow": {
     "slide_type": ""
    },
    "tags": []
   },
   "outputs": [],
   "source": [
    "# BM25に基づく文書間類似度の計算\n",
    "dists = []\n",
    "q_t = freq[i_countries[\"日本\"], :]\n",
    "for c in countries:\n",
    "    v = tfidf_bm25[i_countries[c], :]\n",
    "    d = np.dot(q_t, v)\n",
    "    dists.append((c, d))"
   ]
  },
  {
   "cell_type": "code",
   "execution_count": 159,
   "metadata": {
    "editable": true,
    "slideshow": {
     "slide_type": ""
    },
    "tags": [
     "remove-input"
    ]
   },
   "outputs": [
    {
     "data": {
      "text/html": [
       "<div>\n",
       "<style scoped>\n",
       "    .dataframe tbody tr th:only-of-type {\n",
       "        vertical-align: middle;\n",
       "    }\n",
       "\n",
       "    .dataframe tbody tr th {\n",
       "        vertical-align: top;\n",
       "    }\n",
       "\n",
       "    .dataframe thead th {\n",
       "        text-align: right;\n",
       "    }\n",
       "</style>\n",
       "<table border=\"1\" class=\"dataframe\">\n",
       "  <thead>\n",
       "    <tr style=\"text-align: right;\">\n",
       "      <th></th>\n",
       "      <th>国名</th>\n",
       "      <th>Okapi BM25</th>\n",
       "    </tr>\n",
       "  </thead>\n",
       "  <tbody>\n",
       "    <tr>\n",
       "      <th>0</th>\n",
       "      <td>日本</td>\n",
       "      <td>39460.698893</td>\n",
       "    </tr>\n",
       "    <tr>\n",
       "      <th>1</th>\n",
       "      <td>韓国</td>\n",
       "      <td>18590.990600</td>\n",
       "    </tr>\n",
       "    <tr>\n",
       "      <th>2</th>\n",
       "      <td>北朝鮮</td>\n",
       "      <td>16353.442688</td>\n",
       "    </tr>\n",
       "    <tr>\n",
       "      <th>3</th>\n",
       "      <td>アメリカ合衆国</td>\n",
       "      <td>15821.683293</td>\n",
       "    </tr>\n",
       "    <tr>\n",
       "      <th>4</th>\n",
       "      <td>ロシア連邦</td>\n",
       "      <td>15610.194962</td>\n",
       "    </tr>\n",
       "    <tr>\n",
       "      <th>5</th>\n",
       "      <td>中華人民共和国</td>\n",
       "      <td>14811.119422</td>\n",
       "    </tr>\n",
       "    <tr>\n",
       "      <th>6</th>\n",
       "      <td>ベトナム</td>\n",
       "      <td>14670.974348</td>\n",
       "    </tr>\n",
       "    <tr>\n",
       "      <th>7</th>\n",
       "      <td>ドイツ</td>\n",
       "      <td>14342.732113</td>\n",
       "    </tr>\n",
       "    <tr>\n",
       "      <th>8</th>\n",
       "      <td>インド</td>\n",
       "      <td>14065.494369</td>\n",
       "    </tr>\n",
       "    <tr>\n",
       "      <th>9</th>\n",
       "      <td>フランス</td>\n",
       "      <td>13639.038075</td>\n",
       "    </tr>\n",
       "  </tbody>\n",
       "</table>\n",
       "</div>"
      ],
      "text/plain": [
       "        国名    Okapi BM25\n",
       "0       日本  39460.698893\n",
       "1       韓国  18590.990600\n",
       "2      北朝鮮  16353.442688\n",
       "3  アメリカ合衆国  15821.683293\n",
       "4    ロシア連邦  15610.194962\n",
       "5  中華人民共和国  14811.119422\n",
       "6     ベトナム  14670.974348\n",
       "7      ドイツ  14342.732113\n",
       "8      インド  14065.494369\n",
       "9     フランス  13639.038075"
      ]
     },
     "metadata": {},
     "output_type": "display_data"
    }
   ],
   "source": [
    "dists = sorted(dists, key=lambda x: x[1], reverse=True)\n",
    "df = pd.DataFrame(dists, columns=[\"国名\", \"Okapi BM25\"])\n",
    "display(df.iloc[:10])"
   ]
  },
  {
   "cell_type": "markdown",
   "metadata": {
    "editable": true,
    "slideshow": {
     "slide_type": ""
    },
    "tags": []
   },
   "source": [
    "今回の例では、BM25を用いたことで、それほど大きな変化は得られなかったが、これは日本の記事と、日本に関連が深い国の記事が、それ相応の長さを持っていることに起因する可能性がある。\n",
    "\n",
    "他の国に関する文書との類似度を用いた場合に、コサイン類似度とBM25を用いる場合とでどのような変化が生じるかは、練習問題を通じて確認してみてほしい。"
   ]
  },
  {
   "cell_type": "markdown",
   "metadata": {
    "editable": true,
    "slideshow": {
     "slide_type": ""
    },
    "tags": []
   },
   "source": [
    "### Word2Vec"
   ]
  },
  {
   "cell_type": "markdown",
   "metadata": {
    "editable": true,
    "slideshow": {
     "slide_type": ""
    },
    "tags": []
   },
   "source": [
    "**word2vec**は2013年にGoogleの研究者であったMikolov氏らが提案した手法{cite}`mikolov2013efficient`で、与えられた文書集合に含まれる各単語を特徴ベクトル化する技術の一種である。\n",
    "\n",
    "word2vecは、各単語をベクトル化するために、CBoW (continuous bag of words)とskip-gramと呼ばれる2つの異なる教師付き学習の枠組みを用いる。\n",
    "\n",
    "**CBoW**は、ある単語$a_i$の周りに存在する単語$\\ldots, a_{i-2}, a_{i-1}, a_{i+1}, a_{i+2}, \\ldots$から、$a_i$を予想する、という問題を機械学習で解く。反対に**skip-gram**では、単語$a_i$から、周囲に存在する単語のいずれかを予想するという問題を解く。\n",
    "\n",
    "以下では、機械学習ライブラリの[gensim](https://radimrehurek.com/gensim/)を用いてword2vecによる単語のベクトル表現を利用してみよう。\n",
    "\n",
    "**gensim**はpipを用いて簡単にインストールができる。この際、gensimの内部でSciPyが使われており、そのバージョンによってエラーが生じる可能性があるので、SciPyのバージョンを指定して一緒にインストールすると良い。\n",
    "\n",
    "```shell\n",
    "pip install gensim scipy==1.12\n",
    "```"
   ]
  },
  {
   "cell_type": "markdown",
   "metadata": {
    "editable": true,
    "slideshow": {
     "slide_type": ""
    },
    "tags": []
   },
   "source": [
    "#### 学習データの用意"
   ]
  },
  {
   "cell_type": "markdown",
   "metadata": {
    "editable": true,
    "slideshow": {
     "slide_type": ""
    },
    "tags": []
   },
   "source": [
    "word2vecで用いられるCBoWとskip-gramはいずれも教師付き学習に基づくアプローチなので、これらを利用するには訓練データを用意する必要がある。\n",
    "\n",
    "gensimで用いる訓練データは文書の全文を1つの要素とする文字列型の配列である。今回は、各国の文書を要素として持つ長さ193の配列を訓練データとして用いる。\n",
    "\n",
    "日本語を扱う場合、各文書は分かち書きされている必要があるので、本項の始めに用意しておいた分かち書き処理済みのファイルを読み込んで、**各文書に含まれる単語のリスト** (出現順)を訓練データとして用いる。"
   ]
  },
  {
   "cell_type": "code",
   "execution_count": 189,
   "metadata": {
    "editable": true,
    "slideshow": {
     "slide_type": ""
    },
    "tags": []
   },
   "outputs": [],
   "source": [
    "# 国名リストの読み込み\n",
    "countries = []\n",
    "with open(\"data/countries/list.txt\", mode=\"r\", encoding=\"utf-8\") as f:\n",
    "    countries = f.readlines()\n",
    "\n",
    "countries = [c.strip() for c in countries]\n",
    "\n",
    "# 分かち書き済みの文書の読み込み\n",
    "sentences = []\n",
    "for c in countries:\n",
    "    doc = f\"data/countries/{c:s}_wakati.txt\"\n",
    "    with open(doc, mode=\"r\", encoding=\"utf-8\") as f:\n",
    "        sentences.append(f.read().split())"
   ]
  },
  {
   "cell_type": "markdown",
   "metadata": {
    "editable": true,
    "slideshow": {
     "slide_type": ""
    },
    "tags": []
   },
   "source": [
    "#### モデルの訓練"
   ]
  },
  {
   "cell_type": "markdown",
   "metadata": {
    "editable": true,
    "slideshow": {
     "slide_type": ""
    },
    "tags": []
   },
   "source": [
    "訓練データ (`sentences`)が用意できたら、`gensim`の`Word2Vec`クラスのコンストラクタに与えて、モデルの訓練を実行する。`Word2Vec`にはいくつかのパラメータが必要であり、各単語を表すベクトルの次元数を表す`vector_size`や、各単語の周囲何単語を訓練データに含めるかを決める`window`、CBoWかskip-gramのどちらを使うかを表す`sg` (`sg=1`のときはskip-gram, そうでないときはCBoW)、最低何回出現する単語を学習に含めるかを決める`min_count`などを指定する。"
   ]
  },
  {
   "cell_type": "code",
   "execution_count": 224,
   "metadata": {
    "editable": true,
    "slideshow": {
     "slide_type": ""
    },
    "tags": []
   },
   "outputs": [],
   "source": [
    "from gensim.models import Word2Vec\n",
    "\n",
    "model = Word2Vec(\n",
    "    sentences=sentences,\n",
    "    vector_size=100,\n",
    "    window=9,\n",
    "    sg=1,\n",
    "    min_count=1,\n",
    ")"
   ]
  },
  {
   "cell_type": "markdown",
   "metadata": {
    "editable": true,
    "slideshow": {
     "slide_type": ""
    },
    "tags": []
   },
   "source": [
    "#### 文書のベクトル化"
   ]
  },
  {
   "cell_type": "markdown",
   "metadata": {
    "editable": true,
    "slideshow": {
     "slide_type": ""
    },
    "tags": []
   },
   "source": [
    "`Word2Vec`はインスタンス化とともにモデルの訓練が実行され、`model.wv`が単語をキーとし、ベクトル表現を値とする辞書型として与えられる。\n",
    "\n",
    "各文書をベクトル化する方法にはいくつかあるが、以下では、単純に文書に現れる単語のベクトル表現の和を取る。"
   ]
  },
  {
   "cell_type": "code",
   "execution_count": 225,
   "metadata": {
    "editable": true,
    "slideshow": {
     "slide_type": ""
    },
    "tags": []
   },
   "outputs": [],
   "source": [
    "vectors = {c: np.zeros(100) for c in countries}\n",
    "for i, c in enumerate(countries):\n",
    "    words = sentences[i]\n",
    "    vectors[c] = sum([model.wv[w] for w in words])"
   ]
  },
  {
   "cell_type": "markdown",
   "metadata": {
    "editable": true,
    "slideshow": {
     "slide_type": ""
    },
    "tags": []
   },
   "source": [
    "このようにして得られた各文書のベクトル表現のユークリッド距離に基づき、文書間の類似度を決める。今回はユークリッド距離が小さい方が、より類似した文書となるので注意すること。"
   ]
  },
  {
   "cell_type": "code",
   "execution_count": 226,
   "metadata": {
    "editable": true,
    "slideshow": {
     "slide_type": ""
    },
    "tags": []
   },
   "outputs": [],
   "source": [
    "v_jp = vectors[\"日本\"]\n",
    "dists = {c: 0.0 for c in countries}\n",
    "for c in countries:\n",
    "    v = vectors[c]\n",
    "    d = np.linalg.norm(v_jp - v)\n",
    "    dists[c] = d\n",
    "\n",
    "dists = [(c, d) for c, d in dists.items()]"
   ]
  },
  {
   "cell_type": "markdown",
   "metadata": {
    "editable": true,
    "slideshow": {
     "slide_type": ""
    },
    "tags": []
   },
   "source": [
    "計算された距離に基づいて国名を昇順で並べ替えると以下のようになる。"
   ]
  },
  {
   "cell_type": "code",
   "execution_count": 223,
   "metadata": {
    "editable": true,
    "slideshow": {
     "slide_type": ""
    },
    "tags": [
     "remove-input"
    ]
   },
   "outputs": [
    {
     "data": {
      "text/html": [
       "<div>\n",
       "<style scoped>\n",
       "    .dataframe tbody tr th:only-of-type {\n",
       "        vertical-align: middle;\n",
       "    }\n",
       "\n",
       "    .dataframe tbody tr th {\n",
       "        vertical-align: top;\n",
       "    }\n",
       "\n",
       "    .dataframe thead th {\n",
       "        text-align: right;\n",
       "    }\n",
       "</style>\n",
       "<table border=\"1\" class=\"dataframe\">\n",
       "  <thead>\n",
       "    <tr style=\"text-align: right;\">\n",
       "      <th></th>\n",
       "      <th>国名</th>\n",
       "      <th>w2vによる類似度</th>\n",
       "    </tr>\n",
       "  </thead>\n",
       "  <tbody>\n",
       "    <tr>\n",
       "      <th>0</th>\n",
       "      <td>日本</td>\n",
       "      <td>0.000000</td>\n",
       "    </tr>\n",
       "    <tr>\n",
       "      <th>1</th>\n",
       "      <td>韓国</td>\n",
       "      <td>51215.179688</td>\n",
       "    </tr>\n",
       "    <tr>\n",
       "      <th>2</th>\n",
       "      <td>北朝鮮</td>\n",
       "      <td>55759.253906</td>\n",
       "    </tr>\n",
       "    <tr>\n",
       "      <th>3</th>\n",
       "      <td>アメリカ合衆国</td>\n",
       "      <td>70818.859375</td>\n",
       "    </tr>\n",
       "    <tr>\n",
       "      <th>4</th>\n",
       "      <td>ポーランド</td>\n",
       "      <td>76283.500000</td>\n",
       "    </tr>\n",
       "    <tr>\n",
       "      <th>5</th>\n",
       "      <td>ロシア連邦</td>\n",
       "      <td>76331.859375</td>\n",
       "    </tr>\n",
       "    <tr>\n",
       "      <th>6</th>\n",
       "      <td>インド</td>\n",
       "      <td>78107.625000</td>\n",
       "    </tr>\n",
       "    <tr>\n",
       "      <th>7</th>\n",
       "      <td>ブラジル</td>\n",
       "      <td>82495.148438</td>\n",
       "    </tr>\n",
       "    <tr>\n",
       "      <th>8</th>\n",
       "      <td>アルゼンチン</td>\n",
       "      <td>82549.710938</td>\n",
       "    </tr>\n",
       "    <tr>\n",
       "      <th>9</th>\n",
       "      <td>フランス</td>\n",
       "      <td>82751.742188</td>\n",
       "    </tr>\n",
       "  </tbody>\n",
       "</table>\n",
       "</div>"
      ],
      "text/plain": [
       "        国名     w2vによる類似度\n",
       "0       日本      0.000000\n",
       "1       韓国  51215.179688\n",
       "2      北朝鮮  55759.253906\n",
       "3  アメリカ合衆国  70818.859375\n",
       "4    ポーランド  76283.500000\n",
       "5    ロシア連邦  76331.859375\n",
       "6      インド  78107.625000\n",
       "7     ブラジル  82495.148438\n",
       "8   アルゼンチン  82549.710938\n",
       "9     フランス  82751.742188"
      ]
     },
     "metadata": {},
     "output_type": "display_data"
    }
   ],
   "source": [
    "dists.sort(key=lambda x: x[1])\n",
    "df = pd.DataFrame(dists, columns=[\"国名\", \"w2vによる類似度\"])\n",
    "display(df.iloc[:10])"
   ]
  },
  {
   "cell_type": "markdown",
   "metadata": {
    "editable": true,
    "slideshow": {
     "slide_type": ""
    },
    "tags": []
   },
   "source": [
    "いかがだろうか。word2vecを用いた場合も、かなり直感に近い類似度を得ることができた。ただ、今回の単語ベクトルの「和」と、ユークリッド距離を用いたアプローチは文書の長さによる影響を受ける可能性がある。\n",
    "\n",
    "前述の通り、日本語のWikipediaの記事は日本と関連の深い国の文書が長い可能性があることには注意が必要である。"
   ]
  },
  {
   "cell_type": "markdown",
   "metadata": {
    "editable": true,
    "slideshow": {
     "slide_type": ""
    },
    "tags": []
   },
   "source": [
    ":::{admonition} 類似文書の検索\n",
    ":class: note\n",
    "\n",
    "- 文書の類似度計算にも、単語を検索クエリに用いる場合と同様、TF-IDFを基本とした指標が用いられる\n",
    "- 類似度指標の計算方法は多数あり、コサイン類似度の他、Okapi BM25などの指標がある\n",
    "- word2vecを用いると単語のベクトル表現が得られるので、それを用いて文書をベクトル化する方法もある\n",
    ":::"
   ]
  },
  {
   "cell_type": "markdown",
   "metadata": {
    "editable": true,
    "slideshow": {
     "slide_type": ""
    },
    "tags": []
   },
   "source": [
    "## 練習問題"
   ]
  },
  {
   "cell_type": "markdown",
   "metadata": {
    "editable": true,
    "slideshow": {
     "slide_type": ""
    },
    "tags": []
   },
   "source": [
    ":::{card}\n",
    "**問1**\n",
    "^^^\n",
    "\n",
    "[演習用データ](data/countries.tar.gz)を用いて各国の記事に対する転置インデックスとTF-IDF値を計算せよ。また、それらを用いて、いくつかの連語に対する検索ランキングを計算し、ランキングに用いる指標の与える効果について論ぜよ。\n",
    ":::"
   ]
  },
  {
   "cell_type": "markdown",
   "metadata": {
    "editable": true,
    "slideshow": {
     "slide_type": ""
    },
    "tags": []
   },
   "source": [
    ":::{card}\n",
    "**問2**\n",
    "^^^\n",
    "\n",
    "本文の指示に従い、コサイン類似度やOkapi BM25、word2vecを利用して、「日本」以外の記事についても文書間の類似度を調べ、各国の記事の関係や類似度指標の違いについて論ぜよ。\n",
    ":::"
   ]
  },
  {
   "cell_type": "markdown",
   "metadata": {
    "editable": true,
    "slideshow": {
     "slide_type": ""
    },
    "tags": []
   },
   "source": [
    ":::{card}\n",
    "**問3**\n",
    "^^^\n",
    "\n",
    "word2vecを用いて、検索クエリに現れる単語のベクトル表現の平均値を取ると、その平均ベクトルを用いて、各文書と検索クエリの類似度を調べることができる。いくつかの検索クエリに対して、word2vecを用いた検索ランキングを試し、その結果について考察せよ。\n",
    ":::"
   ]
  },
  {
   "cell_type": "markdown",
   "metadata": {
    "editable": true,
    "slideshow": {
     "slide_type": ""
    },
    "tags": []
   },
   "source": [
    "## 参考文献\n",
    "\n",
    "```{bibliography}\n",
    ":labelprefix: 6-\n",
    ":filter: docname in docnames\n",
    "```"
   ]
  },
  {
   "cell_type": "markdown",
   "metadata": {
    "editable": true,
    "slideshow": {
     "slide_type": ""
    },
    "tags": []
   },
   "source": []
  }
 ],
 "metadata": {
  "kernelspec": {
   "display_name": "Python 3 (ipykernel)",
   "language": "python",
   "name": "python3"
  },
  "language_info": {
   "codemirror_mode": {
    "name": "ipython",
    "version": 3
   },
   "file_extension": ".py",
   "mimetype": "text/x-python",
   "name": "python",
   "nbconvert_exporter": "python",
   "pygments_lexer": "ipython3",
   "version": "3.11.4"
  }
 },
 "nbformat": 4,
 "nbformat_minor": 4
}
