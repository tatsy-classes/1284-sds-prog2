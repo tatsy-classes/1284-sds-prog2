{
 "cells": [
  {
   "cell_type": "markdown",
   "metadata": {},
   "source": [
    "(sec:regex)=\n",
    "# 正規表現とスクレイピング"
   ]
  },
  {
   "cell_type": "markdown",
   "metadata": {},
   "source": [
    "本節では、正規表現と、それを用いたHTMLのスクレイピングについて学ぶ。"
   ]
  },
  {
   "cell_type": "markdown",
   "metadata": {},
   "source": [
    "## 正規表現の基本"
   ]
  },
  {
   "cell_type": "code",
   "execution_count": 1,
   "metadata": {},
   "outputs": [],
   "source": [
    "import re"
   ]
  },
  {
   "cell_type": "code",
   "execution_count": 4,
   "metadata": {},
   "outputs": [
    {
     "name": "stdout",
     "output_type": "stream",
     "text": [
      "Matched text is \"Hello\"\n"
     ]
    }
   ],
   "source": [
    "text = \"Hello, world!\"\n",
    "pat = re.compile(\"Hello\")\n",
    "match = pat.search(text)\n",
    "if match is not None:\n",
    "    print(f\"Matched text is \\\"{match.group(0):s}\\\"\")\n",
    "else:\n",
    "    print(\"Pattern not matched.\")"
   ]
  },
  {
   "cell_type": "markdown",
   "metadata": {},
   "source": [
    "正規表現は大文字と小文字を区別するので、`re.compile(\"hello\")`のように`pat`を定義すると、マッチしなくなる。大文字小文字を区別せずに文字列のマッチを検索する方法もあるので、後述する。"
   ]
  },
  {
   "cell_type": "markdown",
   "metadata": {},
   "source": [
    "### 練習問題"
   ]
  },
  {
   "cell_type": "markdown",
   "metadata": {},
   "source": [
    "- 文字列の中に `\"world\"`という文字列が含まれるかどうかを調べるように上記の例を改良せよ。"
   ]
  },
  {
   "cell_type": "code",
   "execution_count": 8,
   "metadata": {
    "editable": true,
    "slideshow": {
     "slide_type": ""
    },
    "tags": [
     "hide-input",
     "hide-output"
    ]
   },
   "outputs": [
    {
     "name": "stdout",
     "output_type": "stream",
     "text": [
      "\"text\" includes \"world\"\n"
     ]
    }
   ],
   "source": [
    "## 答え\n",
    "pat2 = re.compile(\"world\")\n",
    "match2 = pat2.search(text)\n",
    "if match2 is not None:\n",
    "    print(\"\\\"text\\\" includes \\\"world\\\"\")\n",
    "else:\n",
    "    print(\"\\\"text\\\" does not include \\\"world\\\"\")"
   ]
  },
  {
   "cell_type": "markdown",
   "metadata": {
    "editable": true,
    "slideshow": {
     "slide_type": ""
    },
    "tags": []
   },
   "source": [
    "### マッチ・グループ"
   ]
  },
  {
   "cell_type": "markdown",
   "metadata": {},
   "source": [
    "上記の例では、マッチした文字列を取り出すために `match.group(0)`のように`group`メソッドに`0`を指定した。この`group`が指すものはマッチ・グループで、`0`はマッチした文章全体を示す。"
   ]
  },
  {
   "cell_type": "markdown",
   "metadata": {},
   "source": [
    "## urllib"
   ]
  },
  {
   "cell_type": "markdown",
   "metadata": {},
   "source": [
    "Pythonでウェブページのデータをサーバーから取得するための標準ライブラリに`urllib`がある。"
   ]
  },
  {
   "cell_type": "code",
   "execution_count": 17,
   "metadata": {},
   "outputs": [
    {
     "name": "stdout",
     "output_type": "stream",
     "text": [
      "18524 bytes received!\n"
     ]
    }
   ],
   "source": [
    "import urllib\n",
    "\n",
    "try:\n",
    "    req = urllib.request.urlopen(\"https://google.co.jp/\")\n",
    "except urllib.error.HTTPError as e:\n",
    "    print(e)\n",
    "\n",
    "if req is not None:\n",
    "    body = req.read()\n",
    "    print(f\"{len(body):d} bytes received!\")\n",
    "else:\n",
    "    print(\"HTTP request failed!\")"
   ]
  },
  {
   "cell_type": "code",
   "execution_count": 20,
   "metadata": {},
   "outputs": [],
   "source": [
    "body = body.decode(\"shift-jis\")"
   ]
  },
  {
   "cell_type": "code",
   "execution_count": 23,
   "metadata": {},
   "outputs": [
    {
     "name": "stdout",
     "output_type": "stream",
     "text": [
      "https://www.google.co.jp/imghp?hl=ja&tab=wi\n"
     ]
    }
   ],
   "source": [
    "pat = re.compile(\"href=\\\"(.*?)\\\"\")\n",
    "match = pat.search(body)\n",
    "if match is not None:\n",
    "    print(match.group(1))"
   ]
  },
  {
   "cell_type": "markdown",
   "metadata": {},
   "source": [
    "#### 練習問題\n",
    "- Googleのトップページ (https://www.google.co.jp/) から、Googleのロゴ画像のURLを取り出しなさい。"
   ]
  },
  {
   "cell_type": "code",
   "execution_count": null,
   "metadata": {},
   "outputs": [],
   "source": []
  }
 ],
 "metadata": {
  "kernelspec": {
   "display_name": "Python 3 (ipykernel)",
   "language": "python",
   "name": "python3"
  },
  "language_info": {
   "codemirror_mode": {
    "name": "ipython",
    "version": 3
   },
   "file_extension": ".py",
   "mimetype": "text/x-python",
   "name": "python",
   "nbconvert_exporter": "python",
   "pygments_lexer": "ipython3",
   "version": "3.11.4"
  }
 },
 "nbformat": 4,
 "nbformat_minor": 4
}
