{
 "cells": [
  {
   "cell_type": "markdown",
   "metadata": {},
   "source": [
    "(sec:regex)=\n",
    "\n",
    "# 正規表現の基礎\n"
   ]
  },
  {
   "cell_type": "code",
   "execution_count": 1,
   "metadata": {
    "tags": [
     "remove-input",
     "remove-output"
    ]
   },
   "outputs": [],
   "source": [
    "from myst_nb import glue"
   ]
  },
  {
   "cell_type": "markdown",
   "metadata": {},
   "source": [
    "本節では、正規表現の基本について学ぶ。\n"
   ]
  },
  {
   "cell_type": "markdown",
   "metadata": {},
   "source": [
    "## 正規表現とは？\n"
   ]
  },
  {
   "cell_type": "markdown",
   "metadata": {},
   "source": [
    "正規表現 (regular expression)とは、特定の文字パターンに合致する文字列を見つける仕組みを指す。\n"
   ]
  },
  {
   "cell_type": "code",
   "execution_count": 2,
   "metadata": {},
   "outputs": [],
   "source": [
    "import re"
   ]
  },
  {
   "cell_type": "code",
   "execution_count": 3,
   "metadata": {},
   "outputs": [
    {
     "name": "stdout",
     "output_type": "stream",
     "text": [
      "Matched text is \"Hello\"\n"
     ]
    }
   ],
   "source": [
    "text = \"Hello, world!\"\n",
    "pat = re.compile(\"Hello\")\n",
    "match = pat.search(text)\n",
    "if match is not None:\n",
    "    print(f'Matched text is \"{match.group(0):s}\"')\n",
    "else:\n",
    "    print(\"Pattern not matched.\")"
   ]
  },
  {
   "cell_type": "markdown",
   "metadata": {},
   "source": [
    "正規表現は大文字と小文字を区別するので、`re.compile(\"hello\")`のように`pat`を定義すると、マッチしなくなる。\n"
   ]
  },
  {
   "cell_type": "markdown",
   "metadata": {},
   "source": [
    "正規表現のパターン文字列である`pat`には指定した文字列の中に正規表現とマッチする文字列が存在するかを調べる`search`の他にも\n",
    "\n",
    "- 文字列の先頭から見て正規表現とマッチするかを調べる `match`\n",
    "- 文字列が正規表現と完全にマッチするかを調べる `fullmatch`\n",
    "- マッチした文字列を別の文字列で置き換える `sub`\n",
    "\n",
    "などのメソッドが用意されている。\n"
   ]
  },
  {
   "cell_type": "markdown",
   "metadata": {},
   "source": [
    "**`match`の使用例**\n"
   ]
  },
  {
   "cell_type": "code",
   "execution_count": 4,
   "metadata": {},
   "outputs": [
    {
     "name": "stdout",
     "output_type": "stream",
     "text": [
      "Pattern not found!\n"
     ]
    }
   ],
   "source": [
    "text = \"Hello, world!\"\n",
    "pat = re.compile(\"ello\")\n",
    "if pat.match(text) is not None:\n",
    "    print(\"Pattern found!\")\n",
    "else:\n",
    "    print(\"Pattern not found!\")"
   ]
  },
  {
   "cell_type": "code",
   "execution_count": 5,
   "metadata": {},
   "outputs": [
    {
     "name": "stdout",
     "output_type": "stream",
     "text": [
      "Pattern found!\n"
     ]
    }
   ],
   "source": [
    "text = \"Hello, world!\"\n",
    "pat = re.compile(\"Hello\")\n",
    "if pat.match(text) is not None:\n",
    "    print(\"Pattern found!\")\n",
    "else:\n",
    "    print(\"Pattern not found!\")"
   ]
  },
  {
   "cell_type": "markdown",
   "metadata": {},
   "source": [
    "**`fullmatch`の使用例**\n"
   ]
  },
  {
   "cell_type": "code",
   "execution_count": 6,
   "metadata": {},
   "outputs": [
    {
     "name": "stdout",
     "output_type": "stream",
     "text": [
      "Pattern does not match!\n"
     ]
    }
   ],
   "source": [
    "text = \"Hello, world!\"\n",
    "pat = re.compile(\"Hello, world\")\n",
    "if pat.fullmatch(text) is not None:\n",
    "    print(\"Pattern matches perfectly!\")\n",
    "else:\n",
    "    print(\"Pattern does not match!\")"
   ]
  },
  {
   "cell_type": "code",
   "execution_count": 7,
   "metadata": {},
   "outputs": [
    {
     "name": "stdout",
     "output_type": "stream",
     "text": [
      "Pattern matches perfectly!\n"
     ]
    }
   ],
   "source": [
    "text = \"Hello, world!\"\n",
    "pat = re.compile(\"Hello, world!\")\n",
    "if pat.fullmatch(text) is not None:\n",
    "    print(\"Pattern matches perfectly!\")\n",
    "else:\n",
    "    print(\"Pattern does not match!\")"
   ]
  },
  {
   "cell_type": "markdown",
   "metadata": {},
   "source": [
    "**`sub`の使用例**\n"
   ]
  },
  {
   "cell_type": "code",
   "execution_count": 8,
   "metadata": {},
   "outputs": [
    {
     "name": "stdout",
     "output_type": "stream",
     "text": [
      "Hello, Japan!\n"
     ]
    }
   ],
   "source": [
    "text = \"Hello, world!\"\n",
    "pat = re.compile(\"world\")\n",
    "text2 = pat.sub(\"Japan\", text)\n",
    "print(text2)"
   ]
  },
  {
   "cell_type": "markdown",
   "metadata": {},
   "source": [
    "```{admonition} 正規表現の基本\n",
    ":class: note\n",
    "\n",
    "- 正規表現は特定の文字パターンに合致する文字列を探すのに用いる\n",
    "- Pythonにおいては標準ライブラリの`re`を用いる\n",
    "- `re.compile`で文字パターンを定義した後、`search`や`fullmatch`を使って文字列を解析する\n",
    "```\n"
   ]
  },
  {
   "cell_type": "markdown",
   "metadata": {},
   "source": [
    "## 正規表現と決定性有限オートマトン\n"
   ]
  },
  {
   "cell_type": "markdown",
   "metadata": {},
   "source": [
    "## 正規表現のシンタックス -初級編-\n"
   ]
  },
  {
   "cell_type": "markdown",
   "metadata": {},
   "source": [
    "正規表現は特定の文字列を探すだけでなく、より複雑なパターンを持った文字列を探すことができる。\n"
   ]
  },
  {
   "cell_type": "markdown",
   "metadata": {},
   "source": [
    "### 何らかの 1 文字\n"
   ]
  },
  {
   "cell_type": "markdown",
   "metadata": {},
   "source": [
    "どこかに 1 文字、何でも良いので文字が存在することを表したい場合には、`a.c`のように`.`を用いる。この正規表現は例えば`adc`や`aBc`など、`.`の部分に何らか 1 文字がはいるような文字列とマッチするが、`a.c`のように`.`に対応する場所に 2 文字以上ある場合にはマッチしない。\n"
   ]
  },
  {
   "cell_type": "code",
   "execution_count": 9,
   "metadata": {
    "tags": []
   },
   "outputs": [
    {
     "name": "stdout",
     "output_type": "stream",
     "text": [
      "re.compile('a.c')\n",
      "adc : True\n",
      "aBc : True\n",
      "adBc : False\n"
     ]
    }
   ],
   "source": [
    "pat = re.compile(\"a.c\")\n",
    "print(pat)\n",
    "print(\"adc :\", pat.fullmatch(\"adc\") is not None)\n",
    "print(\"aBc :\", pat.fullmatch(\"aBc\") is not None)\n",
    "print(\"adBc :\", pat.fullmatch(\"adBc\") is not None)"
   ]
  },
  {
   "cell_type": "markdown",
   "metadata": {},
   "source": [
    "### 文字の繰り返し\n"
   ]
  },
  {
   "cell_type": "markdown",
   "metadata": {},
   "source": [
    "a, b, c の 3 文字だけからなる単語が存在するかどうかを調べたい場合には、文字の繰り返しを表す`*`あるいは`+`を用いる。例えば、`aaabcccc`のような文字列とマッチさせたい場合`a+bc+`のように繰り返したい文字の後に`+`あるいは`*`をつける。\n"
   ]
  },
  {
   "cell_type": "code",
   "execution_count": 10,
   "metadata": {},
   "outputs": [
    {
     "name": "stdout",
     "output_type": "stream",
     "text": [
      "re.compile('a+bc+')\n",
      "aaabcccc : True\n"
     ]
    }
   ],
   "source": [
    "text = \"aaabcccc\"\n",
    "pat = re.compile(\"a+bc+\")\n",
    "print(pat)\n",
    "print(text, \":\", pat.fullmatch(text) is not None)"
   ]
  },
  {
   "cell_type": "markdown",
   "metadata": {},
   "source": [
    "同じ文字の繰り返しを表す`+`と`*`は、その繰り返し回数の見方に違いがある。`+`は直前の文字が**1 回以上繰り返す**場合にのみマッチするのに対し、`*`は**0 回以上の繰り返し**にもマッチする。従って、`ab+`というパターンは`a`にはマッチせず、`ab`にはマッチする一方で、`ab*`というパターンは`a`にマッチし、なおかつ`ab`にもマッチする。\n"
   ]
  },
  {
   "cell_type": "code",
   "execution_count": 11,
   "metadata": {},
   "outputs": [],
   "source": [
    "text1 = \"a\"\n",
    "text2 = \"ab\""
   ]
  },
  {
   "cell_type": "code",
   "execution_count": 12,
   "metadata": {},
   "outputs": [
    {
     "name": "stdout",
     "output_type": "stream",
     "text": [
      "re.compile('ab+')\n",
      "a : False\n",
      "ab : True\n"
     ]
    }
   ],
   "source": [
    "pat = re.compile(\"ab+\")\n",
    "print(pat)\n",
    "print(text1, \":\", pat.fullmatch(text1) is not None)\n",
    "print(text2, \":\", pat.fullmatch(text2) is not None)"
   ]
  },
  {
   "cell_type": "code",
   "execution_count": 13,
   "metadata": {},
   "outputs": [
    {
     "name": "stdout",
     "output_type": "stream",
     "text": [
      "re.compile('ab*')\n",
      "a : True\n",
      "ab : True\n"
     ]
    }
   ],
   "source": [
    "pat = re.compile(\"ab*\")\n",
    "print(pat)\n",
    "print(text1, \":\", pat.fullmatch(text1) is not None)\n",
    "print(text2, \":\", pat.fullmatch(text2) is not None)"
   ]
  },
  {
   "cell_type": "markdown",
   "metadata": {
    "tags": []
   },
   "source": [
    "加えて、回数を制限した文字の繰り返しを定義することもできる。例えば、`abbccc`は検出したいが、`c`が 4 回以上繰り返す場合や`c`が含まれない場合は除外したいという場合には、繰り返し回数は 1-3 回に指定して、`abc{1,3}`のような文字パターンを定義することができる。\n"
   ]
  },
  {
   "cell_type": "code",
   "execution_count": 14,
   "metadata": {
    "tags": []
   },
   "outputs": [
    {
     "name": "stdout",
     "output_type": "stream",
     "text": [
      "abcc : True\n",
      "abcccc : False\n"
     ]
    }
   ],
   "source": [
    "pat = re.compile(\"abc{1,3}\")\n",
    "print(\"abcc :\", pat.fullmatch(\"abcc\") is not None)\n",
    "print(\"abcccc :\", pat.fullmatch(\"abcccc\") is not None)"
   ]
  },
  {
   "cell_type": "markdown",
   "metadata": {},
   "source": [
    "### 文字セット\n"
   ]
  },
  {
   "cell_type": "markdown",
   "metadata": {},
   "source": [
    "ここまでの例では、`+`や`*`といった文字の繰り返しは、特定の 1 文字にしか適用していなかった。しかし、Python に限らず、正規表現には特定の範囲の文字を扱う**文字セット**が用意されている。\n",
    "\n",
    "例えば、`[a-z]`のように書くと、小文字のアルファベット全てにマッチする文字パターンを表すことができる。これに`+`や`*`を組み合わせると小文字アルファベットだけで構成されている単語かどうかをチェックすることができる。\n"
   ]
  },
  {
   "cell_type": "code",
   "execution_count": 15,
   "metadata": {
    "tags": []
   },
   "outputs": [
    {
     "name": "stdout",
     "output_type": "stream",
     "text": [
      "Hello :  False\n",
      "hello :  True\n"
     ]
    }
   ],
   "source": [
    "pat = re.compile(\"[a-z]+\")\n",
    "print(\"Hello : \", pat.fullmatch(\"Hello\") is not None)\n",
    "print(\"hello : \", pat.fullmatch(\"hello\") is not None)"
   ]
  },
  {
   "cell_type": "markdown",
   "metadata": {},
   "source": [
    "また、Python の正規表現では ASCII コード表で連続する文字種を文字セットの始点と終点に指定することができるため、`[x-z]`のように書くと、小文字で x, y, z のいずれかにマッチするような文字パターンを作ることもできる。\n"
   ]
  },
  {
   "cell_type": "markdown",
   "metadata": {},
   "source": [
    "文字セットを表す`[...]`の内側には複数の文字や文字の範囲を含めることができ、例えば、大文字、小文字の全てのアルファベットと、0-9 の数字を含めたい場合、`[a-zA-Z0-9]`のような文字パターンを作ることができる。これに加えて、さらに、ハイフン (`-`)やスペース (` `)を含めたい場合には `[a-zA-Z0-9- ]`のように書けばよい。\n"
   ]
  },
  {
   "cell_type": "code",
   "execution_count": 16,
   "metadata": {
    "tags": []
   },
   "outputs": [
    {
     "name": "stdout",
     "output_type": "stream",
     "text": [
      "2-1 Naka Kunitachi-shi : True\n"
     ]
    }
   ],
   "source": [
    "text = \"2-1 Naka Kunitachi-shi\"\n",
    "pat = re.compile(\"[a-zA-Z0-9- ]+\")\n",
    "print(text, \":\", pat.fullmatch(text) is not None)"
   ]
  },
  {
   "cell_type": "markdown",
   "metadata": {},
   "source": [
    "また、文字セットは、そのセットに含まれない全ての文字に対してマッチさせることもできる。その場合は、文字セットの先頭に`^`を追加する。例えば、数字でない全ての文字にマッチさせたい場合には `[^0-9]` のように正規表現を定義する。\n"
   ]
  },
  {
   "cell_type": "code",
   "execution_count": 17,
   "metadata": {},
   "outputs": [
    {
     "name": "stdout",
     "output_type": "stream",
     "text": [
      "There is a pen. : True\n"
     ]
    }
   ],
   "source": [
    "text = \"There is a pen.\"\n",
    "pat = re.compile(\"[^0-9]+\")\n",
    "print(text, \":\", pat.fullmatch(text) is not None)"
   ]
  },
  {
   "cell_type": "code",
   "execution_count": 18,
   "metadata": {},
   "outputs": [
    {
     "name": "stdout",
     "output_type": "stream",
     "text": [
      "There is 20 pens. : False\n"
     ]
    }
   ],
   "source": [
    "text = \"There is 20 pens.\"\n",
    "pat = re.compile(\"[^0-9]+\")\n",
    "print(text, \":\", pat.fullmatch(text) is not None)"
   ]
  },
  {
   "cell_type": "markdown",
   "metadata": {},
   "source": [
    "### 最短マッチ、最長マッチ\n"
   ]
  },
  {
   "cell_type": "markdown",
   "metadata": {},
   "source": [
    "上記のような文字の繰り返しパターンを含むような文字列を検索する場合、特に何もしなければ、マッチする文字列のうち、最長ものが検出される。例えば、`t`から始まって`e`終わるような大文字・小文字アルファベットからなる単語を検索したい場合を考えよう。\n",
    "\n",
    "この場合、ここまでの例にならって正規表現のパターンを作成すると以下のようになるだろうか。\n"
   ]
  },
  {
   "cell_type": "code",
   "execution_count": 19,
   "metadata": {},
   "outputs": [],
   "source": [
    "pat = re.compile(\"[tT].+[e]\")"
   ]
  },
  {
   "cell_type": "markdown",
   "metadata": {},
   "source": [
    "この時、以下のような文字列が与えられたとする。\n"
   ]
  },
  {
   "cell_type": "code",
   "execution_count": 20,
   "metadata": {},
   "outputs": [],
   "source": [
    "text = \"Take drops in a temple.\""
   ]
  },
  {
   "cell_type": "markdown",
   "metadata": {},
   "source": [
    "この文字列に対して、先ほどの正規表現パターンを検索してみると、次のような結果となる。\n"
   ]
  },
  {
   "cell_type": "code",
   "execution_count": 21,
   "metadata": {},
   "outputs": [
    {
     "name": "stdout",
     "output_type": "stream",
     "text": [
      "Take drops in a temple\n"
     ]
    }
   ],
   "source": [
    "match = pat.search(text)\n",
    "print(match[0])"
   ]
  },
  {
   "cell_type": "markdown",
   "metadata": {},
   "source": [
    "もちろん、これはこれで正しい挙動であり、実際には正規表現パターンを`\"[tT][a-z]+[e]\"`のようにするべきだろう。しかし、アルファベット以外にも多くの文字が含まれる場合には、文字セットの定義が複雑になるため、パターンにマッチする最小の文字列を検索できれば便利である。\n",
    "\n",
    "このような場合には文字の繰り返しを表す`+`や`*`の後に`?`を付け加えて、以下のように正規表現パターンを定義する。\n"
   ]
  },
  {
   "cell_type": "code",
   "execution_count": 22,
   "metadata": {},
   "outputs": [],
   "source": [
    "pat = re.compile(\"[tT].+?[e]\")"
   ]
  },
  {
   "cell_type": "markdown",
   "metadata": {},
   "source": [
    "これを先ほどの文字列`text`から検索すると、結果は次のようになる。\n"
   ]
  },
  {
   "cell_type": "code",
   "execution_count": 23,
   "metadata": {},
   "outputs": [
    {
     "name": "stdout",
     "output_type": "stream",
     "text": [
      "Take\n"
     ]
    }
   ],
   "source": [
    "match = pat.search(text)\n",
    "print(match[0])"
   ]
  },
  {
   "cell_type": "markdown",
   "metadata": {},
   "source": [
    "このように、`t` (もしくは`T`)から始まり`e`で終わる部分文字列のうち、最短のものが検索できていることが分かる。なお、このようなパターンに合致する部分文字列を全て取り出したい場合には`findall`を用いる。\n"
   ]
  },
  {
   "cell_type": "code",
   "execution_count": 24,
   "metadata": {},
   "outputs": [
    {
     "name": "stdout",
     "output_type": "stream",
     "text": [
      "['Take', 'temple']\n"
     ]
    }
   ],
   "source": [
    "matches = pat.findall(text)\n",
    "print(matches)"
   ]
  },
  {
   "cell_type": "markdown",
   "metadata": {},
   "source": [
    "### 接頭辞、接尾辞\n"
   ]
  },
  {
   "cell_type": "markdown",
   "metadata": {},
   "source": [
    "文字列の先頭から特定の文字パターンが出現するかどうかを調べるには、正規表現の最初に`^`を追加する。\n"
   ]
  },
  {
   "cell_type": "code",
   "execution_count": 25,
   "metadata": {},
   "outputs": [],
   "source": [
    "pat = re.compile(\"^[tT].+?[e]\")\n",
    "text = \"Take drops in a temple\"\n",
    "match = pat.search(text)"
   ]
  },
  {
   "cell_type": "code",
   "execution_count": 26,
   "metadata": {},
   "outputs": [
    {
     "data": {
      "text/plain": [
       "'Take'"
      ]
     },
     "execution_count": 26,
     "metadata": {},
     "output_type": "execute_result"
    }
   ],
   "source": [
    "match[0]"
   ]
  },
  {
   "cell_type": "markdown",
   "metadata": {},
   "source": [
    "反対に、文字列の最後に特定の文字パターンが出現するかどうかを調べるには、正規表現の最後に`$`を追加する。\n"
   ]
  },
  {
   "cell_type": "code",
   "execution_count": 27,
   "metadata": {},
   "outputs": [],
   "source": [
    "pat = re.compile(\"[tT].+?[e]$\")\n",
    "text = \"Take drops in a temple\"\n",
    "match = pat.search(text)"
   ]
  },
  {
   "cell_type": "code",
   "execution_count": 28,
   "metadata": {},
   "outputs": [
    {
     "data": {
      "text/plain": [
       "<re.Match object; span=(0, 22), match='Take drops in a temple'>"
      ]
     },
     "execution_count": 28,
     "metadata": {},
     "output_type": "execute_result"
    }
   ],
   "source": [
    "match"
   ]
  },
  {
   "cell_type": "markdown",
   "metadata": {},
   "source": [
    "### メタ文字\n"
   ]
  },
  {
   "cell_type": "markdown",
   "metadata": {},
   "source": [
    "プログラミング言語によって若干の違いはあるが、正規表現には事前に定義された**メタ文字**が用意されている。例えば、`\\s`というメタ文字は、半角スペース (` `)、タブ (`\\t`)、キャリッジリターン (`\\r`)、改ページ (`\\f`)、垂直タブ (`\\v`)の全てにマッチする。\n",
    "\n",
    "| メタ文字 | 等価な正規表現   | 説明                                               |\n",
    "| :------- | :--------------- | :------------------------------------------------- |\n",
    "| `\\d`     | `[0-9]`          | 全ての数字にマッチする                             |\n",
    "| `\\D`     | `[^0-9]`         | 数字以外の全ての文字にマッチする                   |\n",
    "| `\\s`     | `[ \\t\\n\\r\\f\\v]`  | 全てのスペース記号とマッチする                     |\n",
    "| `\\S`     | `[^ \\t\\n\\r\\f\\v]` | 全てのスペース記号でない文字とマッチする           |\n",
    "| `\\w`     | `[a-zA-Z0-9_]`   | 全ての英数字とアンダースコアとマッチする           |\n",
    "| `\\W`     | `[^a-zA-Z0-9_]`  | 英数字とアンダースコア以外の全ての文字とマッチする |\n"
   ]
  },
  {
   "cell_type": "markdown",
   "metadata": {},
   "source": [
    "## 正規表現のシンタックス -中級編-\n"
   ]
  },
  {
   "cell_type": "markdown",
   "metadata": {
    "editable": true,
    "slideshow": {
     "slide_type": ""
    },
    "tags": []
   },
   "source": [
    "### サブグループ\n"
   ]
  },
  {
   "cell_type": "markdown",
   "metadata": {},
   "source": [
    "上記の例では、マッチした文字列を取り出すために `match.group(0)`のように`group`メソッドに`0`を指定した。この`group`はマッチした文字列内にあるサブグループのことで、`0`はマッチした文章全体を示す。また`match.group(0)`は`match[0]`とも書くことができる。\n"
   ]
  },
  {
   "cell_type": "code",
   "execution_count": 29,
   "metadata": {},
   "outputs": [
    {
     "name": "stdout",
     "output_type": "stream",
     "text": [
      "http://www.google.com Google\n"
     ]
    }
   ],
   "source": [
    "text = '<a href=\"http://www.google.com\">Google</a>'\n",
    "pat = re.compile('<a href=\"(.+?)\">(.+?)</a>')\n",
    "match = pat.search(text)\n",
    "print(match[1], match[2])"
   ]
  },
  {
   "cell_type": "markdown",
   "metadata": {},
   "source": [
    "### 名前付きサブグループ\n"
   ]
  },
  {
   "cell_type": "code",
   "execution_count": 30,
   "metadata": {},
   "outputs": [
    {
     "name": "stdout",
     "output_type": "stream",
     "text": [
      "http://www.google.com Google\n"
     ]
    }
   ],
   "source": [
    "text = '<a href=\"http://www.google.com\">Google</a>'\n",
    "pat = re.compile('<a href=\"(?P<url>.+?)\">(?P<text>.+?)</a>')\n",
    "match = pat.search(text)\n",
    "print(match[\"url\"], match[\"text\"])"
   ]
  },
  {
   "cell_type": "markdown",
   "metadata": {},
   "source": [
    "### 日本語の取り扱い\n"
   ]
  },
  {
   "cell_type": "markdown",
   "metadata": {},
   "source": [
    "結論から言うと、**日本語を取り扱うために意識しなければならないことはほとんどない**。例えば、とある日本語の文章に「こ」から始まり「は」で終わる5文字の言葉が含まれているかどうかを知りたいとする。\n",
    "\n",
    "ここまでの復習的な内容だが、「こ」や「は」が日本語の文字であるということを特別視しなければ、上記の条件に合う正規表現を導くことは容易だろう。正解は以下のようになる (初期状態ではセルを非表示にしてある)。"
   ]
  },
  {
   "cell_type": "code",
   "execution_count": 31,
   "metadata": {
    "tags": [
     "hide-cell"
    ]
   },
   "outputs": [
    {
     "name": "stdout",
     "output_type": "stream",
     "text": [
      "['こんにちは', 'こんばんは']\n"
     ]
    }
   ],
   "source": [
    "pat = re.compile(\"こ.{3}は\")\n",
    "text = \"こんにちは こんばんわ こんばんは\"\n",
    "matches = pat.findall(text)\n",
    "print(matches)"
   ]
  },
  {
   "cell_type": "markdown",
   "metadata": {},
   "source": [
    "しかし、日本語と英語が混じった文章もあるかもしれない。次のような場合はどうだろうか？"
   ]
  },
  {
   "cell_type": "code",
   "execution_count": 32,
   "metadata": {},
   "outputs": [
    {
     "name": "stdout",
     "output_type": "stream",
     "text": [
      "['こんにちは', 'こ、AIは']\n"
     ]
    }
   ],
   "source": [
    "pat = re.compile(\"こ.{3}は\")\n",
    "text = \"こんにちは。あのこ、AIは得意だって。\"\n",
    "matches = pat.findall(text)\n",
    "print(matches)"
   ]
  },
  {
   "cell_type": "markdown",
   "metadata": {},
   "source": [
    "もちろん、上記のような動作を想定して正規表現を使っているかもしれないが、日本語だけ、もっというとひらがなだけで構成された「こ」で始まり、「は」で終わる5文字の言葉を探したいかもしれない。"
   ]
  },
  {
   "cell_type": "markdown",
   "metadata": {},
   "source": [
    "実は、日本語のひらがなやカタカナは、Unicode という数字コードによって整理されており、これを用いると、英数字なのか平仮名なのか、といった文字種を判別することができる。とはいえUnicodeという言葉に耳慣れない読者もいるだろう。\n",
    "\n",
    "例えば「あ」の Unicode は 16 進数で`0x3042`であり、これを調べるためには、文字を 10 進数の Unicode に変換する関数である`ord`と 10 進数の数字を 16 進数を表す文字列へと変換する関数である`hex`を組み合わせて、次のようにすれば良い。\n"
   ]
  },
  {
   "cell_type": "code",
   "execution_count": 33,
   "metadata": {},
   "outputs": [
    {
     "name": "stdout",
     "output_type": "stream",
     "text": [
      "Unicode of 'あ' is 0x3042\n"
     ]
    }
   ],
   "source": [
    "uni = hex(ord(\"あ\"))\n",
    "print(f\"Unicode of 'あ' is {uni:s}\")"
   ]
  },
  {
   "cell_type": "markdown",
   "metadata": {},
   "source": [
    "反対に16進数のUnicodeから対応する文字を調べたい場合には、`chr`関数を用いる。\n"
   ]
  },
  {
   "cell_type": "code",
   "execution_count": 34,
   "metadata": {},
   "outputs": [
    {
     "name": "stdout",
     "output_type": "stream",
     "text": [
      "Character with Unicode 3051 is 'け'\n"
     ]
    }
   ],
   "source": [
    "uni = 0x3051\n",
    "c = chr(uni)\n",
    "print(f\"Character with Unicode {uni:x} is '{c:s}'\")"
   ]
  },
  {
   "cell_type": "markdown",
   "metadata": {},
   "source": [
    "Unicode上のひらがなは小文字の「ぁ」(`0x3041`)から「ゔ」(`0x3094`)までに定義されていて、一覧にすると以下のようになる。\n"
   ]
  },
  {
   "cell_type": "code",
   "execution_count": 35,
   "metadata": {
    "tags": [
     "remove-input"
    ]
   },
   "outputs": [
    {
     "name": "stdout",
     "output_type": "stream",
     "text": [
      "ぁあぃいぅうぇえぉお\n",
      "かがきぎくぐけげこご\n",
      "さざしじすずせぜそぞ\n",
      "ただちぢっつづてでと\n",
      "どなにぬねのはばぱひ\n",
      "びぴふぶぷへべぺほぼ\n",
      "ぽまみむめもゃやゅゆ\n",
      "ょよらりるれろゎわゐ\n",
      "ゑをんゔ"
     ]
    }
   ],
   "source": [
    "for i, c in enumerate(range(0x3041, 0x3094 + 1)):\n",
    "    print(chr(c), end=\"\")\n",
    "    if (i + 1) % 10 == 0:\n",
    "        print()"
   ]
  },
  {
   "cell_type": "markdown",
   "metadata": {},
   "source": [
    "同じようにカタカナは「ァ」(`0x30A1`)から「ヴ」(`0x30F4`)までに定義されており、一覧にすると以下のようになる。\n"
   ]
  },
  {
   "cell_type": "code",
   "execution_count": 36,
   "metadata": {
    "tags": [
     "remove-input"
    ]
   },
   "outputs": [
    {
     "name": "stdout",
     "output_type": "stream",
     "text": [
      "ァアィイゥウェエォオ\n",
      "カガキギクグケゲコゴ\n",
      "サザシジスズセゼソゾ\n",
      "タダチヂッツヅテデト\n",
      "ドナニヌネノハバパヒ\n",
      "ビピフブプヘベペホボ\n",
      "ポマミムメモャヤュユ\n",
      "ョヨラリルレロヮワヰ\n",
      "ヱヲンヴ"
     ]
    }
   ],
   "source": [
    "for i, c in enumerate(range(0x30A1, 0x30F4 + 1)):\n",
    "    print(chr(c), end=\"\")\n",
    "    if (i + 1) % 10 == 0:\n",
    "        print()"
   ]
  },
  {
   "cell_type": "markdown",
   "metadata": {},
   "source": [
    "このUnicodeを用いると、ひらがな全体を表す文字セットは`[\\u3041-\\u3094]`のように表すことができる。先ほどまでは16進数であることを表すために`0x`という接頭辞を用いていたが、正規表現中では代わりに`\\u`という接頭辞を使う。\n",
    "\n",
    "この例では、文字セットが、ある意味で**数値の範囲**として表されているわけだが、ここで何か気がつくことはあるだろうか。\n",
    "\n",
    "C言語やC++になじみのある読者はASCII文字が`char`という符号付き8bit整数の正の値、すなわち0から127に対応していることを知っているかも知れないが、実は、`[A-Z]`のような文字セットも`A`や`Z`などを符号付き8bit整数としてUnicodeの範囲を示す数字として扱っていたに過ぎないのである。"
   ]
  },
  {
   "cell_type": "markdown",
   "metadata": {},
   "source": [
    "さて、ここまでを踏まえて冒頭の話に戻ろう。Unicodeを用いれば、「こ」で始まり「は」で始まるひらがな5文字の言葉を探す正規表現は以下のようになる。"
   ]
  },
  {
   "cell_type": "code",
   "execution_count": 37,
   "metadata": {
    "tags": [
     "hide-cell"
    ]
   },
   "outputs": [
    {
     "name": "stdout",
     "output_type": "stream",
     "text": [
      "['こんにちは']\n"
     ]
    }
   ],
   "source": [
    "pat = re.compile(\"こ[\\u3041-\\u3094]{3}は\")\n",
    "text = \"こんにちは。あのこ、AIは得意だって。\"\n",
    "matches = pat.findall(text)\n",
    "print(matches)"
   ]
  },
  {
   "cell_type": "markdown",
   "metadata": {},
   "source": [
    "この際、Pythonの文字列は**そもそもとして文字列中の各文字をUnicodeで扱っている**ので、ひらがなやカタカナそれ自体を文字セットの下限と上限を指定するのに用いても問題ない。"
   ]
  },
  {
   "cell_type": "code",
   "execution_count": 38,
   "metadata": {},
   "outputs": [
    {
     "name": "stdout",
     "output_type": "stream",
     "text": [
      "['こんにちは']\n"
     ]
    }
   ],
   "source": [
    "pat = re.compile(\"こ[ぁ-ゔ]{3}は\")\n",
    "text = \"こんにちは。あのこ、AIは得意だって。\"\n",
    "matches = pat.findall(text)\n",
    "print(matches)"
   ]
  },
  {
   "cell_type": "markdown",
   "metadata": {
    "tags": [
     "hide-input"
    ]
   },
   "source": [
    "## 演習\n"
   ]
  },
  {
   "cell_type": "markdown",
   "metadata": {},
   "source": [
    "```{topic} 問1 \n",
    "\n",
    "正規表現を用いて、HTML タグから、タグ名、id、class の情報を取り出す関数を作成せよ。その際、id と class の指定順序は順不同であるほか、それ以外の属性値 (`align=\"center\"`など)が指定されている場合もあることに注意せよ。\n",
    "```"
   ]
  },
  {
   "cell_type": "code",
   "execution_count": 39,
   "metadata": {
    "tags": [
     "remove-cell"
    ]
   },
   "outputs": [],
   "source": [
    "# 問1\n",
    "def Q1(text: str):\n",
    "    pat = re.compile(\"<(?P<tag>[a-z]+?)\\s+?(?P<fields>.+)>\")\n",
    "    match = pat.search(text)\n",
    "    tag = match[\"tag\"]\n",
    "    fields = match[\"fields\"]\n",
    "\n",
    "    pat = re.compile(\"(?P<key>\\S+?)=\\\"(?P<value>\\S+?)\\\"\")\n",
    "    matches = pat.findall(fields)\n",
    "    fields = {k: v for k, v in matches}\n",
    "\n",
    "    id = None\n",
    "    if \"id\" in fields:\n",
    "        id = fields[\"id\"]\n",
    "    cls = None\n",
    "    if \"class\" in fields:\n",
    "        cls = fields[\"class\"]\n",
    "\n",
    "    return tag, id, cls"
   ]
  },
  {
   "cell_type": "code",
   "execution_count": 40,
   "metadata": {
    "tags": [
     "remove-cell"
    ]
   },
   "outputs": [
    {
     "data": {
      "text/plain": [
       "'<div id=\"container\" class=\"main\">'"
      ]
     },
     "metadata": {
      "scrapbook": {
       "mime_prefix": "",
       "name": "input1-1"
      }
     },
     "output_type": "display_data"
    },
    {
     "data": {
      "text/plain": [
       "('div', 'container', 'main')"
      ]
     },
     "metadata": {
      "scrapbook": {
       "mime_prefix": "",
       "name": "output1-1"
      }
     },
     "output_type": "display_data"
    }
   ],
   "source": [
    "input = '<div id=\"container\" class=\"main\">'\n",
    "output = Q1(input)\n",
    "glue(\"input1-1\", input)\n",
    "glue(\"output1-1\", output)"
   ]
  },
  {
   "cell_type": "markdown",
   "metadata": {
    "tags": [
     "remove-output"
    ]
   },
   "source": [
    "* **入力例1:** {glue:}`input1-1`\n",
    "* **出力例1:** {glue:}`output1-1`"
   ]
  },
  {
   "cell_type": "code",
   "execution_count": 41,
   "metadata": {
    "tags": [
     "remove-cell"
    ]
   },
   "outputs": [
    {
     "data": {
      "text/plain": [
       "'<div class=\"form\">'"
      ]
     },
     "metadata": {
      "scrapbook": {
       "mime_prefix": "",
       "name": "input1-2"
      }
     },
     "output_type": "display_data"
    },
    {
     "data": {
      "text/plain": [
       "('div', None, 'form')"
      ]
     },
     "metadata": {
      "scrapbook": {
       "mime_prefix": "",
       "name": "output1-2"
      }
     },
     "output_type": "display_data"
    }
   ],
   "source": [
    "input = '<div class=\"form\">'\n",
    "output = Q1(input)\n",
    "glue(\"input1-2\", input)\n",
    "glue(\"output1-2\", output)"
   ]
  },
  {
   "cell_type": "markdown",
   "metadata": {},
   "source": [
    "* **入力例2:** {glue:}`input1-2`\n",
    "* **出力例2:** {glue:}`output1-2`"
   ]
  },
  {
   "cell_type": "markdown",
   "metadata": {},
   "source": [
    "```{topic} 問2\n",
    "\n",
    "日本語の文章が与えられたとき、漢字の四字熟語だけを正規表現を用いて取り出す関数を作成せよ。ただし、一般的な漢字は「一」(`0x4E00`)から「鿿」(`0x9FFF`)の範囲にある約2万文字がCJK統合漢字としてまとめられている。\n",
    "\n",
    "この際、四字より多い感じから構成される熟語 (例: 日常茶飯事、日々是好日)を取り出さないようにすること。\n",
    "```"
   ]
  },
  {
   "cell_type": "code",
   "execution_count": 42,
   "metadata": {
    "tags": [
     "remove-cell"
    ]
   },
   "outputs": [],
   "source": [
    "def Q2(text):\n",
    "    pat = re.compile(\"[\\u4E00-\\u9FFF]{4,}\")\n",
    "    matches = pat.findall(text)\n",
    "    matches = [m for m in matches if len(m) == 4]\n",
    "    return matches"
   ]
  },
  {
   "cell_type": "code",
   "execution_count": 43,
   "metadata": {
    "tags": [
     "remove-cell"
    ]
   },
   "outputs": [
    {
     "data": {
      "text/plain": [
       "'だんだんと暖かくなってきました。これが三寒四温というやつですね。'"
      ]
     },
     "metadata": {
      "scrapbook": {
       "mime_prefix": "",
       "name": "input2-1"
      }
     },
     "output_type": "display_data"
    },
    {
     "data": {
      "text/plain": [
       "['三寒四温']"
      ]
     },
     "metadata": {
      "scrapbook": {
       "mime_prefix": "",
       "name": "output2-1"
      }
     },
     "output_type": "display_data"
    }
   ],
   "source": [
    "input = \"だんだんと暖かくなってきました。これが三寒四温というやつですね。\"\n",
    "output = Q2(input)\n",
    "glue(\"input2-1\", input)\n",
    "glue(\"output2-1\", output)"
   ]
  },
  {
   "cell_type": "markdown",
   "metadata": {},
   "source": [
    "* **入力例1:** {glue:}`input2-1`\n",
    "* **出力例1:** {glue:}`output2-1`"
   ]
  },
  {
   "cell_type": "code",
   "execution_count": 44,
   "metadata": {
    "tags": [
     "remove-cell"
    ]
   },
   "outputs": [
    {
     "data": {
      "text/plain": [
       "'彼の遅刻は日常茶飯事ですよ。'"
      ]
     },
     "metadata": {
      "scrapbook": {
       "mime_prefix": "",
       "name": "input2-2"
      }
     },
     "output_type": "display_data"
    },
    {
     "data": {
      "text/plain": [
       "[]"
      ]
     },
     "metadata": {
      "scrapbook": {
       "mime_prefix": "",
       "name": "output2-2"
      }
     },
     "output_type": "display_data"
    }
   ],
   "source": [
    "input = \"彼の遅刻は日常茶飯事ですよ。\"\n",
    "output = Q2(input)\n",
    "glue(\"input2-2\", input)\n",
    "glue(\"output2-2\", output)"
   ]
  },
  {
   "cell_type": "markdown",
   "metadata": {
    "tags": []
   },
   "source": [
    "* **入力例2:** {glue:}`input2-2`\n",
    "* **出力例2:** {glue:}`output2-2`"
   ]
  },
  {
   "cell_type": "markdown",
   "metadata": {},
   "source": []
  }
 ],
 "metadata": {
  "kernelspec": {
   "display_name": "Python 3 (ipykernel)",
   "language": "python",
   "name": "python3"
  },
  "language_info": {
   "codemirror_mode": {
    "name": "ipython",
    "version": 3
   },
   "file_extension": ".py",
   "mimetype": "text/x-python",
   "name": "python",
   "nbconvert_exporter": "python",
   "pygments_lexer": "ipython3",
   "version": "3.11.6"
  }
 },
 "nbformat": 4,
 "nbformat_minor": 4
}
