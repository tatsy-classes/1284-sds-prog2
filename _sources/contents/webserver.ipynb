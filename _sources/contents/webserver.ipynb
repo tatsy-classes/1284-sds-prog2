{
 "cells": [
  {
   "cell_type": "code",
   "execution_count": 1,
   "metadata": {
    "tags": [
     "remove-cell"
    ]
   },
   "outputs": [],
   "source": [
    "from IPython.display import Markdown"
   ]
  },
  {
   "cell_type": "code",
   "execution_count": 2,
   "metadata": {
    "tags": [
     "remove-cell"
    ]
   },
   "outputs": [],
   "source": [
    "# 演習データのtar.gz圧縮\n",
    "import os\n",
    "import tarfile\n",
    "\n",
    "data_dir = \"server\"\n",
    "tar_file = os.path.join(data_dir, \"public_html.tar.gz\")\n",
    "target = tar_file.replace(\".tar.gz\", \"\")\n",
    "\n",
    "# tarfileの展開\n",
    "with tarfile.open(tar_file, mode=\"w:gz\") as tar:\n",
    "    tar.add(target, arcname=os.path.basename(target))"
   ]
  },
  {
   "cell_type": "markdown",
   "metadata": {},
   "source": [
    "(sec:web-server)=\n",
    "# 簡易ウェブサーバの実装"
   ]
  },
  {
   "cell_type": "markdown",
   "metadata": {},
   "source": [
    "本項では、前回の[ソケット通信](https://www.rbanno.net/classes/hitu_2024_p2/day07/socket.html)で学んだことを応用し、簡易ウェブサーバを実装してみよう。\n",
    "\n",
    "特定のURLの特定のポートにおいて接続を待ち受けるだけの簡単なプログラムをマルチスレッドでリクエストを処理するウェブサーバに改良していく。\n",
    "\n",
    "最終的に作成される簡易ウェブサーバでは以下の演習用データを配信することを目指す。\n",
    "\n",
    "- [演習用データ](./server/public_html.tar.gz)\n"
   ]
  },
  {
   "cell_type": "markdown",
   "metadata": {},
   "source": [
    "## 最初のプログラム"
   ]
  },
  {
   "cell_type": "markdown",
   "metadata": {},
   "source": [
    "まずは、ソケットを用いて`localhost`の`8080`ポートで接続を待ち受けるプログラムを作成しよう。以下のソースコードに`server.py`という名前をつけて、各自のコンピュータに保存しよう。"
   ]
  },
  {
   "cell_type": "code",
   "execution_count": 3,
   "metadata": {
    "tags": [
     "remove-input"
    ]
   },
   "outputs": [
    {
     "data": {
      "text/markdown": [
       "```python\r\n",
       "import socket\n",
       "\n",
       "# サーバのパラメータ\n",
       "SERVER_HOST = \"localhost\"\n",
       "SERVER_PORT = 8080\n",
       "SERVER_NAME = \"Awesome HTTP Server/v1.0.0\"\n",
       "SERVER_ROOT = \"public_html\"\n",
       "BUFSIZE = 4096\n",
       "\n",
       "\n",
       "def main():\n",
       "    # ソケットを作成\n",
       "    srv_sock = socket.socket(socket.AF_INET, socket.SOCK_STREAM)\n",
       "    srv_sock.setsockopt(socket.SOL_SOCKET, socket.SO_REUSEADDR, 1)\n",
       "    srv_sock.settimeout(1)\n",
       "    srv_sock.bind((SERVER_HOST, SERVER_PORT))\n",
       "    srv_sock.listen(10)\n",
       "    print(f\"Listening on {SERVER_HOST}:{SERVER_PORT}...\")\n",
       "\n",
       "    while True:\n",
       "        try:\n",
       "            # クライアントからの接続を待ち受ける\n",
       "            clt_sock, clt_addr = srv_sock.accept()\n",
       "            print(f\"Connection from {clt_addr}\")\n",
       "\n",
       "            # データを受信して表示\n",
       "            req_bytes = clt_sock.recv(4096)\n",
       "            request = req_bytes.decode(\"utf-8\")\n",
       "            print(f\"Received:\\r\\n{request}\")\n",
       "\n",
       "            if request == \"exit\":\n",
       "                break\n",
       "\n",
       "        except socket.timeout:\n",
       "            # 接続がタイムアウトしたら、再度接続を待ち受ける\n",
       "            continue\n",
       "\n",
       "        except KeyboardInterrupt:\n",
       "            # Ctrl+Cなどが押されたらループを抜ける\n",
       "            break\n",
       "\n",
       "    # ソケットを閉じる\n",
       "    srv_sock.close()\n",
       "\n",
       "\n",
       "if __name__ == \"__main__\":\n",
       "    main()\n",
       "\r\n",
       "```"
      ],
      "text/plain": [
       "<IPython.core.display.Markdown object>"
      ]
     },
     "execution_count": 3,
     "metadata": {},
     "output_type": "execute_result"
    }
   ],
   "source": [
    "content = \"\"\n",
    "with open(\"./server/template.py\", \"r\", encoding=\"utf-8\") as f:\n",
    "    content = f.read()\n",
    "\n",
    "Markdown(f\"```python\\r\\n{content}\\r\\n```\")"
   ]
  },
  {
   "cell_type": "markdown",
   "metadata": {},
   "source": [
    "保存が完了したらターミナル等のシェルを開き、\n",
    "\n",
    "```shell\n",
    "python server.py\n",
    "```\n",
    "\n",
    "として実行する。すると、`localhost`の`8080`番ポートが読み取られるようになるので、ブラウザのURLに `http://localhost:8080` と入力してサーバーにアクセスしてみよう。\n",
    "\n",
    "おそらく、以下のような「このサイトにはアクセスできません」のようなエラーメッセージが表示されてアクセスに失敗するはずだ。"
   ]
  },
  {
   "cell_type": "markdown",
   "metadata": {
    "vscode": {
     "languageId": "plaintext"
    }
   },
   "source": [
    "```{image} ./imgs/404_not_found.jpg\n",
    ":width: 70%\n",
    ":align: center\n",
    ":class: with-border\n",
    "```"
   ]
  },
  {
   "cell_type": "markdown",
   "metadata": {},
   "source": [
    "しかし、裏側ではブラウザからHTTPリクエストが送信されていて、サーバ側のプログラムでは、送られてきたリクエスト内容がシェル上に表示されているはずである。ブラウザの種類によって多少内容はことなるが、概ね以下のような内容のリクエストが表示されているはずである。"
   ]
  },
  {
   "cell_type": "markdown",
   "metadata": {},
   "source": [
    "```text\n",
    "GET / HTTP/1.1\n",
    "Host: localhost:8080\n",
    "Connection: keep-alive\n",
    "Cache-Control: max-age=0\n",
    "sec-ch-ua: \"Brave\";v=\"125\", \"Chromium\";v=\"125\", \"Not.A/Brand\";v=\"24\"\n",
    "sec-ch-ua-mobile: ?0\n",
    "sec-ch-ua-platform: \"Windows\"\n",
    "Upgrade-Insecure-Requests: 1\n",
    "User-Agent: Mozilla/5.0 (Windows NT 10.0; Win64; x64) AppleWebKit/537.36 (KHTML, like Gecko) Chrome/125.0.0.0 Safari/537.36\n",
    "Accept: text/html,application/xhtml+xml,application/xml;q=0.9,image/avif,image/webp,image/apng,*/*;q=0.8\n",
    "Sec-GPC: 1\n",
    "Sec-Fetch-Site: none\n",
    "Sec-Fetch-Mode: navigate\n",
    "Sec-Fetch-User: ?1\n",
    "Sec-Fetch-Dest: document\n",
    "Accept-Encoding: gzip, deflate, br, zstd\n",
    "Accept-Language: ja,en;q=0.9,en-US;q=0.8\n",
    "```"
   ]
  },
  {
   "cell_type": "markdown",
   "metadata": {},
   "source": [
    "世間で広く使われているようなウェブサーバでは、このHTTPリクエストの内容を一つずつチェックして、どのような内容をクライアント側に送り返すかを決めている。しかし、簡易ウェブサーバで全てを扱うのは困難なので、これらのリクエスト・パラメータのいくつかだけに対応することにする。"
   ]
  },
  {
   "cell_type": "markdown",
   "metadata": {},
   "source": [
    "## HTTPレスポンスの内容"
   ]
  },
  {
   "cell_type": "markdown",
   "metadata": {},
   "source": [
    "「最初のプログラム」では、ブラウザでアクセスした際に、エラーが発生してアクセスに失敗してしまった。これは、端的にはHTTPレスポンスが返ってこなかったことに原因があるのだが、そもそも、通常のウェブサーバはどのようなレスポンスを返してくるのだろうか。\n",
    "\n",
    "Pythonには標準ライブラリの中に簡易ウェブサーバが用意されているので、それを用いてレスポンス情報を調べてみよう。サーバは以下のコマンドで起動できる。\n",
    "\n",
    "```shell\n",
    "# [配信するディレクトリ]の部分は適宜変更すること\n",
    "python -m http.server [配信するディレクトリ] 8081\n",
    "```\n",
    "\n",
    "サーバを起動後、ブラウザを開いて、 `localhost:8081` にアクセスしてみよう。すると、以下のようなウェブページが正しく表示されるはずである。"
   ]
  },
  {
   "cell_type": "markdown",
   "metadata": {},
   "source": [
    "```{image} ./imgs/tama_simple.jpg\n",
    ":width: 50%\n",
    ":align: center\n",
    ":class: with-border\n",
    "```"
   ]
  },
  {
   "cell_type": "markdown",
   "metadata": {},
   "source": [
    "ブラウザでページを表示したら、Google Chromeであれば、右上の三点メニューから「その他のツール」→「ディベロッパーツール」を開く。ツールの画面が開いたら、ページをリロードすると、「Network」のタブに以下のような情報が表示される。"
   ]
  },
  {
   "cell_type": "markdown",
   "metadata": {},
   "source": [
    "```{image} ./imgs/devtool_network.jpg\n",
    ":width: 80%\n",
    ":align: center\n",
    ":class: with-border\n",
    "```"
   ]
  },
  {
   "cell_type": "markdown",
   "metadata": {},
   "source": [
    "上記の画像で画面下側に表示されているいくつかのドメイン、ファイル名のうち `localhost`を選択すると詳細を見ることができる。なお、この`localhost`というURLは、以下のTipに示すとおり、`index.html`に対応している。"
   ]
  },
  {
   "cell_type": "markdown",
   "metadata": {},
   "source": [
    "```{image} ./imgs/devtool_response.jpg\n",
    ":width: 50%\n",
    ":align: center\n",
    ":class: with-border\n",
    "```"
   ]
  },
  {
   "cell_type": "markdown",
   "metadata": {},
   "source": [
    "```{tip}\n",
    "一般的なサーバは、ファイル名を指定しない場合には、そのディレクトリにおけるデフォルトファイル (多くの場合は `index.html`)を参照することになっており、`localhost:8081`は、実は `localhost:8081/index.html`をURLとして指定していることと同義になる。\n",
    "```"
   ]
  },
  {
   "cell_type": "markdown",
   "metadata": {},
   "source": [
    "上記の画面で、Response Headersの右横にあるチェックボックスをクリックすると、レスポンス・ヘッダの情報を取り出すことができる。\n",
    "\n",
    "```text\n",
    "HTTP/1.0 200 OK\n",
    "Server: SimpleHTTP/0.6 Python/3.11.9\n",
    "Date: Wed, 12 Jun 2024 00:23:34 GMT\n",
    "Content-type: text/html\n",
    "Content-Length: 497\n",
    "Last-Modified: Tue, 11 Jun 2024 23:59:41 GMT\n",
    "```\n",
    "\n",
    "以上のように、レスポンスヘッダにはHTTPのバージョンの他、ファイルが配信された時刻やファイルの種類、データ長などが含まれている。"
   ]
  },
  {
   "cell_type": "markdown",
   "metadata": {},
   "source": [
    "### レスポンスを真似る"
   ]
  },
  {
   "cell_type": "markdown",
   "metadata": {},
   "source": [
    "HTTPサーバから戻されるレスポンスは、上記のレスポンス・ヘッダとレスポンス・ボディを含む。レスポンス・ボディは、上記の例で言えば`index.html`のファイルの中身で、ヘッダとボディは空行で区切られる。\n",
    "\n",
    "では、レスポンスとして、上記のレスポンス・ヘッダと適当なHTMLファイルをつなげた以下のテキストをそのまま戻すようにしてみよう。なお、レスポンス・ヘッダはバイナリデータとして送信しなければならないので、以下のテキストをUTF-8でエンコードし、クラアントのソケットを用いて送信する。\n",
    "\n",
    "```python\n",
    "# responseは以下に示すテキストの内容\n",
    "clt_sock.send(response.encode(\"utf-8\"))\n",
    "```"
   ]
  },
  {
   "cell_type": "markdown",
   "metadata": {},
   "source": [
    "```text\n",
    "HTTP/1.0 200 OK\n",
    "Server: SimpleHTTP/0.6 Python/3.11.9\n",
    "Date: Wed, 12 Jun 2024 00:23:34 GMT\n",
    "Content-type: text/html\n",
    "Content-Length: 497\n",
    "Last-Modified: Tue, 11 Jun 2024 23:59:41 GMT\n",
    "\n",
    "<html>\n",
    "<head>\n",
    "<meta charset=\"utf-8\" />\n",
    "<title>テスト</title>\n",
    "</head>\n",
    "<body>\n",
    "<h1>テスト</h1>\n",
    "</body>\n",
    "</html>\n",
    "```"
   ]
  },
  {
   "cell_type": "markdown",
   "metadata": {},
   "source": [
    "上手くレスポンスが送信できれば、ブラウザに以下のように表示される。"
   ]
  },
  {
   "cell_type": "markdown",
   "metadata": {},
   "source": [
    "```{image} ./imgs/test_display.jpg\n",
    ":width: 100%\n",
    ":align: center\n",
    ":class: with-border\n",
    "```"
   ]
  },
  {
   "cell_type": "markdown",
   "metadata": {},
   "source": [
    "## レスポンスの動的な生成"
   ]
  },
  {
   "cell_type": "markdown",
   "metadata": {},
   "source": [
    "ここまでの例はPythonに元々用意されている`http.server`のレスポンス・ヘッダをそのまま利用していた。しかし、通常のウェブサーバは、これらの情報をサーバ自身が生成していることは言うまでもない。\n",
    "\n",
    "そこで、必要なレスポンス・ヘッダの情報を、計算機的に生成してみよう。なお、レスポンス・ヘッダやそれに続く空行はCRLF改行と呼ばれる改行文字 (`\\r\\n`)を用いるので注意すること。"
   ]
  },
  {
   "cell_type": "markdown",
   "metadata": {},
   "source": [
    "### ステータスコード\n",
    "\n",
    "レスポンス・ヘッダは必ずステータスコードから始まる。今回は、レスポンスの返送が必ず成功するとして、ステータスコード200を返送する。\n",
    "\n",
    "```python\n",
    "response = \"HTTP/1.0 200 OK\\r\\n\"\n",
    "```"
   ]
  },
  {
   "cell_type": "markdown",
   "metadata": {},
   "source": [
    "### サーバの名前\n",
    "\n",
    "サーバの名前は、適当につけて良いので、自分の好きな名前を用いておこう。サーバ名は日本語で指定すると文字化けしてしまうので、英数字で指定しておくと良い。\n",
    "\n",
    "```python\n",
    "server_name = \"Awesome HTTP Server/v1.0.0\"\n",
    "response += f\"Server: {server_name:s}\\r\\n\"\n",
    "```"
   ]
  },
  {
   "cell_type": "markdown",
   "metadata": {},
   "source": [
    "### 時刻の生成\n",
    "\n",
    "現在時刻に関する情報は`datetime`モジュールを用いて取得することができる。特に、現在時刻は`datetime`の静的関数である`now()`を用いれば良い。\n",
    "\n",
    "```python\n",
    "from datetime import datetime\n",
    "\n",
    "now = datetime.now()\n",
    "```\n",
    "\n",
    "しかし、このままでは、どこの標準時で時刻が取得されているかが判然としないので、日本標準時で時刻を取得してみよう。タイムゾーンを指定するには`zoneinfo`モジュールの`ZoneInfo`を用いる。\n",
    "\n",
    "```python\n",
    "from zoneinfo import ZoneInfo\n",
    "\n",
    "now = datetime.now(ZoneInfo(\"Asia/Tokyo\"))\n",
    "```\n",
    "\n",
    "これを、 `Wed, 12 Jun 2024 00:23:34 GMT`というようなフォーマットに合わせるには、`strftime`関数を用いれば良い。\n",
    "\n",
    "```python\n",
    "now_str = now.strftime(\"%a, %d %b %Y %H:%M:%S JST\")\n",
    "```\n",
    "\n",
    "これで日本標準時が取得できたので、この情報をレスポンスに加えておく。\n",
    "\n",
    "```python\n",
    "response += f\"Date: {now_str:s}\\r\\n\"\n",
    "```"
   ]
  },
  {
   "cell_type": "markdown",
   "metadata": {},
   "source": [
    "### ファイルの情報"
   ]
  },
  {
   "cell_type": "markdown",
   "metadata": {},
   "source": [
    "前述のレスポンス・ヘッダには送信するファイルの情報として、\n",
    "\n",
    "- ファイルの種類 (`Content-type`)\n",
    "- ファイルのバイト数 (`Content-Length`)\n",
    "- ファイルの最終更新日時 (`Last-Modified`)\n",
    "\n",
    "が含まれている。これらを順に取得していこう。"
   ]
  },
  {
   "cell_type": "markdown",
   "metadata": {},
   "source": [
    "まず、ファイルの種類だが、これは、ファイルの拡張子から判断すれば良い。例えば、拡張子が`.htm`や`.html`であればHTML (`text/html`)、`.css`であればCSSファイル(`text/css`)といった具合になる。\n",
    "\n",
    "ファイルの拡張子はファイルのパスを`.`で区切って取得するか、あるいは`os.path`モジュールの`os.path.splitext`を用いても良い。\n",
    "\n",
    "```python\n",
    "# 拡張子の取得\n",
    "_, extension = os.path.splitext(path)\n",
    "\n",
    "# ファイルの種類を判別\n",
    "content_type = \"text/plain\"\n",
    "if extension == \".html\":\n",
    "    content_type = \"text/html\"\n",
    "elif extension == \".css\":\n",
    "    content_type = \"text/css\"\n",
    "elif extension == \".jpg\" or extension == \".jpeg\":\n",
    "    content_type = \"image/jpeg\"\n",
    "elif extension == \".png\":\n",
    "    content_type = \"image/png\"\n",
    "else:\n",
    "    raise Exception(f\"Unknown file type with extension: {extension:s}\")\n",
    "\n",
    "# レスポンスに情報を追加\n",
    "response += f\"Content-Type: {content_type:s}\\r\\n\"\n",
    "```"
   ]
  },
  {
   "cell_type": "markdown",
   "metadata": {},
   "source": [
    "続いて、ファイルのサイズだが、これは、ファイルを実際に開いて、バイト数をカウントすれば良い。\n",
    "\n",
    "```python\n",
    "# ファイルの内容を読み取る\n",
    "file_data = \"\"\n",
    "with open(path, \"rb\") as fp:\n",
    "    file_data = fp.read()\n",
    "\n",
    "# ファイルサイズを取得\n",
    "file_size = len(data)\n",
    "```\n",
    "\n",
    "HTTPレスポンスでは、実際にファイルの内容をレスポンス・ボディとして用いるので、ファイルの内容を先読みしておくこと自体は問題はない。しかし、(本項では扱わないが)ファイルサイズが巨大な場合には、データを分割して送信することもあるので、最初からファイルの内容を読むのではなく、ファイルのサイズだけを先に調べる方が良い。\n",
    "\n",
    "このためには、ファイルを開いた後、読み取り位置を移動させる`seek`関数にファイルの終端位置を表す `os.SEEK_END`を与えて、読み取り位置をファイルの末尾に移動し、その位置をバイト数として返してくる`tell`関数を用いるという方法が考えられる。\n",
    "\n",
    "```python\n",
    "import os\n",
    "\n",
    "# ファイルサイズの取得\n",
    "file_size = 0\n",
    "with open(path, \"rb\") as f:\n",
    "    # 読み取り位置を終端に移動\n",
    "    f.seek(0, os.SEEK_END)\n",
    "    # 読み取り位置 = ファイルサイズ、を取得する\n",
    "    file_size = f.tell()\n",
    "\n",
    "# レスポンス・ヘッダの更新\n",
    "response += f\"Content-Length: {file_size:d}\\r\\n\"\n",
    "```"
   ]
  },
  {
   "cell_type": "markdown",
   "metadata": {},
   "source": [
    "最後にファイルの最終更新日時だが、これはオペレーティング・システム上に記録されている情報を用いる。情報の取得には `os.path`モジュールの`getmtime`関数が使える (`mtime`の`m`は**Modified**の`m`である)。\n",
    "\n",
    "`getmtime`関数は更新時刻を浮動小数で表されるタイムスタンプとして返してくるので、これを`Tue, 11 Jun 2024 23:59:41 GMT`のような形式に変換するには、レスポンスの返送時刻を計算したときと同様に`datetime`の`strftime`を用いる。\n",
    "\n",
    "ただし、`getmtime`で得られるファイルの更新時刻はUTC (Universal Time Coordinated, 協定世界時)で表されているので、`datetime`オブジェクトの`astimezone`関数にタイムゾーン情報を指定して、時刻を日本標準時に変更しておく。"
   ]
  },
  {
   "cell_type": "markdown",
   "metadata": {},
   "source": [
    "```python\n",
    "# タイムスタンプの取得\n",
    "ts = os.path.getmtime(\"./server/public_html/index.html\")\n",
    "\n",
    "# datetimeオブジェクトのインスタンス化\n",
    "dt = datetime.fromtimestamp(ts, ZoneInfo(\"Asia/Tokyo\"))\n",
    "\n",
    "# テキストに変更してレスポンスに加える\n",
    "dt_str = dt.strftime(\"%a, %d %b %Y %H:%M:%S JST\")\n",
    "response += f\"Last-Modified: {dt_str}\\r\\n\"\n",
    "```"
   ]
  },
  {
   "cell_type": "markdown",
   "metadata": {},
   "source": [
    "### レスポンス・ボディ"
   ]
  },
  {
   "cell_type": "markdown",
   "metadata": {},
   "source": [
    "レスポンス・ボディは実際に送信するファイルのバイナリ情報である。バイナリ情報は実際にファイルをバイナリ読み取りモード`mode=\"rb\"`で開き、`read`関数で全てのデータを取り出すことで得ることができる。\n",
    "\n",
    "ここで注意したいのが、これまでに計算してきたレスポンス・ヘッダはテキスト情報である一方で、レスポンス・ボディを含むHTTPレスポンスはバイナリ情報である、という点である。\n",
    "\n",
    "そこで、レスポンス・ボディを`response`に追加する前に情報をエンコードしてバイナリ化した後に、レスポンス・ボディのバイナリ情報を付加すれば良い。\n",
    "\n",
    "```python\n",
    "# ヘッダとボディを区切る空行を追加\n",
    "response += \"\\r\\n\"\n",
    "\n",
    "# レスポンス・ヘッダをバイナリ化\n",
    "response = response.encode(\"utf-8\")\n",
    "\n",
    "# ボディ情報を付加\n",
    "with open(path, mode=\"rb\") as fp:\n",
    "    response += fp.read()\n",
    "```"
   ]
  },
  {
   "cell_type": "markdown",
   "metadata": {},
   "source": [
    "ここまでのレスポンス・ヘッダとレスポンス・ボディの計算が正しく行えると、以下のようにウェブページ (の一部)が表示されるはずである。"
   ]
  },
  {
   "cell_type": "markdown",
   "metadata": {},
   "source": [
    "```{image} ./imgs/partly_shown.jpg\n",
    ":width: 80%\n",
    ":align: center\n",
    ":class: with-border\n",
    "```"
   ]
  },
  {
   "cell_type": "markdown",
   "metadata": {},
   "source": [
    "現時点では表示は不完全ではるもののレスポンス自体は正しく送信できていて、ディベロッパーツールで`localhost`へのアクセスに対して戻ってきたレスポンスヘッダは、以下のようにプログラムで計算したものと一致している。"
   ]
  },
  {
   "cell_type": "markdown",
   "metadata": {},
   "source": [
    "```{image} ./imgs/good_response.jpg\n",
    ":width: 70%\n",
    ":align: center\n",
    "```"
   ]
  },
  {
   "cell_type": "markdown",
   "metadata": {},
   "source": [
    "## リンクされたファイルへの対応"
   ]
  },
  {
   "cell_type": "markdown",
   "metadata": {},
   "source": [
    "ウェブブラウザは`index.html`をレスポンスとして受け取ると、そのファイルを表示するのに必要な別ファイルに対して自動的にHTTPリクエストを送信するようになっている。\n",
    "\n",
    "実際、先ほどのディベロッパーツールの画面で`style.css`や`cat.jpg`などの別ファイルに対してもHTTPリクエストが送られていることが確認できる。現在、これらのファイルに対して、送り返されているHTTPレスポンスを確認してみよう。\n",
    "\n",
    "当然ながら、現在のサーバは常に`index.html`を読み取ってその内容を戻すので、レスポンスの内容がリクエストされているファイル内容に沿ったものにはなっていない。これが画像が正しく表示されなかったり、CSSが正しく反映されていなかったりする理由である。\n",
    "\n",
    "そこで、ここまでのサーバをリクエストされているファイルに合わせてレスポンスを変更するように更新しよう。"
   ]
  },
  {
   "cell_type": "markdown",
   "metadata": {},
   "source": [
    "### リクエスト・ファイルの取得"
   ]
  },
  {
   "cell_type": "markdown",
   "metadata": {},
   "source": [
    "冒頭に示したHTTPリクエストの一行目には\n",
    "\n",
    "```text\n",
    "GET / HTTP/1.1\n",
    "```\n",
    "\n",
    "という情報が記載されており、HTTPメソッド、ファイルのパス、HTTPのバージョンの3つの情報がスペースで区切られて記載されている。この情報を正規表現を用いて解析し、文法のチェックと情報の取得を行う。"
   ]
  },
  {
   "cell_type": "markdown",
   "metadata": {},
   "source": [
    "```python\n",
    "import re\n",
    "\n",
    "# リクエストを行に分割\n",
    "lines = re.split(\"[\\r\\n]{1,2}\", request)\n",
    "\n",
    "# リクエスト情報の解析\n",
    "pattern = re.compile(\"(GET|POST)\\s+(\\S+?)\\s+HTTP/([0-9\\.]+)\")\n",
    "matches = pattern.match(lines[0])\n",
    "\n",
    "# サブグループの取得\n",
    "http_method = matches.group(1)\n",
    "file_path = matches.group(2)\n",
    "http_version = matches.group(3)\n",
    "\n",
    "if file_path == \"/\":\n",
    "    file_path = \"/index.html\"\n",
    "```"
   ]
  },
  {
   "cell_type": "markdown",
   "metadata": {},
   "source": [
    "リクエストされているファイルについては`/`というディレクトリに対するアクセスである場合には`/index.html`に変換していることに注意してほしい。\n",
    "\n",
    "なお本項では、HTTPメソッドは常にGETであり、HTTPのバージョンはいくつであってもレスポンスは`HTTP/1.0`のルールに従ってデータを返送することとする。"
   ]
  },
  {
   "cell_type": "markdown",
   "metadata": {},
   "source": [
    ":::{admonition} HTTPのバージョン\n",
    ":class: tip\n",
    "\n",
    "HTTPが最初にドキュメント化された時のバージョンであるHTTP/0.9はURLに対してアクセスがあった場合に、ファイルの内容を返送するという単純なプロトコルであったが、HTTP/1.0でHTTPメソッドやステータスコードなどの、ここまでに実装してきた簡易サーバでも一部サポートしたような多くの機能が追加された。さらにHTTP/1.1ではTLS (Transport Layer Security)などがサポートされた。現在の最新のバージョンはHTTP/3であり、UDPを利用して通信の高速化を図りながら、TCPと同様の接続の信頼性を担保するQUICなどの新しいプロトコルがサポートされている。\n",
    "\n",
    "ちなみに、HTTP/1.0であれば、その仕様書もそれほど長くなく、時間を掛ければ読み切れる程度なので、興味のある読者はぜひ原文を見てみてほしい。\n",
    "<https://www.w3.org/Protocols/HTTP/1.0/spec>\n",
    ":::"
   ]
  },
  {
   "cell_type": "markdown",
   "metadata": {},
   "source": [
    "### エラーコードの返送"
   ]
  },
  {
   "cell_type": "markdown",
   "metadata": {},
   "source": [
    "上記のリクエストファイルを適切に読み取る処理を追加すると、ブラウザによっては正しくウェブページが表示される。しかし、`favicon.ico` (ブラウザのタイトル横に表示されるアイコン)などのファイルに対して、勝手にリクエストが送られてしまうと、これまでに実装したサーバはファイルの読み取り例外が発生してダウンしてしまう。"
   ]
  },
  {
   "cell_type": "markdown",
   "metadata": {},
   "source": [
    "この問題を解決するために、ファイルが存在しないなどの理由でファイルの読み取りに失敗した場合に、404などのステータスコードを返送する必要がある。\n",
    "\n",
    "これまでのプログラムでは、ファイルを実際に開いてファイルサイズを取得しているので、この部分でファイルの開閉に失敗したり、別のエラーが発生した場合に404等のステータスコードを返すように変更する。\n",
    "\n",
    "```python\n",
    "try:\n",
    "    with open(file_path, \"rb\") as f:\n",
    "        f.seek(0, os.SEEK_END)\n",
    "        file_size = f.tell()\n",
    "except FileNotFoundError:\n",
    "    response = f\"HTTP/1.0 404 File not found\\r\\n\"\n",
    "    clt_sock.send(response.encode(\"utf-8\"))\n",
    "    continue\n",
    "except PermissionError:\n",
    "    response = f\"HTTP/1.0 403 Forbidden\\r\\n\"\n",
    "    clt_sock.send(response.encode(\"utf-8\"))\n",
    "    continue\n",
    "```\n",
    "\n",
    "上記のコードでは、ファイルが見つからない場合 (`FileNotFoundError`)や、ファイルのパーミッションの問題でファイルのアクセスに失敗した場合 (`PermissionError`)に、レスポンス・ヘッダにステータスコードを入れて、その場で返送している。"
   ]
  },
  {
   "cell_type": "markdown",
   "metadata": {},
   "source": [
    "ここまで実装すれば、以下のように正しく画像が表示され、CSSのデザイン要素が反映されたようなウェブページが表示される。\n",
    "\n",
    "```{image} ./imgs/tama_simple.jpg\n",
    ":width: 50%\n",
    ":align: center\n",
    ":class: with-border\n",
    "```"
   ]
  },
  {
   "cell_type": "markdown",
   "metadata": {},
   "source": [
    "ただし、上記のプログラムでは、ディベロッパツールでファイルを見たときにステータスコードとして404が正しく表示されない。これは、ステータスコードとして200でない場合にも何らかのコンテンツ (例えばエラーページ)を表示することが期待されているためで、実際にはエラーであっても、もう少し丁寧にレスポンス・ヘッダを記述する必要がある。\n",
    "\n",
    "以下、決してクリーンなコードではないが、エラーメッセージをテキストファイルとしてレスポンス・ボディに与えている。"
   ]
  },
  {
   "cell_type": "markdown",
   "metadata": {},
   "source": [
    "```python\n",
    "except FileNotFoundError:\n",
    "    err_msg = \"404 File not found\"\n",
    "    response = \"HTTP/1.0 404 File not found\\r\\n\"\n",
    "    response += f\"Date: {date}\\r\\n\"\n",
    "    response += f\"Server: {SERVER_NAME:s}\\r\\n\"\n",
    "    response += f\"Content-Length: {len(err_msg):d}\\r\\n\"\n",
    "    response += \"Content-Type: text/plain\\r\\n\"\n",
    "    response += \"Connection: close\\r\\n\"\n",
    "    response += \"\\r\\n\"\n",
    "    response += err_msg\n",
    "    clt_sock.send(response.encode(\"utf-8\"))\n",
    "    continue\n",
    "```"
   ]
  },
  {
   "cell_type": "markdown",
   "metadata": {},
   "source": [
    "このようにしてエラー発生時にもレスポンス・ボディを含むHTTPレスポンスを返すようにすると、Chrome等のディベロッパツール上で、`favicon.ico`などのサーバ上に存在しないファイルがステータスコード404で表示されるようになる。"
   ]
  },
  {
   "cell_type": "markdown",
   "metadata": {},
   "source": [
    "```{image} ./imgs/error_recognized.jpg\n",
    ":width: 80%\n",
    ":align: center\n",
    "```"
   ]
  },
  {
   "cell_type": "markdown",
   "metadata": {},
   "source": [
    ":::{admonition} マルチスレッド化\n",
    ":class: note\n",
    "\n",
    "通常のウェブサーバはHTTPリクエストを受信したら、クライアントのソケットを生成後、レスポンス生成の処理を並行計算(並列計算とは微妙に意味合いが異なる)により処理する。これにより、ウェブサーバに多数のHTTPリクエストが来たとしても、それを一つずつ処理のではなく、多数のリクエストを同時に処理することが可能となっている。\n",
    "\n",
    "今回作成したサーバにおいて並行処理を有効化するには、`clt_sock`と`clt_addr`が生成されたあとの処理を`handle_client`のような関数として別に定義し、\n",
    "\n",
    "```python\n",
    "thread = Thread(target=handle_client, args=(clt_sock, clt_addr), daemon=True)\n",
    "thread.start()\n",
    "```\n",
    "\n",
    "のようにして、レスポンス処理を別スレッドで開始すれば良い。\n",
    ":::"
   ]
  },
  {
   "cell_type": "markdown",
   "metadata": {},
   "source": [
    "(ssec:web-application)=\n",
    "## ウェブ・アプリケーション"
   ]
  },
  {
   "cell_type": "markdown",
   "metadata": {},
   "source": [
    "ここまでは、`index.html`や`style.css`のように、サーバルートである`public_html`に実在するファイルをレスポンス・ボディとして返送する「普通のウェブサーバ」を実装してきた。\n",
    "\n",
    "しかし、ここまでのプログラムから分かる通り、サーバから配信されるレスポンスはレスポンス・ヘッダとレスポンス・ボディの情報が対応してさえいれば、必ずしも実在するファイルの内容を返す必要はない。\n",
    "\n",
    "実際、世の中でウェブ・アプリケーションと呼ばれるものは、必ずしも実在するHTMLファイルを返送しているわけではなく、HTMLファイル自体をリクエストに応じて動的に生成したり、アプリケーション・プログラミング・インターフェース (API)のように、特定のURIにプログラムの機能を割り当てたりしている。"
   ]
  },
  {
   "cell_type": "markdown",
   "metadata": {},
   "source": [
    "一例として、`localhost:8080/cat`にアクセスしたら猫の画像、`localhost:8080/dog`にアクセスしたら犬の画像、`localhost:8080/random`にアクセスしたらランダムに猫か犬の画像、といったようにURIによって表示するウェブページを切り替えるなどのアプリケーションが考えられるだろう。"
   ]
  },
  {
   "cell_type": "markdown",
   "metadata": {},
   "source": [
    "```{image} ./imgs/dog_page.jpg\n",
    ":width: 70%\n",
    ":align: center\n",
    ":class: with-border\n",
    "```"
   ]
  },
  {
   "cell_type": "markdown",
   "metadata": {},
   "source": [
    "画像の出典: <https://www.pakutaso.com/20220623159post-40215.html>"
   ]
  },
  {
   "cell_type": "markdown",
   "metadata": {},
   "source": [
    "## 練習問題"
   ]
  },
  {
   "cell_type": "markdown",
   "metadata": {},
   "source": [
    ":::{card}\n",
    "**問1**\n",
    "^^^\n",
    "\n",
    "これまでの説明に従い、正しく演習用のウェブページを配信できる簡易サーバを実装せよ。\n",
    ":::"
   ]
  },
  {
   "cell_type": "markdown",
   "metadata": {},
   "source": [
    ":::{card}\n",
    "**問2**\n",
    "^^^\n",
    "\n",
    "[ウェブ・アプリケーション](ssec:web-application)に示した内容に沿って、URIに合わせて適当なウェブページを配信するウェブ・アプリケーションを作成せよ。\n",
    ":::"
   ]
  },
  {
   "cell_type": "markdown",
   "metadata": {},
   "source": []
  }
 ],
 "metadata": {
  "kernelspec": {
   "display_name": "sdsprog2-csSomh0A-py3.11",
   "language": "python",
   "name": "python3"
  },
  "language_info": {
   "codemirror_mode": {
    "name": "ipython",
    "version": 3
   },
   "file_extension": ".py",
   "mimetype": "text/x-python",
   "name": "python",
   "nbconvert_exporter": "python",
   "pygments_lexer": "ipython3",
   "version": "3.11.9"
  }
 },
 "nbformat": 4,
 "nbformat_minor": 2
}
